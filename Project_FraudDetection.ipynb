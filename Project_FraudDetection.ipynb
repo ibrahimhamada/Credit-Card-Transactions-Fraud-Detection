{
  "cells": [
    {
      "cell_type": "markdown",
      "metadata": {
        "id": "cvYvQhL6cYTi"
      },
      "source": [
        "# Import Libraries"
      ]
    },
    {
      "cell_type": "code",
      "execution_count": null,
      "metadata": {
        "id": "h5YbqsGpOxm9"
      },
      "outputs": [],
      "source": [
        "import numpy as np\n",
        "from collections import Counter\n",
        "from scipy import stats\n",
        "from math import log2, sqrt\n",
        "import pandas as pd\n",
        "from sklearn.preprocessing import LabelEncoder\n",
        "from sklearn.tree import DecisionTreeClassifier\n",
        "from scipy import stats\n",
        "import seaborn as sns\n",
        "from sklearn import metrics\n",
        "from sklearn import preprocessing\n",
        "import matplotlib\n",
        "import matplotlib.pyplot as plt\n",
        "import six\n",
        "import random\n",
        "random.seed(0)\n",
        "from sklearn.model_selection import train_test_split, cross_val_score, GridSearchCV\n",
        "from sklearn.linear_model import LogisticRegression\n",
        "from sklearn.metrics import roc_curve\n",
        "from sklearn.feature_selection import RFE\n",
        "from sklearn.impute import KNNImputer\n",
        "from sklearn.preprocessing import StandardScaler\n",
        "from sklearn.preprocessing import OneHotEncoder\n",
        "from sklearn.metrics import mean_squared_error\n",
        "from sklearn.metrics import r2_score\n",
        "from sklearn.compose import ColumnTransformer\n",
        "from sklearn.preprocessing import QuantileTransformer\n",
        "pd.options.display.max_columns = 100\n",
        "pd.options.display.max_rows = 900\n",
        "pd.set_option('float_format', '{:f}'.format)\n",
        "import matplotlib.patches as mpatches\n",
        "import time\n",
        "from imblearn.over_sampling import SMOTE\n",
        "from imblearn.metrics import classification_report_imbalanced\n",
        "from sklearn.metrics import precision_score, recall_score, f1_score, roc_auc_score, accuracy_score, classification_report, cohen_kappa_score,auc\n",
        "from collections import Counter\n",
        "from sklearn.model_selection import KFold, StratifiedKFold\n",
        "from sklearn.cluster import KMeans\n",
        "import warnings\n",
        "warnings.filterwarnings(\"ignore\")\n",
        "from sklearn.ensemble import RandomForestClassifier\n",
        "from sklearn.tree import DecisionTreeClassifier\n",
        "from sklearn.linear_model import LogisticRegression\n",
        "from sklearn.metrics import confusion_matrix, precision_score, recall_score, f1_score, confusion_matrix, precision_recall_curve, accuracy_score \n",
        "from imblearn.over_sampling import SMOTE\n",
        "import copy\n",
        "from sklearn.preprocessing import OrdinalEncoder\n",
        "from sklearn import tree\n",
        "from sklearn.metrics import roc_auc_score\n"
      ]
    },
    {
      "cell_type": "markdown",
      "metadata": {
        "id": "TcbElNKlcoaT"
      },
      "source": [
        "# **1) Load Data**"
      ]
    },
    {
      "cell_type": "code",
      "execution_count": null,
      "metadata": {
        "colab": {
          "base_uri": "https://localhost:8080/"
        },
        "id": "IbyzoVbFgxxH",
        "outputId": "4ef2940b-3394-400b-b749-cddd6c15dc30"
      },
      "outputs": [
        {
          "output_type": "stream",
          "name": "stdout",
          "text": [
            "Mounted at /content/drive\n"
          ]
        }
      ],
      "source": [
        "from google.colab import drive\n",
        "drive.mount('/content/drive')"
      ]
    },
    {
      "cell_type": "markdown",
      "metadata": {
        "id": "_Jz8KwGr99dV"
      },
      "source": [
        "# About the Dataset\n",
        "**This is a simulated credit card transaction dataset containing legitimate and fraud transactions from the duration 1st Jan 2019 - 31st Dec 2020. It covers credit cards of 1000 customers doing transactions with a pool of 800 merchants.**"
      ]
    },
    {
      "cell_type": "markdown",
      "metadata": {
        "id": "CvBYy7Zy-Gbc"
      },
      "source": [
        "# Data Description\n",
        "\n",
        "\n",
        "*   **trans_date_trans_time**: date and time of the transaction\n",
        "*   **cc_num:** credit card number of customer\n",
        "*   **merchant:** customer is paying to which merchant(like Amazon, Walmart)\n",
        "*   **category:**\n",
        "*   **amt:** the amount of transaction\n",
        "*   **first:** first name of customer\n",
        "*   **last:** last anme of customer\n",
        "*   **gender:** gender of the customer\n",
        "*   **street,city,state:** address of the customer\n",
        "*   **zip:** zip code of the transaction\n",
        "*   **lat:** latitude of the customer\n",
        "*   **long:** longitude of customer\n",
        "*   **city_pop:** population of the city he is living\n",
        "*   **job:** job of cus\n",
        "*   **dob:** date of birth of the customer\n",
        "*   **trans_num:** unique transaction number for each and every transaction\n",
        "*   **unix_time:** time of the transaction in Unix( generally not used in our analysis as it is unique mostly)\n",
        "*   **merch_lat:** merchant lattitude\n",
        "*   **merch_long:** merchant longitude\n",
        "*   **is_fraud:** whether transaction is fraud or no (1- fraud, 0- not fraud)\n",
        "\n"
      ]
    },
    {
      "cell_type": "code",
      "execution_count": null,
      "metadata": {
        "id": "W3_jpTMGh1EY"
      },
      "outputs": [],
      "source": [
        "df_train = pd.read_csv(\"/content/drive/MyDrive/ML Project/fraudTrain.csv\")\n",
        "df_test = pd.read_csv(\"/content/drive/MyDrive/ML Project/fraudTest.csv\")"
      ]
    },
    {
      "cell_type": "code",
      "execution_count": null,
      "metadata": {
        "colab": {
          "base_uri": "https://localhost:8080/",
          "height": 565
        },
        "id": "wJ0pM_ziiGg2",
        "outputId": "43f4ff1b-766e-4856-f2fd-0bc947d99018"
      },
      "outputs": [
        {
          "output_type": "execute_result",
          "data": {
            "text/html": [
              "\n",
              "  <div id=\"df-4ff60f8e-f7d5-4109-8374-2fbe5a4ce9db\">\n",
              "    <div class=\"colab-df-container\">\n",
              "      <div>\n",
              "<style scoped>\n",
              "    .dataframe tbody tr th:only-of-type {\n",
              "        vertical-align: middle;\n",
              "    }\n",
              "\n",
              "    .dataframe tbody tr th {\n",
              "        vertical-align: top;\n",
              "    }\n",
              "\n",
              "    .dataframe thead th {\n",
              "        text-align: right;\n",
              "    }\n",
              "</style>\n",
              "<table border=\"1\" class=\"dataframe\">\n",
              "  <thead>\n",
              "    <tr style=\"text-align: right;\">\n",
              "      <th></th>\n",
              "      <th>Unnamed: 0</th>\n",
              "      <th>trans_date_trans_time</th>\n",
              "      <th>cc_num</th>\n",
              "      <th>merchant</th>\n",
              "      <th>category</th>\n",
              "      <th>amt</th>\n",
              "      <th>first</th>\n",
              "      <th>last</th>\n",
              "      <th>gender</th>\n",
              "      <th>street</th>\n",
              "      <th>city</th>\n",
              "      <th>state</th>\n",
              "      <th>zip</th>\n",
              "      <th>lat</th>\n",
              "      <th>long</th>\n",
              "      <th>city_pop</th>\n",
              "      <th>job</th>\n",
              "      <th>dob</th>\n",
              "      <th>trans_num</th>\n",
              "      <th>unix_time</th>\n",
              "      <th>merch_lat</th>\n",
              "      <th>merch_long</th>\n",
              "      <th>is_fraud</th>\n",
              "    </tr>\n",
              "  </thead>\n",
              "  <tbody>\n",
              "    <tr>\n",
              "      <th>0</th>\n",
              "      <td>0</td>\n",
              "      <td>2019-01-01 00:00:18</td>\n",
              "      <td>2703186189652095</td>\n",
              "      <td>fraud_Rippin, Kub and Mann</td>\n",
              "      <td>misc_net</td>\n",
              "      <td>4.970000</td>\n",
              "      <td>Jennifer</td>\n",
              "      <td>Banks</td>\n",
              "      <td>F</td>\n",
              "      <td>561 Perry Cove</td>\n",
              "      <td>Moravian Falls</td>\n",
              "      <td>NC</td>\n",
              "      <td>28654</td>\n",
              "      <td>36.078800</td>\n",
              "      <td>-81.178100</td>\n",
              "      <td>3495</td>\n",
              "      <td>Psychologist, counselling</td>\n",
              "      <td>1988-03-09</td>\n",
              "      <td>0b242abb623afc578575680df30655b9</td>\n",
              "      <td>1325376018</td>\n",
              "      <td>36.011293</td>\n",
              "      <td>-82.048315</td>\n",
              "      <td>0</td>\n",
              "    </tr>\n",
              "    <tr>\n",
              "      <th>1</th>\n",
              "      <td>1</td>\n",
              "      <td>2019-01-01 00:00:44</td>\n",
              "      <td>630423337322</td>\n",
              "      <td>fraud_Heller, Gutmann and Zieme</td>\n",
              "      <td>grocery_pos</td>\n",
              "      <td>107.230000</td>\n",
              "      <td>Stephanie</td>\n",
              "      <td>Gill</td>\n",
              "      <td>F</td>\n",
              "      <td>43039 Riley Greens Suite 393</td>\n",
              "      <td>Orient</td>\n",
              "      <td>WA</td>\n",
              "      <td>99160</td>\n",
              "      <td>48.887800</td>\n",
              "      <td>-118.210500</td>\n",
              "      <td>149</td>\n",
              "      <td>Special educational needs teacher</td>\n",
              "      <td>1978-06-21</td>\n",
              "      <td>1f76529f8574734946361c461b024d99</td>\n",
              "      <td>1325376044</td>\n",
              "      <td>49.159047</td>\n",
              "      <td>-118.186462</td>\n",
              "      <td>0</td>\n",
              "    </tr>\n",
              "    <tr>\n",
              "      <th>2</th>\n",
              "      <td>2</td>\n",
              "      <td>2019-01-01 00:00:51</td>\n",
              "      <td>38859492057661</td>\n",
              "      <td>fraud_Lind-Buckridge</td>\n",
              "      <td>entertainment</td>\n",
              "      <td>220.110000</td>\n",
              "      <td>Edward</td>\n",
              "      <td>Sanchez</td>\n",
              "      <td>M</td>\n",
              "      <td>594 White Dale Suite 530</td>\n",
              "      <td>Malad City</td>\n",
              "      <td>ID</td>\n",
              "      <td>83252</td>\n",
              "      <td>42.180800</td>\n",
              "      <td>-112.262000</td>\n",
              "      <td>4154</td>\n",
              "      <td>Nature conservation officer</td>\n",
              "      <td>1962-01-19</td>\n",
              "      <td>a1a22d70485983eac12b5b88dad1cf95</td>\n",
              "      <td>1325376051</td>\n",
              "      <td>43.150704</td>\n",
              "      <td>-112.154481</td>\n",
              "      <td>0</td>\n",
              "    </tr>\n",
              "    <tr>\n",
              "      <th>3</th>\n",
              "      <td>3</td>\n",
              "      <td>2019-01-01 00:01:16</td>\n",
              "      <td>3534093764340240</td>\n",
              "      <td>fraud_Kutch, Hermiston and Farrell</td>\n",
              "      <td>gas_transport</td>\n",
              "      <td>45.000000</td>\n",
              "      <td>Jeremy</td>\n",
              "      <td>White</td>\n",
              "      <td>M</td>\n",
              "      <td>9443 Cynthia Court Apt. 038</td>\n",
              "      <td>Boulder</td>\n",
              "      <td>MT</td>\n",
              "      <td>59632</td>\n",
              "      <td>46.230600</td>\n",
              "      <td>-112.113800</td>\n",
              "      <td>1939</td>\n",
              "      <td>Patent attorney</td>\n",
              "      <td>1967-01-12</td>\n",
              "      <td>6b849c168bdad6f867558c3793159a81</td>\n",
              "      <td>1325376076</td>\n",
              "      <td>47.034331</td>\n",
              "      <td>-112.561071</td>\n",
              "      <td>0</td>\n",
              "    </tr>\n",
              "    <tr>\n",
              "      <th>4</th>\n",
              "      <td>4</td>\n",
              "      <td>2019-01-01 00:03:06</td>\n",
              "      <td>375534208663984</td>\n",
              "      <td>fraud_Keeling-Crist</td>\n",
              "      <td>misc_pos</td>\n",
              "      <td>41.960000</td>\n",
              "      <td>Tyler</td>\n",
              "      <td>Garcia</td>\n",
              "      <td>M</td>\n",
              "      <td>408 Bradley Rest</td>\n",
              "      <td>Doe Hill</td>\n",
              "      <td>VA</td>\n",
              "      <td>24433</td>\n",
              "      <td>38.420700</td>\n",
              "      <td>-79.462900</td>\n",
              "      <td>99</td>\n",
              "      <td>Dance movement psychotherapist</td>\n",
              "      <td>1986-03-28</td>\n",
              "      <td>a41d7549acf90789359a9aa5346dcb46</td>\n",
              "      <td>1325376186</td>\n",
              "      <td>38.674999</td>\n",
              "      <td>-78.632459</td>\n",
              "      <td>0</td>\n",
              "    </tr>\n",
              "  </tbody>\n",
              "</table>\n",
              "</div>\n",
              "      <button class=\"colab-df-convert\" onclick=\"convertToInteractive('df-4ff60f8e-f7d5-4109-8374-2fbe5a4ce9db')\"\n",
              "              title=\"Convert this dataframe to an interactive table.\"\n",
              "              style=\"display:none;\">\n",
              "        \n",
              "  <svg xmlns=\"http://www.w3.org/2000/svg\" height=\"24px\"viewBox=\"0 0 24 24\"\n",
              "       width=\"24px\">\n",
              "    <path d=\"M0 0h24v24H0V0z\" fill=\"none\"/>\n",
              "    <path d=\"M18.56 5.44l.94 2.06.94-2.06 2.06-.94-2.06-.94-.94-2.06-.94 2.06-2.06.94zm-11 1L8.5 8.5l.94-2.06 2.06-.94-2.06-.94L8.5 2.5l-.94 2.06-2.06.94zm10 10l.94 2.06.94-2.06 2.06-.94-2.06-.94-.94-2.06-.94 2.06-2.06.94z\"/><path d=\"M17.41 7.96l-1.37-1.37c-.4-.4-.92-.59-1.43-.59-.52 0-1.04.2-1.43.59L10.3 9.45l-7.72 7.72c-.78.78-.78 2.05 0 2.83L4 21.41c.39.39.9.59 1.41.59.51 0 1.02-.2 1.41-.59l7.78-7.78 2.81-2.81c.8-.78.8-2.07 0-2.86zM5.41 20L4 18.59l7.72-7.72 1.47 1.35L5.41 20z\"/>\n",
              "  </svg>\n",
              "      </button>\n",
              "      \n",
              "  <style>\n",
              "    .colab-df-container {\n",
              "      display:flex;\n",
              "      flex-wrap:wrap;\n",
              "      gap: 12px;\n",
              "    }\n",
              "\n",
              "    .colab-df-convert {\n",
              "      background-color: #E8F0FE;\n",
              "      border: none;\n",
              "      border-radius: 50%;\n",
              "      cursor: pointer;\n",
              "      display: none;\n",
              "      fill: #1967D2;\n",
              "      height: 32px;\n",
              "      padding: 0 0 0 0;\n",
              "      width: 32px;\n",
              "    }\n",
              "\n",
              "    .colab-df-convert:hover {\n",
              "      background-color: #E2EBFA;\n",
              "      box-shadow: 0px 1px 2px rgba(60, 64, 67, 0.3), 0px 1px 3px 1px rgba(60, 64, 67, 0.15);\n",
              "      fill: #174EA6;\n",
              "    }\n",
              "\n",
              "    [theme=dark] .colab-df-convert {\n",
              "      background-color: #3B4455;\n",
              "      fill: #D2E3FC;\n",
              "    }\n",
              "\n",
              "    [theme=dark] .colab-df-convert:hover {\n",
              "      background-color: #434B5C;\n",
              "      box-shadow: 0px 1px 3px 1px rgba(0, 0, 0, 0.15);\n",
              "      filter: drop-shadow(0px 1px 2px rgba(0, 0, 0, 0.3));\n",
              "      fill: #FFFFFF;\n",
              "    }\n",
              "  </style>\n",
              "\n",
              "      <script>\n",
              "        const buttonEl =\n",
              "          document.querySelector('#df-4ff60f8e-f7d5-4109-8374-2fbe5a4ce9db button.colab-df-convert');\n",
              "        buttonEl.style.display =\n",
              "          google.colab.kernel.accessAllowed ? 'block' : 'none';\n",
              "\n",
              "        async function convertToInteractive(key) {\n",
              "          const element = document.querySelector('#df-4ff60f8e-f7d5-4109-8374-2fbe5a4ce9db');\n",
              "          const dataTable =\n",
              "            await google.colab.kernel.invokeFunction('convertToInteractive',\n",
              "                                                     [key], {});\n",
              "          if (!dataTable) return;\n",
              "\n",
              "          const docLinkHtml = 'Like what you see? Visit the ' +\n",
              "            '<a target=\"_blank\" href=https://colab.research.google.com/notebooks/data_table.ipynb>data table notebook</a>'\n",
              "            + ' to learn more about interactive tables.';\n",
              "          element.innerHTML = '';\n",
              "          dataTable['output_type'] = 'display_data';\n",
              "          await google.colab.output.renderOutput(dataTable, element);\n",
              "          const docLink = document.createElement('div');\n",
              "          docLink.innerHTML = docLinkHtml;\n",
              "          element.appendChild(docLink);\n",
              "        }\n",
              "      </script>\n",
              "    </div>\n",
              "  </div>\n",
              "  "
            ],
            "text/plain": [
              "   Unnamed: 0 trans_date_trans_time            cc_num  \\\n",
              "0           0   2019-01-01 00:00:18  2703186189652095   \n",
              "1           1   2019-01-01 00:00:44      630423337322   \n",
              "2           2   2019-01-01 00:00:51    38859492057661   \n",
              "3           3   2019-01-01 00:01:16  3534093764340240   \n",
              "4           4   2019-01-01 00:03:06   375534208663984   \n",
              "\n",
              "                             merchant       category        amt      first  \\\n",
              "0          fraud_Rippin, Kub and Mann       misc_net   4.970000   Jennifer   \n",
              "1     fraud_Heller, Gutmann and Zieme    grocery_pos 107.230000  Stephanie   \n",
              "2                fraud_Lind-Buckridge  entertainment 220.110000     Edward   \n",
              "3  fraud_Kutch, Hermiston and Farrell  gas_transport  45.000000     Jeremy   \n",
              "4                 fraud_Keeling-Crist       misc_pos  41.960000      Tyler   \n",
              "\n",
              "      last gender                        street            city state    zip  \\\n",
              "0    Banks      F                561 Perry Cove  Moravian Falls    NC  28654   \n",
              "1     Gill      F  43039 Riley Greens Suite 393          Orient    WA  99160   \n",
              "2  Sanchez      M      594 White Dale Suite 530      Malad City    ID  83252   \n",
              "3    White      M   9443 Cynthia Court Apt. 038         Boulder    MT  59632   \n",
              "4   Garcia      M              408 Bradley Rest        Doe Hill    VA  24433   \n",
              "\n",
              "        lat        long  city_pop                                job  \\\n",
              "0 36.078800  -81.178100      3495          Psychologist, counselling   \n",
              "1 48.887800 -118.210500       149  Special educational needs teacher   \n",
              "2 42.180800 -112.262000      4154        Nature conservation officer   \n",
              "3 46.230600 -112.113800      1939                    Patent attorney   \n",
              "4 38.420700  -79.462900        99     Dance movement psychotherapist   \n",
              "\n",
              "          dob                         trans_num   unix_time  merch_lat  \\\n",
              "0  1988-03-09  0b242abb623afc578575680df30655b9  1325376018  36.011293   \n",
              "1  1978-06-21  1f76529f8574734946361c461b024d99  1325376044  49.159047   \n",
              "2  1962-01-19  a1a22d70485983eac12b5b88dad1cf95  1325376051  43.150704   \n",
              "3  1967-01-12  6b849c168bdad6f867558c3793159a81  1325376076  47.034331   \n",
              "4  1986-03-28  a41d7549acf90789359a9aa5346dcb46  1325376186  38.674999   \n",
              "\n",
              "   merch_long  is_fraud  \n",
              "0  -82.048315         0  \n",
              "1 -118.186462         0  \n",
              "2 -112.154481         0  \n",
              "3 -112.561071         0  \n",
              "4  -78.632459         0  "
            ]
          },
          "metadata": {},
          "execution_count": 5
        }
      ],
      "source": [
        "df_train.head()"
      ]
    },
    {
      "cell_type": "code",
      "execution_count": null,
      "metadata": {
        "colab": {
          "base_uri": "https://localhost:8080/",
          "height": 495
        },
        "id": "cftqLI10rmhe",
        "outputId": "9e0957f6-680b-448f-ef3f-43761ab42ce7"
      },
      "outputs": [
        {
          "output_type": "execute_result",
          "data": {
            "text/html": [
              "\n",
              "  <div id=\"df-604cd292-bf8e-4d42-b874-dc3eec9ea2ce\">\n",
              "    <div class=\"colab-df-container\">\n",
              "      <div>\n",
              "<style scoped>\n",
              "    .dataframe tbody tr th:only-of-type {\n",
              "        vertical-align: middle;\n",
              "    }\n",
              "\n",
              "    .dataframe tbody tr th {\n",
              "        vertical-align: top;\n",
              "    }\n",
              "\n",
              "    .dataframe thead th {\n",
              "        text-align: right;\n",
              "    }\n",
              "</style>\n",
              "<table border=\"1\" class=\"dataframe\">\n",
              "  <thead>\n",
              "    <tr style=\"text-align: right;\">\n",
              "      <th></th>\n",
              "      <th>Unnamed: 0</th>\n",
              "      <th>trans_date_trans_time</th>\n",
              "      <th>cc_num</th>\n",
              "      <th>merchant</th>\n",
              "      <th>category</th>\n",
              "      <th>amt</th>\n",
              "      <th>first</th>\n",
              "      <th>last</th>\n",
              "      <th>gender</th>\n",
              "      <th>street</th>\n",
              "      <th>city</th>\n",
              "      <th>state</th>\n",
              "      <th>zip</th>\n",
              "      <th>lat</th>\n",
              "      <th>long</th>\n",
              "      <th>city_pop</th>\n",
              "      <th>job</th>\n",
              "      <th>dob</th>\n",
              "      <th>trans_num</th>\n",
              "      <th>unix_time</th>\n",
              "      <th>merch_lat</th>\n",
              "      <th>merch_long</th>\n",
              "      <th>is_fraud</th>\n",
              "    </tr>\n",
              "  </thead>\n",
              "  <tbody>\n",
              "    <tr>\n",
              "      <th>0</th>\n",
              "      <td>0</td>\n",
              "      <td>2020-06-21 12:14:25</td>\n",
              "      <td>2291163933867244</td>\n",
              "      <td>fraud_Kirlin and Sons</td>\n",
              "      <td>personal_care</td>\n",
              "      <td>2.860000</td>\n",
              "      <td>Jeff</td>\n",
              "      <td>Elliott</td>\n",
              "      <td>M</td>\n",
              "      <td>351 Darlene Green</td>\n",
              "      <td>Columbia</td>\n",
              "      <td>SC</td>\n",
              "      <td>29209</td>\n",
              "      <td>33.965900</td>\n",
              "      <td>-80.935500</td>\n",
              "      <td>333497</td>\n",
              "      <td>Mechanical engineer</td>\n",
              "      <td>1968-03-19</td>\n",
              "      <td>2da90c7d74bd46a0caf3777415b3ebd3</td>\n",
              "      <td>1371816865</td>\n",
              "      <td>33.986391</td>\n",
              "      <td>-81.200714</td>\n",
              "      <td>0</td>\n",
              "    </tr>\n",
              "    <tr>\n",
              "      <th>1</th>\n",
              "      <td>1</td>\n",
              "      <td>2020-06-21 12:14:33</td>\n",
              "      <td>3573030041201292</td>\n",
              "      <td>fraud_Sporer-Keebler</td>\n",
              "      <td>personal_care</td>\n",
              "      <td>29.840000</td>\n",
              "      <td>Joanne</td>\n",
              "      <td>Williams</td>\n",
              "      <td>F</td>\n",
              "      <td>3638 Marsh Union</td>\n",
              "      <td>Altonah</td>\n",
              "      <td>UT</td>\n",
              "      <td>84002</td>\n",
              "      <td>40.320700</td>\n",
              "      <td>-110.436000</td>\n",
              "      <td>302</td>\n",
              "      <td>Sales professional, IT</td>\n",
              "      <td>1990-01-17</td>\n",
              "      <td>324cc204407e99f51b0d6ca0055005e7</td>\n",
              "      <td>1371816873</td>\n",
              "      <td>39.450498</td>\n",
              "      <td>-109.960431</td>\n",
              "      <td>0</td>\n",
              "    </tr>\n",
              "    <tr>\n",
              "      <th>2</th>\n",
              "      <td>2</td>\n",
              "      <td>2020-06-21 12:14:53</td>\n",
              "      <td>3598215285024754</td>\n",
              "      <td>fraud_Swaniawski, Nitzsche and Welch</td>\n",
              "      <td>health_fitness</td>\n",
              "      <td>41.280000</td>\n",
              "      <td>Ashley</td>\n",
              "      <td>Lopez</td>\n",
              "      <td>F</td>\n",
              "      <td>9333 Valentine Point</td>\n",
              "      <td>Bellmore</td>\n",
              "      <td>NY</td>\n",
              "      <td>11710</td>\n",
              "      <td>40.672900</td>\n",
              "      <td>-73.536500</td>\n",
              "      <td>34496</td>\n",
              "      <td>Librarian, public</td>\n",
              "      <td>1970-10-21</td>\n",
              "      <td>c81755dbbbea9d5c77f094348a7579be</td>\n",
              "      <td>1371816893</td>\n",
              "      <td>40.495810</td>\n",
              "      <td>-74.196111</td>\n",
              "      <td>0</td>\n",
              "    </tr>\n",
              "    <tr>\n",
              "      <th>3</th>\n",
              "      <td>3</td>\n",
              "      <td>2020-06-21 12:15:15</td>\n",
              "      <td>3591919803438423</td>\n",
              "      <td>fraud_Haley Group</td>\n",
              "      <td>misc_pos</td>\n",
              "      <td>60.050000</td>\n",
              "      <td>Brian</td>\n",
              "      <td>Williams</td>\n",
              "      <td>M</td>\n",
              "      <td>32941 Krystal Mill Apt. 552</td>\n",
              "      <td>Titusville</td>\n",
              "      <td>FL</td>\n",
              "      <td>32780</td>\n",
              "      <td>28.569700</td>\n",
              "      <td>-80.819100</td>\n",
              "      <td>54767</td>\n",
              "      <td>Set designer</td>\n",
              "      <td>1987-07-25</td>\n",
              "      <td>2159175b9efe66dc301f149d3d5abf8c</td>\n",
              "      <td>1371816915</td>\n",
              "      <td>28.812398</td>\n",
              "      <td>-80.883061</td>\n",
              "      <td>0</td>\n",
              "    </tr>\n",
              "    <tr>\n",
              "      <th>4</th>\n",
              "      <td>4</td>\n",
              "      <td>2020-06-21 12:15:17</td>\n",
              "      <td>3526826139003047</td>\n",
              "      <td>fraud_Johnston-Casper</td>\n",
              "      <td>travel</td>\n",
              "      <td>3.190000</td>\n",
              "      <td>Nathan</td>\n",
              "      <td>Massey</td>\n",
              "      <td>M</td>\n",
              "      <td>5783 Evan Roads Apt. 465</td>\n",
              "      <td>Falmouth</td>\n",
              "      <td>MI</td>\n",
              "      <td>49632</td>\n",
              "      <td>44.252900</td>\n",
              "      <td>-85.017000</td>\n",
              "      <td>1126</td>\n",
              "      <td>Furniture designer</td>\n",
              "      <td>1955-07-06</td>\n",
              "      <td>57ff021bd3f328f8738bb535c302a31b</td>\n",
              "      <td>1371816917</td>\n",
              "      <td>44.959148</td>\n",
              "      <td>-85.884734</td>\n",
              "      <td>0</td>\n",
              "    </tr>\n",
              "  </tbody>\n",
              "</table>\n",
              "</div>\n",
              "      <button class=\"colab-df-convert\" onclick=\"convertToInteractive('df-604cd292-bf8e-4d42-b874-dc3eec9ea2ce')\"\n",
              "              title=\"Convert this dataframe to an interactive table.\"\n",
              "              style=\"display:none;\">\n",
              "        \n",
              "  <svg xmlns=\"http://www.w3.org/2000/svg\" height=\"24px\"viewBox=\"0 0 24 24\"\n",
              "       width=\"24px\">\n",
              "    <path d=\"M0 0h24v24H0V0z\" fill=\"none\"/>\n",
              "    <path d=\"M18.56 5.44l.94 2.06.94-2.06 2.06-.94-2.06-.94-.94-2.06-.94 2.06-2.06.94zm-11 1L8.5 8.5l.94-2.06 2.06-.94-2.06-.94L8.5 2.5l-.94 2.06-2.06.94zm10 10l.94 2.06.94-2.06 2.06-.94-2.06-.94-.94-2.06-.94 2.06-2.06.94z\"/><path d=\"M17.41 7.96l-1.37-1.37c-.4-.4-.92-.59-1.43-.59-.52 0-1.04.2-1.43.59L10.3 9.45l-7.72 7.72c-.78.78-.78 2.05 0 2.83L4 21.41c.39.39.9.59 1.41.59.51 0 1.02-.2 1.41-.59l7.78-7.78 2.81-2.81c.8-.78.8-2.07 0-2.86zM5.41 20L4 18.59l7.72-7.72 1.47 1.35L5.41 20z\"/>\n",
              "  </svg>\n",
              "      </button>\n",
              "      \n",
              "  <style>\n",
              "    .colab-df-container {\n",
              "      display:flex;\n",
              "      flex-wrap:wrap;\n",
              "      gap: 12px;\n",
              "    }\n",
              "\n",
              "    .colab-df-convert {\n",
              "      background-color: #E8F0FE;\n",
              "      border: none;\n",
              "      border-radius: 50%;\n",
              "      cursor: pointer;\n",
              "      display: none;\n",
              "      fill: #1967D2;\n",
              "      height: 32px;\n",
              "      padding: 0 0 0 0;\n",
              "      width: 32px;\n",
              "    }\n",
              "\n",
              "    .colab-df-convert:hover {\n",
              "      background-color: #E2EBFA;\n",
              "      box-shadow: 0px 1px 2px rgba(60, 64, 67, 0.3), 0px 1px 3px 1px rgba(60, 64, 67, 0.15);\n",
              "      fill: #174EA6;\n",
              "    }\n",
              "\n",
              "    [theme=dark] .colab-df-convert {\n",
              "      background-color: #3B4455;\n",
              "      fill: #D2E3FC;\n",
              "    }\n",
              "\n",
              "    [theme=dark] .colab-df-convert:hover {\n",
              "      background-color: #434B5C;\n",
              "      box-shadow: 0px 1px 3px 1px rgba(0, 0, 0, 0.15);\n",
              "      filter: drop-shadow(0px 1px 2px rgba(0, 0, 0, 0.3));\n",
              "      fill: #FFFFFF;\n",
              "    }\n",
              "  </style>\n",
              "\n",
              "      <script>\n",
              "        const buttonEl =\n",
              "          document.querySelector('#df-604cd292-bf8e-4d42-b874-dc3eec9ea2ce button.colab-df-convert');\n",
              "        buttonEl.style.display =\n",
              "          google.colab.kernel.accessAllowed ? 'block' : 'none';\n",
              "\n",
              "        async function convertToInteractive(key) {\n",
              "          const element = document.querySelector('#df-604cd292-bf8e-4d42-b874-dc3eec9ea2ce');\n",
              "          const dataTable =\n",
              "            await google.colab.kernel.invokeFunction('convertToInteractive',\n",
              "                                                     [key], {});\n",
              "          if (!dataTable) return;\n",
              "\n",
              "          const docLinkHtml = 'Like what you see? Visit the ' +\n",
              "            '<a target=\"_blank\" href=https://colab.research.google.com/notebooks/data_table.ipynb>data table notebook</a>'\n",
              "            + ' to learn more about interactive tables.';\n",
              "          element.innerHTML = '';\n",
              "          dataTable['output_type'] = 'display_data';\n",
              "          await google.colab.output.renderOutput(dataTable, element);\n",
              "          const docLink = document.createElement('div');\n",
              "          docLink.innerHTML = docLinkHtml;\n",
              "          element.appendChild(docLink);\n",
              "        }\n",
              "      </script>\n",
              "    </div>\n",
              "  </div>\n",
              "  "
            ],
            "text/plain": [
              "   Unnamed: 0 trans_date_trans_time            cc_num  \\\n",
              "0           0   2020-06-21 12:14:25  2291163933867244   \n",
              "1           1   2020-06-21 12:14:33  3573030041201292   \n",
              "2           2   2020-06-21 12:14:53  3598215285024754   \n",
              "3           3   2020-06-21 12:15:15  3591919803438423   \n",
              "4           4   2020-06-21 12:15:17  3526826139003047   \n",
              "\n",
              "                               merchant        category       amt   first  \\\n",
              "0                 fraud_Kirlin and Sons   personal_care  2.860000    Jeff   \n",
              "1                  fraud_Sporer-Keebler   personal_care 29.840000  Joanne   \n",
              "2  fraud_Swaniawski, Nitzsche and Welch  health_fitness 41.280000  Ashley   \n",
              "3                     fraud_Haley Group        misc_pos 60.050000   Brian   \n",
              "4                 fraud_Johnston-Casper          travel  3.190000  Nathan   \n",
              "\n",
              "       last gender                       street        city state    zip  \\\n",
              "0   Elliott      M            351 Darlene Green    Columbia    SC  29209   \n",
              "1  Williams      F             3638 Marsh Union     Altonah    UT  84002   \n",
              "2     Lopez      F         9333 Valentine Point    Bellmore    NY  11710   \n",
              "3  Williams      M  32941 Krystal Mill Apt. 552  Titusville    FL  32780   \n",
              "4    Massey      M     5783 Evan Roads Apt. 465    Falmouth    MI  49632   \n",
              "\n",
              "        lat        long  city_pop                     job         dob  \\\n",
              "0 33.965900  -80.935500    333497     Mechanical engineer  1968-03-19   \n",
              "1 40.320700 -110.436000       302  Sales professional, IT  1990-01-17   \n",
              "2 40.672900  -73.536500     34496       Librarian, public  1970-10-21   \n",
              "3 28.569700  -80.819100     54767            Set designer  1987-07-25   \n",
              "4 44.252900  -85.017000      1126      Furniture designer  1955-07-06   \n",
              "\n",
              "                          trans_num   unix_time  merch_lat  merch_long  \\\n",
              "0  2da90c7d74bd46a0caf3777415b3ebd3  1371816865  33.986391  -81.200714   \n",
              "1  324cc204407e99f51b0d6ca0055005e7  1371816873  39.450498 -109.960431   \n",
              "2  c81755dbbbea9d5c77f094348a7579be  1371816893  40.495810  -74.196111   \n",
              "3  2159175b9efe66dc301f149d3d5abf8c  1371816915  28.812398  -80.883061   \n",
              "4  57ff021bd3f328f8738bb535c302a31b  1371816917  44.959148  -85.884734   \n",
              "\n",
              "   is_fraud  \n",
              "0         0  \n",
              "1         0  \n",
              "2         0  \n",
              "3         0  \n",
              "4         0  "
            ]
          },
          "metadata": {},
          "execution_count": 6
        }
      ],
      "source": [
        "df_test.head()"
      ]
    },
    {
      "cell_type": "code",
      "execution_count": null,
      "metadata": {
        "colab": {
          "base_uri": "https://localhost:8080/",
          "height": 548
        },
        "id": "2bDX729YQ_bW",
        "outputId": "cbcd62e4-83e4-430d-909b-4d3cfddff6b8"
      },
      "outputs": [
        {
          "output_type": "execute_result",
          "data": {
            "text/html": [
              "\n",
              "  <div id=\"df-a452620f-64a3-49cc-9470-948e56f3df56\">\n",
              "    <div class=\"colab-df-container\">\n",
              "      <div>\n",
              "<style scoped>\n",
              "    .dataframe tbody tr th:only-of-type {\n",
              "        vertical-align: middle;\n",
              "    }\n",
              "\n",
              "    .dataframe tbody tr th {\n",
              "        vertical-align: top;\n",
              "    }\n",
              "\n",
              "    .dataframe thead th {\n",
              "        text-align: right;\n",
              "    }\n",
              "</style>\n",
              "<table border=\"1\" class=\"dataframe\">\n",
              "  <thead>\n",
              "    <tr style=\"text-align: right;\">\n",
              "      <th></th>\n",
              "      <th>trans_date_trans_time</th>\n",
              "      <th>cc_num</th>\n",
              "      <th>merchant</th>\n",
              "      <th>category</th>\n",
              "      <th>amt</th>\n",
              "      <th>first</th>\n",
              "      <th>last</th>\n",
              "      <th>gender</th>\n",
              "      <th>street</th>\n",
              "      <th>city</th>\n",
              "      <th>state</th>\n",
              "      <th>zip</th>\n",
              "      <th>lat</th>\n",
              "      <th>long</th>\n",
              "      <th>city_pop</th>\n",
              "      <th>job</th>\n",
              "      <th>dob</th>\n",
              "      <th>trans_num</th>\n",
              "      <th>unix_time</th>\n",
              "      <th>merch_lat</th>\n",
              "      <th>merch_long</th>\n",
              "      <th>is_fraud</th>\n",
              "    </tr>\n",
              "  </thead>\n",
              "  <tbody>\n",
              "    <tr>\n",
              "      <th>0</th>\n",
              "      <td>2019-01-01 00:00:18</td>\n",
              "      <td>2703186189652095</td>\n",
              "      <td>fraud_Rippin, Kub and Mann</td>\n",
              "      <td>misc_net</td>\n",
              "      <td>4.970000</td>\n",
              "      <td>Jennifer</td>\n",
              "      <td>Banks</td>\n",
              "      <td>F</td>\n",
              "      <td>561 Perry Cove</td>\n",
              "      <td>Moravian Falls</td>\n",
              "      <td>NC</td>\n",
              "      <td>28654</td>\n",
              "      <td>36.078800</td>\n",
              "      <td>-81.178100</td>\n",
              "      <td>3495</td>\n",
              "      <td>Psychologist, counselling</td>\n",
              "      <td>1988-03-09</td>\n",
              "      <td>0b242abb623afc578575680df30655b9</td>\n",
              "      <td>1325376018</td>\n",
              "      <td>36.011293</td>\n",
              "      <td>-82.048315</td>\n",
              "      <td>0</td>\n",
              "    </tr>\n",
              "    <tr>\n",
              "      <th>1</th>\n",
              "      <td>2019-01-01 00:00:44</td>\n",
              "      <td>630423337322</td>\n",
              "      <td>fraud_Heller, Gutmann and Zieme</td>\n",
              "      <td>grocery_pos</td>\n",
              "      <td>107.230000</td>\n",
              "      <td>Stephanie</td>\n",
              "      <td>Gill</td>\n",
              "      <td>F</td>\n",
              "      <td>43039 Riley Greens Suite 393</td>\n",
              "      <td>Orient</td>\n",
              "      <td>WA</td>\n",
              "      <td>99160</td>\n",
              "      <td>48.887800</td>\n",
              "      <td>-118.210500</td>\n",
              "      <td>149</td>\n",
              "      <td>Special educational needs teacher</td>\n",
              "      <td>1978-06-21</td>\n",
              "      <td>1f76529f8574734946361c461b024d99</td>\n",
              "      <td>1325376044</td>\n",
              "      <td>49.159047</td>\n",
              "      <td>-118.186462</td>\n",
              "      <td>0</td>\n",
              "    </tr>\n",
              "    <tr>\n",
              "      <th>2</th>\n",
              "      <td>2019-01-01 00:00:51</td>\n",
              "      <td>38859492057661</td>\n",
              "      <td>fraud_Lind-Buckridge</td>\n",
              "      <td>entertainment</td>\n",
              "      <td>220.110000</td>\n",
              "      <td>Edward</td>\n",
              "      <td>Sanchez</td>\n",
              "      <td>M</td>\n",
              "      <td>594 White Dale Suite 530</td>\n",
              "      <td>Malad City</td>\n",
              "      <td>ID</td>\n",
              "      <td>83252</td>\n",
              "      <td>42.180800</td>\n",
              "      <td>-112.262000</td>\n",
              "      <td>4154</td>\n",
              "      <td>Nature conservation officer</td>\n",
              "      <td>1962-01-19</td>\n",
              "      <td>a1a22d70485983eac12b5b88dad1cf95</td>\n",
              "      <td>1325376051</td>\n",
              "      <td>43.150704</td>\n",
              "      <td>-112.154481</td>\n",
              "      <td>0</td>\n",
              "    </tr>\n",
              "    <tr>\n",
              "      <th>3</th>\n",
              "      <td>2019-01-01 00:01:16</td>\n",
              "      <td>3534093764340240</td>\n",
              "      <td>fraud_Kutch, Hermiston and Farrell</td>\n",
              "      <td>gas_transport</td>\n",
              "      <td>45.000000</td>\n",
              "      <td>Jeremy</td>\n",
              "      <td>White</td>\n",
              "      <td>M</td>\n",
              "      <td>9443 Cynthia Court Apt. 038</td>\n",
              "      <td>Boulder</td>\n",
              "      <td>MT</td>\n",
              "      <td>59632</td>\n",
              "      <td>46.230600</td>\n",
              "      <td>-112.113800</td>\n",
              "      <td>1939</td>\n",
              "      <td>Patent attorney</td>\n",
              "      <td>1967-01-12</td>\n",
              "      <td>6b849c168bdad6f867558c3793159a81</td>\n",
              "      <td>1325376076</td>\n",
              "      <td>47.034331</td>\n",
              "      <td>-112.561071</td>\n",
              "      <td>0</td>\n",
              "    </tr>\n",
              "    <tr>\n",
              "      <th>4</th>\n",
              "      <td>2019-01-01 00:03:06</td>\n",
              "      <td>375534208663984</td>\n",
              "      <td>fraud_Keeling-Crist</td>\n",
              "      <td>misc_pos</td>\n",
              "      <td>41.960000</td>\n",
              "      <td>Tyler</td>\n",
              "      <td>Garcia</td>\n",
              "      <td>M</td>\n",
              "      <td>408 Bradley Rest</td>\n",
              "      <td>Doe Hill</td>\n",
              "      <td>VA</td>\n",
              "      <td>24433</td>\n",
              "      <td>38.420700</td>\n",
              "      <td>-79.462900</td>\n",
              "      <td>99</td>\n",
              "      <td>Dance movement psychotherapist</td>\n",
              "      <td>1986-03-28</td>\n",
              "      <td>a41d7549acf90789359a9aa5346dcb46</td>\n",
              "      <td>1325376186</td>\n",
              "      <td>38.674999</td>\n",
              "      <td>-78.632459</td>\n",
              "      <td>0</td>\n",
              "    </tr>\n",
              "  </tbody>\n",
              "</table>\n",
              "</div>\n",
              "      <button class=\"colab-df-convert\" onclick=\"convertToInteractive('df-a452620f-64a3-49cc-9470-948e56f3df56')\"\n",
              "              title=\"Convert this dataframe to an interactive table.\"\n",
              "              style=\"display:none;\">\n",
              "        \n",
              "  <svg xmlns=\"http://www.w3.org/2000/svg\" height=\"24px\"viewBox=\"0 0 24 24\"\n",
              "       width=\"24px\">\n",
              "    <path d=\"M0 0h24v24H0V0z\" fill=\"none\"/>\n",
              "    <path d=\"M18.56 5.44l.94 2.06.94-2.06 2.06-.94-2.06-.94-.94-2.06-.94 2.06-2.06.94zm-11 1L8.5 8.5l.94-2.06 2.06-.94-2.06-.94L8.5 2.5l-.94 2.06-2.06.94zm10 10l.94 2.06.94-2.06 2.06-.94-2.06-.94-.94-2.06-.94 2.06-2.06.94z\"/><path d=\"M17.41 7.96l-1.37-1.37c-.4-.4-.92-.59-1.43-.59-.52 0-1.04.2-1.43.59L10.3 9.45l-7.72 7.72c-.78.78-.78 2.05 0 2.83L4 21.41c.39.39.9.59 1.41.59.51 0 1.02-.2 1.41-.59l7.78-7.78 2.81-2.81c.8-.78.8-2.07 0-2.86zM5.41 20L4 18.59l7.72-7.72 1.47 1.35L5.41 20z\"/>\n",
              "  </svg>\n",
              "      </button>\n",
              "      \n",
              "  <style>\n",
              "    .colab-df-container {\n",
              "      display:flex;\n",
              "      flex-wrap:wrap;\n",
              "      gap: 12px;\n",
              "    }\n",
              "\n",
              "    .colab-df-convert {\n",
              "      background-color: #E8F0FE;\n",
              "      border: none;\n",
              "      border-radius: 50%;\n",
              "      cursor: pointer;\n",
              "      display: none;\n",
              "      fill: #1967D2;\n",
              "      height: 32px;\n",
              "      padding: 0 0 0 0;\n",
              "      width: 32px;\n",
              "    }\n",
              "\n",
              "    .colab-df-convert:hover {\n",
              "      background-color: #E2EBFA;\n",
              "      box-shadow: 0px 1px 2px rgba(60, 64, 67, 0.3), 0px 1px 3px 1px rgba(60, 64, 67, 0.15);\n",
              "      fill: #174EA6;\n",
              "    }\n",
              "\n",
              "    [theme=dark] .colab-df-convert {\n",
              "      background-color: #3B4455;\n",
              "      fill: #D2E3FC;\n",
              "    }\n",
              "\n",
              "    [theme=dark] .colab-df-convert:hover {\n",
              "      background-color: #434B5C;\n",
              "      box-shadow: 0px 1px 3px 1px rgba(0, 0, 0, 0.15);\n",
              "      filter: drop-shadow(0px 1px 2px rgba(0, 0, 0, 0.3));\n",
              "      fill: #FFFFFF;\n",
              "    }\n",
              "  </style>\n",
              "\n",
              "      <script>\n",
              "        const buttonEl =\n",
              "          document.querySelector('#df-a452620f-64a3-49cc-9470-948e56f3df56 button.colab-df-convert');\n",
              "        buttonEl.style.display =\n",
              "          google.colab.kernel.accessAllowed ? 'block' : 'none';\n",
              "\n",
              "        async function convertToInteractive(key) {\n",
              "          const element = document.querySelector('#df-a452620f-64a3-49cc-9470-948e56f3df56');\n",
              "          const dataTable =\n",
              "            await google.colab.kernel.invokeFunction('convertToInteractive',\n",
              "                                                     [key], {});\n",
              "          if (!dataTable) return;\n",
              "\n",
              "          const docLinkHtml = 'Like what you see? Visit the ' +\n",
              "            '<a target=\"_blank\" href=https://colab.research.google.com/notebooks/data_table.ipynb>data table notebook</a>'\n",
              "            + ' to learn more about interactive tables.';\n",
              "          element.innerHTML = '';\n",
              "          dataTable['output_type'] = 'display_data';\n",
              "          await google.colab.output.renderOutput(dataTable, element);\n",
              "          const docLink = document.createElement('div');\n",
              "          docLink.innerHTML = docLinkHtml;\n",
              "          element.appendChild(docLink);\n",
              "        }\n",
              "      </script>\n",
              "    </div>\n",
              "  </div>\n",
              "  "
            ],
            "text/plain": [
              "  trans_date_trans_time            cc_num                            merchant  \\\n",
              "0   2019-01-01 00:00:18  2703186189652095          fraud_Rippin, Kub and Mann   \n",
              "1   2019-01-01 00:00:44      630423337322     fraud_Heller, Gutmann and Zieme   \n",
              "2   2019-01-01 00:00:51    38859492057661                fraud_Lind-Buckridge   \n",
              "3   2019-01-01 00:01:16  3534093764340240  fraud_Kutch, Hermiston and Farrell   \n",
              "4   2019-01-01 00:03:06   375534208663984                 fraud_Keeling-Crist   \n",
              "\n",
              "        category        amt      first     last gender  \\\n",
              "0       misc_net   4.970000   Jennifer    Banks      F   \n",
              "1    grocery_pos 107.230000  Stephanie     Gill      F   \n",
              "2  entertainment 220.110000     Edward  Sanchez      M   \n",
              "3  gas_transport  45.000000     Jeremy    White      M   \n",
              "4       misc_pos  41.960000      Tyler   Garcia      M   \n",
              "\n",
              "                         street            city state    zip       lat  \\\n",
              "0                561 Perry Cove  Moravian Falls    NC  28654 36.078800   \n",
              "1  43039 Riley Greens Suite 393          Orient    WA  99160 48.887800   \n",
              "2      594 White Dale Suite 530      Malad City    ID  83252 42.180800   \n",
              "3   9443 Cynthia Court Apt. 038         Boulder    MT  59632 46.230600   \n",
              "4              408 Bradley Rest        Doe Hill    VA  24433 38.420700   \n",
              "\n",
              "         long  city_pop                                job         dob  \\\n",
              "0  -81.178100      3495          Psychologist, counselling  1988-03-09   \n",
              "1 -118.210500       149  Special educational needs teacher  1978-06-21   \n",
              "2 -112.262000      4154        Nature conservation officer  1962-01-19   \n",
              "3 -112.113800      1939                    Patent attorney  1967-01-12   \n",
              "4  -79.462900        99     Dance movement psychotherapist  1986-03-28   \n",
              "\n",
              "                          trans_num   unix_time  merch_lat  merch_long  \\\n",
              "0  0b242abb623afc578575680df30655b9  1325376018  36.011293  -82.048315   \n",
              "1  1f76529f8574734946361c461b024d99  1325376044  49.159047 -118.186462   \n",
              "2  a1a22d70485983eac12b5b88dad1cf95  1325376051  43.150704 -112.154481   \n",
              "3  6b849c168bdad6f867558c3793159a81  1325376076  47.034331 -112.561071   \n",
              "4  a41d7549acf90789359a9aa5346dcb46  1325376186  38.674999  -78.632459   \n",
              "\n",
              "   is_fraud  \n",
              "0         0  \n",
              "1         0  \n",
              "2         0  \n",
              "3         0  \n",
              "4         0  "
            ]
          },
          "metadata": {},
          "execution_count": 7
        }
      ],
      "source": [
        "#Drop unnamed column\n",
        "df_train = df_train.drop(df_train.columns[0], axis=1)\n",
        "df_test = df_test.drop(df_test.columns[0], axis=1)\n",
        "df_train.head()"
      ]
    },
    {
      "cell_type": "markdown",
      "metadata": {
        "id": "O1cGCkPXc91F"
      },
      "source": [
        "# **2) Data Exploration**"
      ]
    },
    {
      "cell_type": "markdown",
      "metadata": {
        "id": "sx17j_pOdDzz"
      },
      "source": [
        "# Count missing values in each column"
      ]
    },
    {
      "cell_type": "code",
      "execution_count": null,
      "metadata": {
        "colab": {
          "base_uri": "https://localhost:8080/"
        },
        "id": "HZ_spsNCXez7",
        "outputId": "c19cb8d7-abff-4bec-8d45-2cfa6b79e271"
      },
      "outputs": [
        {
          "output_type": "stream",
          "name": "stdout",
          "text": [
            "<class 'pandas.core.frame.DataFrame'>\n",
            "RangeIndex: 1296675 entries, 0 to 1296674\n",
            "Data columns (total 22 columns):\n",
            " #   Column                 Non-Null Count    Dtype  \n",
            "---  ------                 --------------    -----  \n",
            " 0   trans_date_trans_time  1296675 non-null  object \n",
            " 1   cc_num                 1296675 non-null  int64  \n",
            " 2   merchant               1296675 non-null  object \n",
            " 3   category               1296675 non-null  object \n",
            " 4   amt                    1296675 non-null  float64\n",
            " 5   first                  1296675 non-null  object \n",
            " 6   last                   1296675 non-null  object \n",
            " 7   gender                 1296675 non-null  object \n",
            " 8   street                 1296675 non-null  object \n",
            " 9   city                   1296675 non-null  object \n",
            " 10  state                  1296675 non-null  object \n",
            " 11  zip                    1296675 non-null  int64  \n",
            " 12  lat                    1296675 non-null  float64\n",
            " 13  long                   1296675 non-null  float64\n",
            " 14  city_pop               1296675 non-null  int64  \n",
            " 15  job                    1296675 non-null  object \n",
            " 16  dob                    1296675 non-null  object \n",
            " 17  trans_num              1296675 non-null  object \n",
            " 18  unix_time              1296675 non-null  int64  \n",
            " 19  merch_lat              1296675 non-null  float64\n",
            " 20  merch_long             1296675 non-null  float64\n",
            " 21  is_fraud               1296675 non-null  int64  \n",
            "dtypes: float64(5), int64(5), object(12)\n",
            "memory usage: 217.6+ MB\n"
          ]
        }
      ],
      "source": [
        "df_train.info()"
      ]
    },
    {
      "cell_type": "code",
      "execution_count": null,
      "metadata": {
        "colab": {
          "base_uri": "https://localhost:8080/"
        },
        "id": "KywxernSEF1V",
        "outputId": "2e13ec5a-5762-44c6-94a1-ea068081b831"
      },
      "outputs": [
        {
          "output_type": "execute_result",
          "data": {
            "text/plain": [
              "trans_date_trans_time    0\n",
              "cc_num                   0\n",
              "merchant                 0\n",
              "category                 0\n",
              "amt                      0\n",
              "first                    0\n",
              "last                     0\n",
              "gender                   0\n",
              "street                   0\n",
              "city                     0\n",
              "state                    0\n",
              "zip                      0\n",
              "lat                      0\n",
              "long                     0\n",
              "city_pop                 0\n",
              "job                      0\n",
              "dob                      0\n",
              "trans_num                0\n",
              "unix_time                0\n",
              "merch_lat                0\n",
              "merch_long               0\n",
              "is_fraud                 0\n",
              "dtype: int64"
            ]
          },
          "metadata": {},
          "execution_count": 9
        }
      ],
      "source": [
        "df_train.isna().sum()"
      ]
    },
    {
      "cell_type": "markdown",
      "metadata": {
        "id": "wPYsDCr-BDtv"
      },
      "source": [
        "**There is no null values in the dataset**"
      ]
    },
    {
      "cell_type": "markdown",
      "metadata": {
        "id": "axEDJBVj0UMy"
      },
      "source": [
        "# Count duplicated rows"
      ]
    },
    {
      "cell_type": "code",
      "execution_count": null,
      "metadata": {
        "colab": {
          "base_uri": "https://localhost:8080/"
        },
        "id": "L5QuO4qLFlrD",
        "outputId": "696abde0-ebfc-40d0-e05c-96255686c7e7"
      },
      "outputs": [
        {
          "output_type": "execute_result",
          "data": {
            "text/plain": [
              "0"
            ]
          },
          "metadata": {},
          "execution_count": 10
        }
      ],
      "source": [
        "df_train.duplicated().sum()"
      ]
    },
    {
      "cell_type": "markdown",
      "metadata": {
        "id": "tE6DFte9BWgq"
      },
      "source": [
        "**There is duplicates in the dataset**"
      ]
    },
    {
      "cell_type": "code",
      "execution_count": null,
      "metadata": {
        "colab": {
          "base_uri": "https://localhost:8080/"
        },
        "id": "UJ73Qnq7GDY1",
        "outputId": "ec030e83-f679-487d-998b-b33f066002f3"
      },
      "outputs": [
        {
          "output_type": "execute_result",
          "data": {
            "text/plain": [
              "(1296675, 22)"
            ]
          },
          "metadata": {},
          "execution_count": 11
        }
      ],
      "source": [
        "df_train.shape"
      ]
    },
    {
      "cell_type": "code",
      "execution_count": null,
      "metadata": {
        "colab": {
          "base_uri": "https://localhost:8080/",
          "height": 300
        },
        "id": "a9D7E--dGH_Z",
        "outputId": "ac198fbc-8ccd-4521-b24d-13d4e519571a"
      },
      "outputs": [
        {
          "output_type": "execute_result",
          "data": {
            "text/html": [
              "\n",
              "  <div id=\"df-c14d2125-5f5b-487d-8c7e-61eadeb46d92\">\n",
              "    <div class=\"colab-df-container\">\n",
              "      <div>\n",
              "<style scoped>\n",
              "    .dataframe tbody tr th:only-of-type {\n",
              "        vertical-align: middle;\n",
              "    }\n",
              "\n",
              "    .dataframe tbody tr th {\n",
              "        vertical-align: top;\n",
              "    }\n",
              "\n",
              "    .dataframe thead th {\n",
              "        text-align: right;\n",
              "    }\n",
              "</style>\n",
              "<table border=\"1\" class=\"dataframe\">\n",
              "  <thead>\n",
              "    <tr style=\"text-align: right;\">\n",
              "      <th></th>\n",
              "      <th>cc_num</th>\n",
              "      <th>amt</th>\n",
              "      <th>zip</th>\n",
              "      <th>lat</th>\n",
              "      <th>long</th>\n",
              "      <th>city_pop</th>\n",
              "      <th>unix_time</th>\n",
              "      <th>merch_lat</th>\n",
              "      <th>merch_long</th>\n",
              "      <th>is_fraud</th>\n",
              "    </tr>\n",
              "  </thead>\n",
              "  <tbody>\n",
              "    <tr>\n",
              "      <th>count</th>\n",
              "      <td>1296675.000000</td>\n",
              "      <td>1296675.000000</td>\n",
              "      <td>1296675.000000</td>\n",
              "      <td>1296675.000000</td>\n",
              "      <td>1296675.000000</td>\n",
              "      <td>1296675.000000</td>\n",
              "      <td>1296675.000000</td>\n",
              "      <td>1296675.000000</td>\n",
              "      <td>1296675.000000</td>\n",
              "      <td>1296675.000000</td>\n",
              "    </tr>\n",
              "    <tr>\n",
              "      <th>mean</th>\n",
              "      <td>417192042079641088.000000</td>\n",
              "      <td>70.351035</td>\n",
              "      <td>48800.671097</td>\n",
              "      <td>38.537622</td>\n",
              "      <td>-90.226335</td>\n",
              "      <td>88824.440563</td>\n",
              "      <td>1349243636.726123</td>\n",
              "      <td>38.537338</td>\n",
              "      <td>-90.226465</td>\n",
              "      <td>0.005789</td>\n",
              "    </tr>\n",
              "    <tr>\n",
              "      <th>std</th>\n",
              "      <td>1308806447000789248.000000</td>\n",
              "      <td>160.316039</td>\n",
              "      <td>26893.222476</td>\n",
              "      <td>5.075808</td>\n",
              "      <td>13.759077</td>\n",
              "      <td>301956.360689</td>\n",
              "      <td>12841278.423360</td>\n",
              "      <td>5.109788</td>\n",
              "      <td>13.771091</td>\n",
              "      <td>0.075863</td>\n",
              "    </tr>\n",
              "    <tr>\n",
              "      <th>min</th>\n",
              "      <td>60416207185.000000</td>\n",
              "      <td>1.000000</td>\n",
              "      <td>1257.000000</td>\n",
              "      <td>20.027100</td>\n",
              "      <td>-165.672300</td>\n",
              "      <td>23.000000</td>\n",
              "      <td>1325376018.000000</td>\n",
              "      <td>19.027785</td>\n",
              "      <td>-166.671242</td>\n",
              "      <td>0.000000</td>\n",
              "    </tr>\n",
              "    <tr>\n",
              "      <th>25%</th>\n",
              "      <td>180042946491150.000000</td>\n",
              "      <td>9.650000</td>\n",
              "      <td>26237.000000</td>\n",
              "      <td>34.620500</td>\n",
              "      <td>-96.798000</td>\n",
              "      <td>743.000000</td>\n",
              "      <td>1338750742.500000</td>\n",
              "      <td>34.733572</td>\n",
              "      <td>-96.897276</td>\n",
              "      <td>0.000000</td>\n",
              "    </tr>\n",
              "    <tr>\n",
              "      <th>50%</th>\n",
              "      <td>3521417320836166.000000</td>\n",
              "      <td>47.520000</td>\n",
              "      <td>48174.000000</td>\n",
              "      <td>39.354300</td>\n",
              "      <td>-87.476900</td>\n",
              "      <td>2456.000000</td>\n",
              "      <td>1349249747.000000</td>\n",
              "      <td>39.365680</td>\n",
              "      <td>-87.438392</td>\n",
              "      <td>0.000000</td>\n",
              "    </tr>\n",
              "    <tr>\n",
              "      <th>75%</th>\n",
              "      <td>4642255475285942.000000</td>\n",
              "      <td>83.140000</td>\n",
              "      <td>72042.000000</td>\n",
              "      <td>41.940400</td>\n",
              "      <td>-80.158000</td>\n",
              "      <td>20328.000000</td>\n",
              "      <td>1359385375.500000</td>\n",
              "      <td>41.957164</td>\n",
              "      <td>-80.236797</td>\n",
              "      <td>0.000000</td>\n",
              "    </tr>\n",
              "    <tr>\n",
              "      <th>max</th>\n",
              "      <td>4992346398065154048.000000</td>\n",
              "      <td>28948.900000</td>\n",
              "      <td>99783.000000</td>\n",
              "      <td>66.693300</td>\n",
              "      <td>-67.950300</td>\n",
              "      <td>2906700.000000</td>\n",
              "      <td>1371816817.000000</td>\n",
              "      <td>67.510267</td>\n",
              "      <td>-66.950902</td>\n",
              "      <td>1.000000</td>\n",
              "    </tr>\n",
              "  </tbody>\n",
              "</table>\n",
              "</div>\n",
              "      <button class=\"colab-df-convert\" onclick=\"convertToInteractive('df-c14d2125-5f5b-487d-8c7e-61eadeb46d92')\"\n",
              "              title=\"Convert this dataframe to an interactive table.\"\n",
              "              style=\"display:none;\">\n",
              "        \n",
              "  <svg xmlns=\"http://www.w3.org/2000/svg\" height=\"24px\"viewBox=\"0 0 24 24\"\n",
              "       width=\"24px\">\n",
              "    <path d=\"M0 0h24v24H0V0z\" fill=\"none\"/>\n",
              "    <path d=\"M18.56 5.44l.94 2.06.94-2.06 2.06-.94-2.06-.94-.94-2.06-.94 2.06-2.06.94zm-11 1L8.5 8.5l.94-2.06 2.06-.94-2.06-.94L8.5 2.5l-.94 2.06-2.06.94zm10 10l.94 2.06.94-2.06 2.06-.94-2.06-.94-.94-2.06-.94 2.06-2.06.94z\"/><path d=\"M17.41 7.96l-1.37-1.37c-.4-.4-.92-.59-1.43-.59-.52 0-1.04.2-1.43.59L10.3 9.45l-7.72 7.72c-.78.78-.78 2.05 0 2.83L4 21.41c.39.39.9.59 1.41.59.51 0 1.02-.2 1.41-.59l7.78-7.78 2.81-2.81c.8-.78.8-2.07 0-2.86zM5.41 20L4 18.59l7.72-7.72 1.47 1.35L5.41 20z\"/>\n",
              "  </svg>\n",
              "      </button>\n",
              "      \n",
              "  <style>\n",
              "    .colab-df-container {\n",
              "      display:flex;\n",
              "      flex-wrap:wrap;\n",
              "      gap: 12px;\n",
              "    }\n",
              "\n",
              "    .colab-df-convert {\n",
              "      background-color: #E8F0FE;\n",
              "      border: none;\n",
              "      border-radius: 50%;\n",
              "      cursor: pointer;\n",
              "      display: none;\n",
              "      fill: #1967D2;\n",
              "      height: 32px;\n",
              "      padding: 0 0 0 0;\n",
              "      width: 32px;\n",
              "    }\n",
              "\n",
              "    .colab-df-convert:hover {\n",
              "      background-color: #E2EBFA;\n",
              "      box-shadow: 0px 1px 2px rgba(60, 64, 67, 0.3), 0px 1px 3px 1px rgba(60, 64, 67, 0.15);\n",
              "      fill: #174EA6;\n",
              "    }\n",
              "\n",
              "    [theme=dark] .colab-df-convert {\n",
              "      background-color: #3B4455;\n",
              "      fill: #D2E3FC;\n",
              "    }\n",
              "\n",
              "    [theme=dark] .colab-df-convert:hover {\n",
              "      background-color: #434B5C;\n",
              "      box-shadow: 0px 1px 3px 1px rgba(0, 0, 0, 0.15);\n",
              "      filter: drop-shadow(0px 1px 2px rgba(0, 0, 0, 0.3));\n",
              "      fill: #FFFFFF;\n",
              "    }\n",
              "  </style>\n",
              "\n",
              "      <script>\n",
              "        const buttonEl =\n",
              "          document.querySelector('#df-c14d2125-5f5b-487d-8c7e-61eadeb46d92 button.colab-df-convert');\n",
              "        buttonEl.style.display =\n",
              "          google.colab.kernel.accessAllowed ? 'block' : 'none';\n",
              "\n",
              "        async function convertToInteractive(key) {\n",
              "          const element = document.querySelector('#df-c14d2125-5f5b-487d-8c7e-61eadeb46d92');\n",
              "          const dataTable =\n",
              "            await google.colab.kernel.invokeFunction('convertToInteractive',\n",
              "                                                     [key], {});\n",
              "          if (!dataTable) return;\n",
              "\n",
              "          const docLinkHtml = 'Like what you see? Visit the ' +\n",
              "            '<a target=\"_blank\" href=https://colab.research.google.com/notebooks/data_table.ipynb>data table notebook</a>'\n",
              "            + ' to learn more about interactive tables.';\n",
              "          element.innerHTML = '';\n",
              "          dataTable['output_type'] = 'display_data';\n",
              "          await google.colab.output.renderOutput(dataTable, element);\n",
              "          const docLink = document.createElement('div');\n",
              "          docLink.innerHTML = docLinkHtml;\n",
              "          element.appendChild(docLink);\n",
              "        }\n",
              "      </script>\n",
              "    </div>\n",
              "  </div>\n",
              "  "
            ],
            "text/plain": [
              "                          cc_num            amt            zip            lat  \\\n",
              "count             1296675.000000 1296675.000000 1296675.000000 1296675.000000   \n",
              "mean   417192042079641088.000000      70.351035   48800.671097      38.537622   \n",
              "std   1308806447000789248.000000     160.316039   26893.222476       5.075808   \n",
              "min           60416207185.000000       1.000000    1257.000000      20.027100   \n",
              "25%       180042946491150.000000       9.650000   26237.000000      34.620500   \n",
              "50%      3521417320836166.000000      47.520000   48174.000000      39.354300   \n",
              "75%      4642255475285942.000000      83.140000   72042.000000      41.940400   \n",
              "max   4992346398065154048.000000   28948.900000   99783.000000      66.693300   \n",
              "\n",
              "                long       city_pop         unix_time      merch_lat  \\\n",
              "count 1296675.000000 1296675.000000    1296675.000000 1296675.000000   \n",
              "mean      -90.226335   88824.440563 1349243636.726123      38.537338   \n",
              "std        13.759077  301956.360689   12841278.423360       5.109788   \n",
              "min      -165.672300      23.000000 1325376018.000000      19.027785   \n",
              "25%       -96.798000     743.000000 1338750742.500000      34.733572   \n",
              "50%       -87.476900    2456.000000 1349249747.000000      39.365680   \n",
              "75%       -80.158000   20328.000000 1359385375.500000      41.957164   \n",
              "max       -67.950300 2906700.000000 1371816817.000000      67.510267   \n",
              "\n",
              "          merch_long       is_fraud  \n",
              "count 1296675.000000 1296675.000000  \n",
              "mean      -90.226465       0.005789  \n",
              "std        13.771091       0.075863  \n",
              "min      -166.671242       0.000000  \n",
              "25%       -96.897276       0.000000  \n",
              "50%       -87.438392       0.000000  \n",
              "75%       -80.236797       0.000000  \n",
              "max       -66.950902       1.000000  "
            ]
          },
          "metadata": {},
          "execution_count": 12
        }
      ],
      "source": [
        "df_train.describe()"
      ]
    },
    {
      "cell_type": "markdown",
      "metadata": {
        "id": "LYJv8faT0miJ"
      },
      "source": [
        "# Some Plots"
      ]
    },
    {
      "cell_type": "code",
      "execution_count": null,
      "metadata": {
        "colab": {
          "base_uri": "https://localhost:8080/",
          "height": 514
        },
        "id": "EAcirvNbZAWy",
        "outputId": "c780e735-2661-4b97-964d-fa9f15fc151a"
      },
      "outputs": [
        {
          "output_type": "display_data",
          "data": {
            "image/png": "[encoded data removed]",
            "text/plain": [
              "<Figure size 720x576 with 1 Axes>"
            ]
          },
          "metadata": {
            "needs_background": "light"
          }
        }
      ],
      "source": [
        "plt.figure(figsize=(10,8))\n",
        "plt.title('Number of fraud transactions')\n",
        "sns.countplot(x = 'is_fraud', data = df_train,  palette = 'Set2')\n",
        "plt.show()"
      ]
    },
    {
      "cell_type": "markdown",
      "metadata": {
        "id": "vwiA17fBzqno"
      },
      "source": [
        "**The dataset is totally imbalanced.**"
      ]
    },
    {
      "cell_type": "code",
      "execution_count": null,
      "metadata": {
        "colab": {
          "base_uri": "https://localhost:8080/",
          "height": 513
        },
        "id": "yqe3ks4fvPtp",
        "outputId": "0596c49b-baf3-42c3-f562-006bd9b7b710"
      },
      "outputs": [
        {
          "output_type": "display_data",
          "data": {
            "image/png": "[encoded data removed]",
            "text/plain": [
              "<Figure size 720x576 with 1 Axes>"
            ]
          },
          "metadata": {
            "needs_background": "light"
          }
        }
      ],
      "source": [
        "plt.figure(figsize=(10,8))\n",
        "plt.title('Number males and females')\n",
        "sns.countplot(x = 'gender', data = df_train,  palette = 'Set2')\n",
        "plt.show()"
      ]
    },
    {
      "cell_type": "markdown",
      "metadata": {
        "id": "bsblQG3T0_by"
      },
      "source": [
        "**The number of females is more than males in the dataset.**"
      ]
    },
    {
      "cell_type": "code",
      "execution_count": null,
      "metadata": {
        "colab": {
          "base_uri": "https://localhost:8080/",
          "height": 531
        },
        "id": "X4IJ2Y-4ZlrP",
        "outputId": "1a6fa072-0b6f-4993-d0b4-4e90b7968f16"
      },
      "outputs": [
        {
          "output_type": "execute_result",
          "data": {
            "text/plain": [
              "<matplotlib.axes._subplots.AxesSubplot at 0x7f0e5544c410>"
            ]
          },
          "metadata": {},
          "execution_count": 15
        },
        {
          "output_type": "display_data",
          "data": {
            "image/png": "[encoded data removed]",
            "text/plain": [
              "<Figure size 720x576 with 1 Axes>"
            ]
          },
          "metadata": {
            "needs_background": "light"
          }
        }
      ],
      "source": [
        "plt.figure(figsize=(10,8))\n",
        "plt.title('Number of fraud transactions by gender')\n",
        "sns.countplot(x = 'is_fraud', hue = 'gender', data = df_train, palette ='Set2')"
      ]
    },
    {
      "cell_type": "code",
      "execution_count": null,
      "metadata": {
        "colab": {
          "base_uri": "https://localhost:8080/",
          "height": 531
        },
        "id": "rL0VE9ABvMRM",
        "outputId": "3439cd45-d9df-4472-aef5-a3be558c9af4"
      },
      "outputs": [
        {
          "output_type": "execute_result",
          "data": {
            "text/plain": [
              "<matplotlib.axes._subplots.AxesSubplot at 0x7f0e553d6d10>"
            ]
          },
          "metadata": {},
          "execution_count": 16
        },
        {
          "output_type": "display_data",
          "data": {
            "image/png": "[encoded data removed]",
            "text/plain": [
              "<Figure size 720x576 with 1 Axes>"
            ]
          },
          "metadata": {
            "needs_background": "light"
          }
        }
      ],
      "source": [
        "plt.figure(figsize=(10,8))\n",
        "plt.title('Number of fraud transactions by the average amount of money')\n",
        "sns.barplot(x=\"is_fraud\", y='amt', data=df_train,  palette ='Set2')"
      ]
    },
    {
      "cell_type": "code",
      "execution_count": null,
      "metadata": {
        "colab": {
          "base_uri": "https://localhost:8080/",
          "height": 531
        },
        "id": "_6jqjEIT1UWb",
        "outputId": "9b04766a-8f63-4dbb-e5e7-544dd139fc22"
      },
      "outputs": [
        {
          "output_type": "execute_result",
          "data": {
            "text/plain": [
              "Text(0, 0.5, 'Count')"
            ]
          },
          "metadata": {},
          "execution_count": 17
        },
        {
          "output_type": "display_data",
          "data": {
            "image/png": "[encoded data removed]",
            "text/plain": [
              "<Figure size 1800x576 with 1 Axes>"
            ]
          },
          "metadata": {
            "needs_background": "light"
          }
        }
      ],
      "source": [
        "plt.figure(figsize=(25,8))\n",
        "plt.title('Number of fraud transactions by categories')\n",
        "sns.barplot(x=\"category\", y='cc_num' ,hue=\"is_fraud\", data=df_train.groupby(['category','is_fraud']).agg({'cc_num':'count'}).reset_index(), palette = 'Set2')\n",
        "plt.ylabel('Count')"
      ]
    },
    {
      "cell_type": "code",
      "execution_count": null,
      "metadata": {
        "colab": {
          "base_uri": "https://localhost:8080/"
        },
        "id": "CFgSP4BZNw7W",
        "outputId": "30975fc4-d02f-42c0-f7ec-3809e87ccaac"
      },
      "outputs": [
        {
          "output_type": "execute_result",
          "data": {
            "text/plain": [
              "fraud_Kilback LLC                              4403\n",
              "fraud_Cormier LLC                              3649\n",
              "fraud_Schumm PLC                               3634\n",
              "fraud_Kuhn LLC                                 3510\n",
              "fraud_Boyer PLC                                3493\n",
              "fraud_Dickinson Ltd                            3434\n",
              "fraud_Cummerata-Jones                          2736\n",
              "fraud_Kutch LLC                                2734\n",
              "fraud_Olson, Becker and Koch                   2723\n",
              "fraud_Stroman, Hudson and Erdman               2721\n",
              "fraud_Rodriguez Group                          2716\n",
              "fraud_Jenkins, Hauck and Friesen               2705\n",
              "fraud_Erdman-Kertzmann                         2705\n",
              "fraud_Kling Inc                                2687\n",
              "fraud_Connelly, Reichert and Fritsch           2684\n",
              "fraud_Friesen-Stamm                            2680\n",
              "fraud_Prohaska-Murray                          2679\n",
              "fraud_Huels-Hahn                               2678\n",
              "fraud_Berge LLC                                2677\n",
              "fraud_Christiansen, Goyette and Schamberger    2676\n",
              "fraud_Bartoletti-Wunsch                        2676\n",
              "fraud_Corwin-Collins                           2675\n",
              "fraud_Eichmann, Bogan and Rodriguez            2658\n",
              "fraud_Greenholt, Jacobi and Gleason            2656\n",
              "fraud_Bins-Rice                                2655\n",
              "fraud_Brekke and Sons                          2653\n",
              "fraud_Schmitt Inc                              2651\n",
              "fraud_Mraz-Herzog                              2646\n",
              "fraud_Tillman, Dickinson and Labadie           2645\n",
              "fraud_Kuvalis Ltd                              2643\n",
              "fraud_Torp-Labadie                             2642\n",
              "fraud_Emard Inc                                2641\n",
              "fraud_Bernhard Inc                             2639\n",
              "fraud_Parisian and Sons                        2637\n",
              "fraud_Luettgen PLC                             2630\n",
              "fraud_Raynor, Reinger and Hagenes              2621\n",
              "fraud_Schaefer, Maggio and Daugherty           2620\n",
              "fraud_Ledner-Pfannerstill                      2619\n",
              "fraud_Streich, Hansen and Veum                 2617\n",
              "fraud_Koss and Sons                            2616\n",
              "fraud_Kutch, Hermiston and Farrell             2613\n",
              "fraud_Conroy-Cruickshank                       2603\n",
              "fraud_Cummings LLC                             2598\n",
              "fraud_Sporer Inc                               2593\n",
              "fraud_Huels-Nolan                              2593\n",
              "fraud_Lind, Huel and McClure                   2589\n",
              "fraud_Schaefer, McGlynn and Bosco              2579\n",
              "fraud_Terry Ltd                                2571\n",
              "fraud_Hackett-Lueilwitz                        2568\n",
              "fraud_O'Reilly, Mohr and Purdy                 2563\n",
              "fraud_Harris Inc                               2562\n",
              "fraud_Zieme, Bode and Dooley                   2560\n",
              "fraud_Doyle Ltd                                2558\n",
              "fraud_Marks Inc                                2557\n",
              "fraud_Medhurst Inc                             2556\n",
              "fraud_Eichmann-Kilback                         2554\n",
              "fraud_Bradtke PLC                              2552\n",
              "fraud_Reilly, Heaney and Cole                  2551\n",
              "fraud_Pacocha-O'Reilly                         2549\n",
              "fraud_Denesik, Powlowski and Pouros            2549\n",
              "fraud_Goodwin-Nitzsche                         2542\n",
              "fraud_Heller-Langosh                           2541\n",
              "fraud_Robel, Cummerata and Prosacco            2536\n",
              "fraud_Pollich LLC                              2533\n",
              "fraud_McDermott-Weimann                        2524\n",
              "fraud_Connelly-Carter                          2523\n",
              "fraud_Raynor, Feest and Miller                 2521\n",
              "fraud_Schiller, Blanda and Johnson             2519\n",
              "fraud_O'Connell, Botsford and Hand             2519\n",
              "fraud_Harber Inc                               2515\n",
              "fraud_Casper, Hand and Zulauf                  2514\n",
              "fraud_Gulgowski LLC                            2513\n",
              "fraud_Bauch-Raynor                             2513\n",
              "fraud_Schumm, Bauch and Ondricka               2512\n",
              "fraud_Murray-Smitham                           2510\n",
              "fraud_Friesen-D'Amore                          2507\n",
              "fraud_Osinski, Ledner and Leuschke             2507\n",
              "fraud_White and Sons                           2506\n",
              "fraud_Lockman, West and Runte                  2505\n",
              "fraud_Altenwerth-Kilback                       2503\n",
              "fraud_Gislason Group                           2503\n",
              "fraud_Heller, Gutmann and Zieme                2503\n",
              "fraud_Quitzon-Goyette                          2502\n",
              "fraud_Kutch-Wilderman                          2501\n",
              "fraud_Champlin-Casper                          2499\n",
              "fraud_Kiehn-Emmerich                           2497\n",
              "fraud_McDermott, Osinski and Morar             2495\n",
              "fraud_Renner Ltd                               2495\n",
              "fraud_Lockman Ltd                              2492\n",
              "fraud_DuBuque LLC                              2491\n",
              "fraud_Gutmann, McLaughlin and Wiza             2491\n",
              "fraud_Rau and Sons                             2490\n",
              "fraud_Rutherford-Mertz                         2489\n",
              "fraud_Kling, Howe and Schneider                2488\n",
              "fraud_Cole PLC                                 2488\n",
              "fraud_Schamberger-O'Keefe                      2485\n",
              "fraud_Deckow-O'Conner                          2483\n",
              "fraud_Bahringer, Bergnaum and Quitzon          2481\n",
              "fraud_Stark-Koss                               2479\n",
              "fraud_Botsford and Sons                        2477\n",
              "fraud_Hudson-Ratke                             2476\n",
              "fraud_Vandervort-Funk                          2474\n",
              "fraud_Beier and Sons                           2473\n",
              "fraud_Kutch and Sons                           2472\n",
              "fraud_Kovacek, Dibbert and Ondricka            2471\n",
              "fraud_Goldner, Kovacek and Abbott              2471\n",
              "fraud_Botsford PLC                             2468\n",
              "fraud_Schoen, Kuphal and Nitzsche              2467\n",
              "fraud_Wuckert, Wintheiser and Friesen          2466\n",
              "fraud_Lynch-Wisozk                             2464\n",
              "fraud_Miller-Hauck                             2463\n",
              "fraud_Strosin-Cruickshank                      2459\n",
              "fraud_Kunze Inc                                2458\n",
              "fraud_Mosciski, Gislason and Mertz             2457\n",
              "fraud_Gaylord-Powlowski                        2456\n",
              "fraud_Moore, Williamson and Emmerich           2456\n",
              "fraud_Auer-Mosciski                            2455\n",
              "fraud_Windler, Goodwin and Kovacek             2452\n",
              "fraud_Ernser-Feest                             2452\n",
              "fraud_Kiehn Inc                                2452\n",
              "fraud_Crist, Jakubowski and Littel             2449\n",
              "fraud_Barton Inc                               2447\n",
              "fraud_Collier LLC                              2445\n",
              "fraud_Jakubowski Inc                           2445\n",
              "fraud_Skiles LLC                               2444\n",
              "fraud_Prosacco, Kreiger and Kovacek            2440\n",
              "fraud_O'Keefe-Hudson                           2439\n",
              "fraud_Bogisich Inc                             2439\n",
              "fraud_Berge-Ullrich                            2438\n",
              "fraud_Koepp-Witting                            2437\n",
              "fraud_Rowe, Batz and Goodwin                   2436\n",
              "fraud_Stoltenberg-Beatty                       2434\n",
              "fraud_Kuhic Inc                                2434\n",
              "fraud_Heidenreich PLC                          2434\n",
              "fraud_Huel, Hammes and Witting                 2433\n",
              "fraud_Reilly LLC                               2433\n",
              "fraud_Bailey-Morar                             2430\n",
              "fraud_Cole, Hills and Jewess                   2426\n",
              "fraud_Padberg-Welch                            2424\n",
              "fraud_Padberg-Sauer                            2424\n",
              "fraud_Gerhold LLC                              2421\n",
              "fraud_Stracke-Lemke                            2420\n",
              "fraud_Hickle Group                             2416\n",
              "fraud_Schuppe, Nolan and Hoeger                2414\n",
              "fraud_Hettinger, McCullough and Fay            2410\n",
              "fraud_Cartwright-Harris                        2410\n",
              "fraud_Koepp-Parker                             2406\n",
              "fraud_O'Connell-Ullrich                        2404\n",
              "fraud_Streich Ltd                              2404\n",
              "fraud_Schultz, Simonis and Little              2399\n",
              "fraud_Kihn Inc                                 2396\n",
              "fraud_Morissette PLC                           2394\n",
              "fraud_Wolf Inc                                 2394\n",
              "fraud_Quitzon, Green and Bashirian             2391\n",
              "fraud_Kutch-Ferry                              2391\n",
              "fraud_Witting, Beer and Ernser                 2390\n",
              "fraud_Schmidt-Larkin                           2381\n",
              "fraud_Weimann, Kuhic and Beahan                2380\n",
              "fraud_Moen, Reinger and Murphy                 2378\n",
              "fraud_Macejkovic-Lesch                         2369\n",
              "fraud_Sawayn PLC                               2366\n",
              "fraud_Baumbach, Hodkiewicz and Walsh           2365\n",
              "fraud_Beier-Hyatt                              2365\n",
              "fraud_Hilpert-Conroy                           2363\n",
              "fraud_Mohr Inc                                 2362\n",
              "fraud_Little Ltd                               2361\n",
              "fraud_Yost, Schamberger and Windler            2358\n",
              "fraud_Hermann and Sons                         2357\n",
              "fraud_Pouros-Conroy                            2355\n",
              "fraud_Metz-Boehm                               2354\n",
              "fraud_Bernier and Sons                         2352\n",
              "fraud_Mayert Group                             2351\n",
              "fraud_Willms, Kris and Bergnaum                2351\n",
              "fraud_Champlin and Sons                        2345\n",
              "fraud_Durgan, Gislason and Spencer             2342\n",
              "fraud_Koss, Hansen and Lueilwitz               2341\n",
              "fraud_Jacobi and Sons                          2340\n",
              "fraud_Nitzsche, Kessler and Wolff              2339\n",
              "fraud_Wuckert-Goldner                          2338\n",
              "fraud_Conroy Ltd                               2337\n",
              "fraud_Schoen Ltd                               2337\n",
              "fraud_Pouros-Haag                              2334\n",
              "fraud_Romaguera, Wehner and Tromp              2331\n",
              "fraud_Watsica, Haag and Considine              2331\n",
              "fraud_Swaniawski, Lowe and Robel               2329\n",
              "fraud_Lesch Ltd                                2329\n",
              "fraud_Haley, Jewess and Bechtelar              2328\n",
              "fraud_Goyette, Howell and Collier              2328\n",
              "fraud_Pagac LLC                                2325\n",
              "fraud_Pacocha-Bauch                            2324\n",
              "fraud_Roob, Conn and Tremblay                  2324\n",
              "fraud_Friesen Inc                              2322\n",
              "fraud_Torphy-Goyette                           2318\n",
              "fraud_Bins, Balistreri and Beatty              2315\n",
              "fraud_Pfeffer and Sons                         2314\n",
              "fraud_Baumbach, Strosin and Nicolas            2314\n",
              "fraud_Turner and Sons                          2312\n",
              "fraud_Bogisich-Weimann                         2311\n",
              "fraud_Botsford Ltd                             2311\n",
              "fraud_Kris-Padberg                             2309\n",
              "fraud_Lynch Ltd                                2309\n",
              "fraud_Jewess LLC                               2306\n",
              "fraud_Okuneva, Schneider and Rau               2306\n",
              "fraud_Weimann-Lockman                          2305\n",
              "fraud_Bernhard, Grant and Langworth            2304\n",
              "fraud_Bode-Schuster                            2303\n",
              "fraud_Dooley Inc                               2300\n",
              "fraud_Barton LLC                               2298\n",
              "fraud_Daugherty, Pouros and Beahan             2297\n",
              "fraud_Hudson-Grady                             2295\n",
              "fraud_Bode-Rempel                              2294\n",
              "fraud_Pouros, Walker and Spencer               2293\n",
              "fraud_Pacocha-Weissnat                         2289\n",
              "fraud_Bahringer, Schoen and Corkery            2286\n",
              "fraud_Swift PLC                                2286\n",
              "fraud_Berge-Hills                              2284\n",
              "fraud_Cartwright PLC                           2282\n",
              "fraud_Hoppe-Parisian                           2282\n",
              "fraud_Goyette-Gerhold                          2281\n",
              "fraud_Streich, Rolfson and Wilderman           2280\n",
              "fraud_Ruecker-Mayert                           2280\n",
              "fraud_Schaefer Ltd                             2280\n",
              "fraud_Lang, Towne and Schuppe                  2278\n",
              "fraud_Denesik and Sons                         2276\n",
              "fraud_Waelchi Inc                              2274\n",
              "fraud_Jast-McDermott                           2274\n",
              "fraud_Hauck, Dietrich and Funk                 2271\n",
              "fraud_Barrows PLC                              2268\n",
              "fraud_Beer-Jast                                2266\n",
              "fraud_Lubowitz-Walter                          2263\n",
              "fraud_Gottlieb Group                           2262\n",
              "fraud_Douglas, Schneider and Turner            2260\n",
              "fraud_Crona and Sons                           2254\n",
              "fraud_Rau-Grant                                2253\n",
              "fraud_Rau-Robel                                2249\n",
              "fraud_Lowe, Dietrich and Erdman                2245\n",
              "fraud_Larkin Ltd                               2244\n",
              "fraud_Gleason and Sons                         2240\n",
              "fraud_Fahey Inc                                2239\n",
              "fraud_Weber, Thiel and Hammes                  2238\n",
              "fraud_Daugherty LLC                            2230\n",
              "fraud_Ullrich Ltd                              2219\n",
              "fraud_Metz, Russel and Metz                    2214\n",
              "fraud_Brown Inc                                2211\n",
              "fraud_Schoen-Quigley                           2208\n",
              "fraud_Bednar PLC                               2201\n",
              "fraud_Roberts, Daniel and Macejkovic           2199\n",
              "fraud_Schimmel-Olson                           2198\n",
              "fraud_Windler LLC                              2197\n",
              "fraud_Breitenberg-Hermiston                    2195\n",
              "fraud_Hammes-Beatty                            2194\n",
              "fraud_Dare, Casper and Bartoletti              2194\n",
              "fraud_Nolan-Williamson                         2192\n",
              "fraud_Waelchi-Wolf                             2185\n",
              "fraud_Wilkinson PLC                            2172\n",
              "fraud_Fisher Inc                               2041\n",
              "fraud_Gleason-Macejkovic                       2033\n",
              "fraud_Predovic Inc                             2021\n",
              "fraud_Zboncak, Rowe and Murazik                2017\n",
              "fraud_Hills-Witting                            2016\n",
              "fraud_Kuhic, Bins and Pfeffer                  2003\n",
              "fraud_Gottlieb, Considine and Schultz          2001\n",
              "fraud_Terry-Huel                               1996\n",
              "fraud_Mohr-Bayer                               1992\n",
              "fraud_Stanton, Jakubowski and Baumbach         1986\n",
              "fraud_Kuhic LLC                                1985\n",
              "fraud_Parker, Nolan and Trantow                1984\n",
              "fraud_Nicolas, Hills and McGlynn               1984\n",
              "fraud_Price Inc                                1983\n",
              "fraud_Reichert, Shanahan and Hayes             1979\n",
              "fraud_Heathcote LLC                            1976\n",
              "fraud_Medhurst PLC                             1974\n",
              "fraud_Hermiston, Russel and Price              1973\n",
              "fraud_Little, Gutmann and Lynch                1971\n",
              "fraud_Fisher-Schowalter                        1970\n",
              "fraud_Langworth, Boehm and Gulgowski           1969\n",
              "fraud_Schmeler, Bashirian and Price            1968\n",
              "fraud_Heathcote, Yost and Kertzmann            1956\n",
              "fraud_Bins-Tillman                             1954\n",
              "fraud_Jast Ltd                                 1953\n",
              "fraud_Lemke-Gutmann                            1953\n",
              "fraud_Kassulke PLC                             1952\n",
              "fraud_Mosciski, Ziemann and Farrell            1951\n",
              "fraud_Schmidt and Sons                         1950\n",
              "fraud_Volkman-Predovic                         1949\n",
              "fraud_Streich, Dietrich and Barton             1949\n",
              "fraud_Gerlach Inc                              1948\n",
              "fraud_Towne, Greenholt and Koepp               1944\n",
              "fraud_Goyette Inc                              1943\n",
              "fraud_Romaguera, Cruickshank and Greenholt     1939\n",
              "fraud_Ruecker, Beer and Collier                1937\n",
              "fraud_Greenholt, O'Hara and Balistreri         1935\n",
              "fraud_Rempel Inc                               1934\n",
              "fraud_Bashirian Group                          1930\n",
              "fraud_Baumbach, Feeney and Morar               1929\n",
              "fraud_Dibbert and Sons                         1927\n",
              "fraud_Ankunding LLC                            1923\n",
              "fraud_Labadie, Treutel and Bode                1920\n",
              "fraud_Kling-Ernser                             1917\n",
              "fraud_Douglas-White                            1917\n",
              "fraud_Schaefer, Fay and Hilll                  1915\n",
              "fraud_Bauch-Blanda                             1913\n",
              "fraud_Reichert, Huels and Hoppe                1912\n",
              "fraud_Reinger, Weissnat and Strosin            1910\n",
              "fraud_Boyer-Reichert                           1908\n",
              "fraud_Reichel Inc                              1907\n",
              "fraud_Schuppe LLC                              1907\n",
              "fraud_Brown-Greenholt                          1906\n",
              "fraud_Reichert, Rowe and Mraz                  1904\n",
              "fraud_Altenwerth, Cartwright and Koss          1904\n",
              "fraud_Grimes LLC                               1904\n",
              "fraud_Padberg-Rogahn                           1902\n",
              "fraud_Johns Inc                                1901\n",
              "fraud_Cummerata-Hilpert                        1900\n",
              "fraud_Gibson-Deckow                            1900\n",
              "fraud_Morissette LLC                           1896\n",
              "fraud_Graham, Hegmann and Hammes               1896\n",
              "fraud_Lind-Buckridge                           1895\n",
              "fraud_Abshire PLC                              1895\n",
              "fraud_Fadel, Mertz and Rippin                  1895\n",
              "fraud_Frami Group                              1892\n",
              "fraud_Cruickshank-Mills                        1892\n",
              "fraud_Beier LLC                                1889\n",
              "fraud_Runolfsdottir, Mueller and Hand          1888\n",
              "fraud_Kihn, Abernathy and Douglas              1888\n",
              "fraud_Spencer PLC                              1888\n",
              "fraud_Auer-West                                1887\n",
              "fraud_Nienow PLC                               1887\n",
              "fraud_Hoppe, Harris and Bednar                 1884\n",
              "fraud_Armstrong, Walter and Gottlieb           1883\n",
              "fraud_Kautzer and Sons                         1882\n",
              "fraud_Becker, Harris and Harvey                1882\n",
              "fraud_Volkman PLC                              1881\n",
              "fraud_Stamm-Witting                            1877\n",
              "fraud_Dibbert-Green                            1876\n",
              "fraud_Cormier, Stracke and Thiel               1875\n",
              "fraud_Turcotte, McKenzie and Koss              1874\n",
              "fraud_Yost-Rogahn                              1872\n",
              "fraud_Wilkinson Ltd                            1871\n",
              "fraud_Koss, McLaughlin and Mayer               1871\n",
              "fraud_Zboncak Ltd                              1870\n",
              "fraud_Kuphal-Toy                               1869\n",
              "fraud_Kozey-Boehm                              1866\n",
              "fraud_Stark-Batz                               1866\n",
              "fraud_Kihn-Fritsch                             1864\n",
              "fraud_Howe PLC                                 1863\n",
              "fraud_Erdman-Ebert                             1863\n",
              "fraud_Will Ltd                                 1862\n",
              "fraud_Konopelski, Schneider and Hartmann       1861\n",
              "fraud_Nienow, Barrows and Romaguera            1860\n",
              "fraud_Heaney-Marquardt                         1859\n",
              "fraud_Dare-Marvin                              1858\n",
              "fraud_Bradtke, Torp and Bahringer              1857\n",
              "fraud_Kilback Group                            1854\n",
              "fraud_Bins-Howell                              1854\n",
              "fraud_Gottlieb-Hansen                          1854\n",
              "fraud_Stiedemann Ltd                           1853\n",
              "fraud_Walter, Hettinger and Kessler            1852\n",
              "fraud_Effertz, Welch and Schowalter            1852\n",
              "fraud_Leffler-Goldner                          1851\n",
              "fraud_Lesch, D'Amore and Brown                 1849\n",
              "fraud_Daugherty-Thompson                       1847\n",
              "fraud_McKenzie-Huels                           1846\n",
              "fraud_Welch, Rath and Koepp                    1846\n",
              "fraud_Schulist Ltd                             1844\n",
              "fraud_Crooks and Sons                          1844\n",
              "fraud_Abbott-Rogahn                            1844\n",
              "fraud_Weber and Sons                           1842\n",
              "fraud_Donnelly LLC                             1842\n",
              "fraud_Haag-Blanda                              1841\n",
              "fraud_Hills-Boyer                              1840\n",
              "fraud_Kerluke-Abshire                          1838\n",
              "fraud_Thiel-Thiel                              1837\n",
              "fraud_Kozey-Kuhlman                            1836\n",
              "fraud_Auer LLC                                 1836\n",
              "fraud_Ernser-Lynch                             1836\n",
              "fraud_Upton PLC                                1836\n",
              "fraud_Larkin, Stracke and Greenfelder          1836\n",
              "fraud_Leannon-Ward                             1836\n",
              "fraud_Prosacco LLC                             1835\n",
              "fraud_Harris Group                             1835\n",
              "fraud_Kilback and Sons                         1835\n",
              "fraud_Johns-Hoeger                             1833\n",
              "fraud_Schroeder, Hauck and Treutel             1832\n",
              "fraud_Kassulke Inc                             1832\n",
              "fraud_Jast and Sons                            1830\n",
              "fraud_Goldner-Lemke                            1829\n",
              "fraud_Feil, Hilpert and Koss                   1829\n",
              "fraud_Parker-Kunde                             1828\n",
              "fraud_Mueller, Gerhold and Mueller             1828\n",
              "fraud_Klein Group                              1828\n",
              "fraud_Kutch, Steuber and Gerhold               1827\n",
              "fraud_Bernhard-Lesch                           1827\n",
              "fraud_Schneider, Hayes and Nikolaus            1827\n",
              "fraud_Larson-Moen                              1827\n",
              "fraud_Runte-Mohr                               1826\n",
              "fraud_Jakubowski Group                         1825\n",
              "fraud_Sporer-Keebler                           1825\n",
              "fraud_Effertz LLC                              1824\n",
              "fraud_Watsica LLC                              1823\n",
              "fraud_Connelly PLC                             1821\n",
              "fraud_Osinski Inc                              1821\n",
              "fraud_Rolfson-Kunde                            1821\n",
              "fraud_McCullough, Hudson and Schuster          1821\n",
              "fraud_Bartoletti and Sons                      1820\n",
              "fraud_Erdman-Schaden                           1819\n",
              "fraud_Bechtelar-Rippin                         1819\n",
              "fraud_Lakin, Ferry and Beatty                  1817\n",
              "fraud_Kirlin and Sons                          1816\n",
              "fraud_Langworth LLC                            1816\n",
              "fraud_Roberts, Ryan and Smith                  1815\n",
              "fraud_Labadie LLC                              1813\n",
              "fraud_Bahringer-Streich                        1812\n",
              "fraud_Morissette-Schaefer                      1808\n",
              "fraud_Berge, Kautzer and Harris                1808\n",
              "fraud_Hirthe-Beier                             1807\n",
              "fraud_O'Hara-Wilderman                         1807\n",
              "fraud_Baumbach Ltd                             1807\n",
              "fraud_Schmeler-Howe                            1805\n",
              "fraud_Deckow-Dare                              1805\n",
              "fraud_Marvin-Lind                              1805\n",
              "fraud_Hagenes, Kohler and Hoppe                1805\n",
              "fraud_Zemlak, Tillman and Cremin               1804\n",
              "fraud_Shanahan-Lehner                          1803\n",
              "fraud_Kub PLC                                  1802\n",
              "fraud_O'Keefe-Wisoky                           1801\n",
              "fraud_Monahan-Morar                            1800\n",
              "fraud_Waters-Cruickshank                       1800\n",
              "fraud_Powlowski-Weimann                        1799\n",
              "fraud_Kihn, Brakus and Goyette                 1798\n",
              "fraud_Homenick LLC                             1791\n",
              "fraud_Hyatt, Russel and Gleichner              1789\n",
              "fraud_Langosh, Wintheiser and Hyatt            1788\n",
              "fraud_Schuppe-Schuppe                          1788\n",
              "fraud_Haley, Batz and Auer                     1787\n",
              "fraud_Lubowitz, Terry and Stracke              1786\n",
              "fraud_Hahn, Bahringer and McLaughlin           1785\n",
              "fraud_Nader-Maggio                             1785\n",
              "fraud_Zulauf LLC                               1783\n",
              "fraud_Schoen, Nienow and Bauch                 1783\n",
              "fraud_Turner, Ziemann and Lehner               1779\n",
              "fraud_Conroy-Emard                             1778\n",
              "fraud_Reichel LLC                              1773\n",
              "fraud_Schumm, McLaughlin and Carter            1772\n",
              "fraud_Kuhn Group                               1768\n",
              "fraud_Brown, Homenick and Lesch                1768\n",
              "fraud_Zboncak LLC                              1766\n",
              "fraud_Schiller Ltd                             1764\n",
              "fraud_Abbott-Steuber                           1763\n",
              "fraud_Fadel Inc                                1761\n",
              "fraud_Kihn-Schuster                            1757\n",
              "fraud_Friesen-Ortiz                            1756\n",
              "fraud_Rippin-VonRueden                         1755\n",
              "fraud_Wilkinson LLC                            1755\n",
              "fraud_Emmerich-Rau                             1754\n",
              "fraud_Feil-Morar                               1754\n",
              "fraud_Friesen Ltd                              1751\n",
              "fraud_Abernathy and Sons                       1751\n",
              "fraud_Medhurst, Cartwright and Ebert           1750\n",
              "fraud_Hills, Hegmann and Schaefer              1746\n",
              "fraud_Adams-Barrows                            1746\n",
              "fraud_Dietrich-Fadel                           1744\n",
              "fraud_Dare, Fritsch and Zboncak                1740\n",
              "fraud_Conroy, Balistreri and Gorczany          1739\n",
              "fraud_Kulas Group                              1734\n",
              "fraud_Kub-Heaney                               1733\n",
              "fraud_Hamill-D'Amore                           1727\n",
              "fraud_Torp, Muller and Borer                   1726\n",
              "fraud_Ratke and Sons                           1723\n",
              "fraud_Bahringer Group                          1722\n",
              "fraud_Bahringer, Osinski and Block             1721\n",
              "fraud_Romaguera Ltd                            1716\n",
              "fraud_Shields-Wunsch                           1716\n",
              "fraud_Swaniawski, Nitzsche and Welch           1716\n",
              "fraud_Cronin, Kshlerin and Weber               1711\n",
              "fraud_Erdman-Durgan                            1707\n",
              "fraud_Carroll PLC                              1706\n",
              "fraud_Ledner, Hartmann and Feest               1706\n",
              "fraud_Mante, Luettgen and Hackett              1701\n",
              "fraud_Greenholt Ltd                            1700\n",
              "fraud_Fritsch and Sons                         1699\n",
              "fraud_Heller PLC                               1699\n",
              "fraud_Klocko, Runolfsdottir and Breitenberg    1696\n",
              "fraud_Ziemann-Waters                           1695\n",
              "fraud_Graham and Sons                          1693\n",
              "fraud_Thompson-Gleason                         1691\n",
              "fraud_Roob-Okuneva                             1690\n",
              "fraud_Flatley Group                            1687\n",
              "fraud_Dare-Gibson                              1683\n",
              "fraud_Reilly and Sons                          1682\n",
              "fraud_Fadel-Hilpert                            1677\n",
              "fraud_Schroeder Group                          1675\n",
              "fraud_Hintz, Bauch and Smith                   1673\n",
              "fraud_Torphy-Kertzmann                         1672\n",
              "fraud_Kertzmann LLC                            1671\n",
              "fraud_Runte, Green and Emard                   1667\n",
              "fraud_Jacobi Inc                               1665\n",
              "fraud_Wiza, Schaden and Stark                  1663\n",
              "fraud_Herzog Ltd                               1659\n",
              "fraud_Stamm-Rodriguez                          1655\n",
              "fraud_Christiansen-Gusikowski                  1650\n",
              "fraud_Smith-Stokes                             1647\n",
              "fraud_McDermott-Rice                           1645\n",
              "fraud_Turcotte, Batz and Buckridge             1644\n",
              "fraud_Williamson LLC                           1639\n",
              "fraud_Hermiston, Pacocha and Smith             1630\n",
              "fraud_Haley Group                              1629\n",
              "fraud_Wintheiser, Dietrich and Schimmel        1629\n",
              "fraud_Hermann-Gaylord                          1628\n",
              "fraud_Yost, Block and Koepp                    1622\n",
              "fraud_Howe Ltd                                 1620\n",
              "fraud_Torp-Lemke                               1610\n",
              "fraud_Wiza LLC                                 1609\n",
              "fraud_Maggio-Fahey                             1608\n",
              "fraud_McCullough LLC                           1607\n",
              "fraud_Kemmer-Buckridge                         1603\n",
              "fraud_Schmeler Inc                             1598\n",
              "fraud_Halvorson Group                          1597\n",
              "fraud_Block Group                              1596\n",
              "fraud_Keeling-Crist                            1592\n",
              "fraud_Spencer-Runolfsson                       1590\n",
              "fraud_Nienow, Ankunding and Collier            1588\n",
              "fraud_Wisozk and Sons                          1585\n",
              "fraud_McGlynn-Jaskolski                        1584\n",
              "fraud_Herman Inc                               1583\n",
              "fraud_Buckridge PLC                            1583\n",
              "fraud_Terry, Johns and Bins                    1582\n",
              "fraud_Stiedemann Inc                           1580\n",
              "fraud_Roberts-Beahan                           1571\n",
              "fraud_Lehner, Reichert and Mills               1569\n",
              "fraud_Turcotte-Halvorson                       1568\n",
              "fraud_Boehm, Block and Jakubowski              1567\n",
              "fraud_Simonis-Prohaska                         1564\n",
              "fraud_Thiel PLC                                1559\n",
              "fraud_Boehm, Predovic and Reinger              1554\n",
              "fraud_Gutmann-Upton                            1554\n",
              "fraud_Reynolds-Schinner                        1553\n",
              "fraud_Bruen-Yost                               1551\n",
              "fraud_Cremin, Hamill and Reichel               1544\n",
              "fraud_Balistreri-Nader                         1540\n",
              "fraud_Monahan, Bogisich and Ledner             1535\n",
              "fraud_Dickinson-Rempel                         1535\n",
              "fraud_Turner, Ruecker and Parisian             1529\n",
              "fraud_Eichmann-Russel                          1525\n",
              "fraud_Towne LLC                                1524\n",
              "fraud_Lebsack and Sons                         1332\n",
              "fraud_Huel Ltd                                 1324\n",
              "fraud_Bednar Group                             1320\n",
              "fraud_Huel-Langworth                           1317\n",
              "fraud_Lehner, Mosciski and King                1307\n",
              "fraud_Tillman, Fritsch and Schmitt             1307\n",
              "fraud_Corwin-Gorczany                          1306\n",
              "fraud_Block-Parisian                           1305\n",
              "fraud_Kuphal-Predovic                          1304\n",
              "fraud_Rodriguez, Yost and Jenkins              1304\n",
              "fraud_Ferry, Lynch and Kautzer                 1302\n",
              "fraud_Herman, Treutel and Dickens              1300\n",
              "fraud_Donnelly PLC                             1299\n",
              "fraud_Kuphal-Bartoletti                        1297\n",
              "fraud_Zemlak Group                             1297\n",
              "fraud_Bogisich-Homenick                        1291\n",
              "fraud_Stehr, Jewess and Schimmel               1290\n",
              "fraud_Parisian, Schiller and Altenwerth        1288\n",
              "fraud_Kerluke Inc                              1287\n",
              "fraud_Durgan-Auer                              1283\n",
              "fraud_McGlynn-Heathcote                        1280\n",
              "fraud_Rohan, White and Aufderhar               1279\n",
              "fraud_Johnson, Runolfsdottir and Mayer         1277\n",
              "fraud_Klocko LLC                               1274\n",
              "fraud_Volkman Ltd                              1270\n",
              "fraud_Jones, Sawayn and Romaguera              1269\n",
              "fraud_Rippin, Kub and Mann                     1267\n",
              "fraud_Moore, Dibbert and Koepp                 1266\n",
              "fraud_Welch Inc                                1265\n",
              "fraud_Koelpin and Sons                         1259\n",
              "fraud_Dach-Nader                               1258\n",
              "fraud_Schmitt Ltd                              1256\n",
              "fraud_Hamill-Daugherty                         1251\n",
              "fraud_Hayes, Marquardt and Dibbert             1246\n",
              "fraud_Miller-Harris                            1241\n",
              "fraud_Dooley-Thompson                          1239\n",
              "fraud_Greenfelder, Bartoletti and Davis        1238\n",
              "fraud_Jaskolski-Vandervort                     1234\n",
              "fraud_Kunde-Sanford                            1231\n",
              "fraud_Kris-Weimann                             1228\n",
              "fraud_Bernier, Volkman and Hoeger              1228\n",
              "fraud_Nader-Heller                             1226\n",
              "fraud_Mante Group                              1223\n",
              "fraud_Kerluke PLC                              1222\n",
              "fraud_Ruecker Group                            1205\n",
              "fraud_Flatley-Durgan                           1205\n",
              "fraud_Kerluke, Kertzmann and Wiza              1201\n",
              "fraud_Kerluke, Considine and Macejkovic        1191\n",
              "fraud_Brown PLC                                1176\n",
              "fraud_Dach-Borer                                966\n",
              "fraud_Bernier, Streich and Jewess               963\n",
              "fraud_Morissette, Weber and Wiegand             963\n",
              "fraud_Ferry, Reichel and DuBuque                960\n",
              "fraud_Roob LLC                                  952\n",
              "fraud_Kling-Grant                               947\n",
              "fraud_Kemmer-Reinger                            945\n",
              "fraud_Tromp, Kerluke and Glover                 940\n",
              "fraud_Adams, Kovacek and Kuhlman                940\n",
              "fraud_Towne, Walker and Borer                   936\n",
              "fraud_Murray Ltd                                935\n",
              "fraud_Runolfsson and Sons                       928\n",
              "fraud_Kutch-Hegmann                             925\n",
              "fraud_Shields Inc                               923\n",
              "fraud_VonRueden Group                           923\n",
              "fraud_Collier Inc                               921\n",
              "fraud_Paucek-Wiza                               918\n",
              "fraud_Gutmann Ltd                               914\n",
              "fraud_Kutch Group                               914\n",
              "fraud_Wuckert-Walter                            913\n",
              "fraud_Skiles-Ankunding                          912\n",
              "fraud_Morar Inc                                 912\n",
              "fraud_Stokes, Christiansen and Sipes            911\n",
              "fraud_Swaniawski, Bahringer and Ledner          910\n",
              "fraud_Smitham-Schiller                          909\n",
              "fraud_Spinka-Welch                              908\n",
              "fraud_Emmerich-Luettgen                         908\n",
              "fraud_Rutherford, Homenick and Bergstrom        906\n",
              "fraud_Dicki Ltd                                 906\n",
              "fraud_Rowe-Vandervort                           906\n",
              "fraud_Johnston, Nikolaus and Maggio             903\n",
              "fraud_Smitham-Boehm                             899\n",
              "fraud_Spinka Inc                                899\n",
              "fraud_Wiegand-Lowe                              898\n",
              "fraud_Swift, Bradtke and Marquardt              898\n",
              "fraud_Ortiz Group                               897\n",
              "fraud_Harris, Gusikowski and Heaney             897\n",
              "fraud_Jaskolski-Dibbert                         895\n",
              "fraud_Rempel PLC                                887\n",
              "fraud_Hintz-Bruen                               884\n",
              "fraud_Funk Group                                883\n",
              "fraud_Cassin-Harvey                             881\n",
              "fraud_Cummings Group                            880\n",
              "fraud_Hills-Olson                               880\n",
              "fraud_Trantow PLC                               877\n",
              "fraud_Heller-Abshire                            877\n",
              "fraud_Corwin-Romaguera                          875\n",
              "fraud_McCullough Group                          874\n",
              "fraud_Pfeffer LLC                               866\n",
              "fraud_Block-Hauck                               864\n",
              "fraud_Hartmann, Rowe and Hermann                850\n",
              "fraud_Fritsch LLC                               846\n",
              "fraud_Hyatt-Blick                               845\n",
              "fraud_McLaughlin, Armstrong and Koepp           843\n",
              "fraud_Romaguera and Sons                        838\n",
              "fraud_Tillman LLC                               836\n",
              "fraud_Bednar Inc                                835\n",
              "fraud_Kohler, Lindgren and Koelpin              834\n",
              "fraud_Eichmann, Hayes and Treutel               833\n",
              "fraud_Johnston-Casper                           831\n",
              "fraud_Ritchie, Oberbrunner and Cremin           830\n",
              "fraud_Thiel Ltd                                 829\n",
              "fraud_Bahringer-Larson                          829\n",
              "fraud_Kovacek Ltd                               825\n",
              "fraud_Schroeder, Wolff and Hermiston            825\n",
              "fraud_Mosciski Group                            822\n",
              "fraud_Lynch-Mohr                                821\n",
              "fraud_Larson, Quitzon and Spencer               821\n",
              "fraud_Ankunding-Carroll                         821\n",
              "fraud_Leannon-Nikolaus                          819\n",
              "fraud_Monahan, Hermann and Johns                816\n",
              "fraud_Hagenes, Hermann and Stroman              816\n",
              "fraud_Turner LLC                                812\n",
              "fraud_Reichel, Bradtke and Blanda               812\n",
              "fraud_Ebert-Daugherty                           810\n",
              "fraud_Kunze, Larkin and Mayert                  807\n",
              "fraud_Kozey-McDermott                           806\n",
              "fraud_Kilback, Nitzsche and Leffler             805\n",
              "fraud_Kessler Inc                               805\n",
              "fraud_Kris-Kertzmann                            804\n",
              "fraud_Hackett Group                             803\n",
              "fraud_Veum-Koelpin                              802\n",
              "fraud_Kessler Group                             801\n",
              "fraud_Jerde-Hermann                             800\n",
              "fraud_Breitenberg LLC                           800\n",
              "fraud_Champlin, Rolfson and Connelly            800\n",
              "fraud_Goyette-Herzog                            798\n",
              "fraud_Lemke and Sons                            795\n",
              "fraud_Boyer-Haley                               788\n",
              "fraud_Hodkiewicz, Prohaska and Paucek           787\n",
              "fraud_Ritchie, Bradtke and Stiedemann           786\n",
              "fraud_Tromp Group                               785\n",
              "fraud_Little-Gleichner                          783\n",
              "fraud_Satterfield-Lowe                          776\n",
              "fraud_Douglas, DuBuque and McKenzie             775\n",
              "fraud_Treutel-King                              775\n",
              "fraud_Medhurst, Labadie and Gottlieb            759\n",
              "fraud_Reichert-Weissnat                         753\n",
              "fraud_Hahn, Douglas and Schowalter              727\n",
              "Name: merchant, dtype: int64"
            ]
          },
          "metadata": {},
          "execution_count": 18
        }
      ],
      "source": [
        "#The number of transactions that occured at each merchant in the dataset\n",
        "df_train.merchant.value_counts()"
      ]
    },
    {
      "cell_type": "markdown",
      "metadata": {
        "id": "Md4oj_uUmATS"
      },
      "source": [
        "# **3) Feature Engineering**"
      ]
    },
    {
      "cell_type": "code",
      "execution_count": null,
      "metadata": {
        "id": "ds1aXGb1oWSX"
      },
      "outputs": [],
      "source": [
        "#Change the data typr of dop, trans_date_trans_time to datetime\n",
        "df_train['dob'] = pd.to_datetime(df_train['dob'])\n",
        "df_train['trans_date_trans_time'] = pd.to_datetime(df_train['trans_date_trans_time'])\n",
        "\n",
        "############## Test ###############\n",
        "df_test['dob'] = pd.to_datetime(df_test['dob'])\n",
        "df_test['trans_date_trans_time'] = pd.to_datetime(df_test['trans_date_trans_time'])"
      ]
    },
    {
      "cell_type": "code",
      "execution_count": null,
      "metadata": {
        "id": "ClHf1PqUmJw6"
      },
      "outputs": [],
      "source": [
        "#Calculating the age of customers at the transaction time based on their date of birth\n",
        "df_train['age'] = (df_train['trans_date_trans_time'] - df_train['dob'])/np.timedelta64(1,'Y')\n",
        "df_train['age'] = np.round(df_train['age'])\n",
        "\n",
        "############## Test ###############\n",
        "df_test['age'] = (df_test['trans_date_trans_time'] - df_test['dob'])/np.timedelta64(1,'Y')\n",
        "df_test['age'] = np.round(df_test['age'])"
      ]
    },
    {
      "cell_type": "code",
      "execution_count": null,
      "metadata": {
        "colab": {
          "base_uri": "https://localhost:8080/"
        },
        "id": "6AIy-APNmRdr",
        "outputId": "6b80794a-b389-447e-c467-b527d85155d5"
      },
      "outputs": [
        {
          "output_type": "execute_result",
          "data": {
            "text/plain": [
              "count   1296675.000000\n",
              "mean         45.999860\n",
              "std          17.396256\n",
              "min          14.000000\n",
              "25%          33.000000\n",
              "50%          44.000000\n",
              "75%          57.000000\n",
              "max          96.000000\n",
              "Name: age, dtype: float64"
            ]
          },
          "metadata": {},
          "execution_count": 21
        }
      ],
      "source": [
        "df_train['age'].describe()"
      ]
    },
    {
      "cell_type": "markdown",
      "metadata": {
        "id": "D-L9fwwxLvs-"
      },
      "source": [
        "**The age's range of most of customers in the dataset is 33-57 year.**"
      ]
    },
    {
      "cell_type": "code",
      "execution_count": null,
      "metadata": {
        "colab": {
          "base_uri": "https://localhost:8080/"
        },
        "id": "1isygdjozQ6M",
        "outputId": "145b5cff-2e92-46de-b30a-f20df838b043"
      },
      "outputs": [
        {
          "output_type": "execute_result",
          "data": {
            "text/plain": [
              "count   555719.000000\n",
              "mean        46.887567\n",
              "std         17.434172\n",
              "min         15.000000\n",
              "25%         33.000000\n",
              "50%         45.000000\n",
              "75%         58.000000\n",
              "max         96.000000\n",
              "Name: age, dtype: float64"
            ]
          },
          "metadata": {},
          "execution_count": 22
        }
      ],
      "source": [
        "df_test['age'].describe()"
      ]
    },
    {
      "cell_type": "code",
      "execution_count": null,
      "metadata": {
        "id": "UnnDCrzbpAPM"
      },
      "outputs": [],
      "source": [
        "# Obtaining some statistics from trans_date_trans_time column.\n",
        "df_train['trans_day'] = df_train['trans_date_trans_time'].dt.day_name()\n",
        "df_train['trans_month'] = df_train['trans_date_trans_time'].dt.month_name()\n",
        "df_train['trans_year_month'] = df_train['trans_date_trans_time'].dt.to_period('M')\n",
        "\n",
        "df_train['trans_hour'] = df_train['trans_date_trans_time'].dt.hour\n",
        "df_train['trans_dayN'] = df_train['trans_date_trans_time'].dt.day\n",
        "df_train['trans_yearN'] = df_train['trans_date_trans_time'].dt.year\n",
        "df_train['trans_monthN'] = df_train['trans_date_trans_time'].dt.month\n",
        "\n",
        "\n",
        "############## Test ###############\n",
        "# Obtaining some statistics from trans_date_trans_time column for Test Data.\n",
        "df_test['trans_day'] = df_test['trans_date_trans_time'].dt.day_name()\n",
        "df_test['trans_month'] = df_test['trans_date_trans_time'].dt.month_name()\n",
        "df_test['trans_year_month'] = df_test['trans_date_trans_time'].dt.to_period('M')\n",
        "\n",
        "df_test['trans_hour'] = df_test['trans_date_trans_time'].dt.hour\n",
        "df_test['trans_dayN'] = df_test['trans_date_trans_time'].dt.day\n",
        "df_test['trans_yearN'] = df_test['trans_date_trans_time'].dt.year\n",
        "df_test['trans_monthN'] = df_test['trans_date_trans_time'].dt.month\n"
      ]
    },
    {
      "cell_type": "code",
      "execution_count": null,
      "metadata": {
        "colab": {
          "base_uri": "https://localhost:8080/",
          "height": 548
        },
        "id": "iOQDL_kjz1hM",
        "outputId": "09b3a560-92b0-4064-c000-055584312028"
      },
      "outputs": [
        {
          "output_type": "execute_result",
          "data": {
            "text/html": [
              "\n",
              "  <div id=\"df-4df7b7c1-c3ca-4a21-aaac-a789e001c586\">\n",
              "    <div class=\"colab-df-container\">\n",
              "      <div>\n",
              "<style scoped>\n",
              "    .dataframe tbody tr th:only-of-type {\n",
              "        vertical-align: middle;\n",
              "    }\n",
              "\n",
              "    .dataframe tbody tr th {\n",
              "        vertical-align: top;\n",
              "    }\n",
              "\n",
              "    .dataframe thead th {\n",
              "        text-align: right;\n",
              "    }\n",
              "</style>\n",
              "<table border=\"1\" class=\"dataframe\">\n",
              "  <thead>\n",
              "    <tr style=\"text-align: right;\">\n",
              "      <th></th>\n",
              "      <th>trans_date_trans_time</th>\n",
              "      <th>cc_num</th>\n",
              "      <th>merchant</th>\n",
              "      <th>category</th>\n",
              "      <th>amt</th>\n",
              "      <th>first</th>\n",
              "      <th>last</th>\n",
              "      <th>gender</th>\n",
              "      <th>street</th>\n",
              "      <th>city</th>\n",
              "      <th>state</th>\n",
              "      <th>zip</th>\n",
              "      <th>lat</th>\n",
              "      <th>long</th>\n",
              "      <th>city_pop</th>\n",
              "      <th>job</th>\n",
              "      <th>dob</th>\n",
              "      <th>trans_num</th>\n",
              "      <th>unix_time</th>\n",
              "      <th>merch_lat</th>\n",
              "      <th>merch_long</th>\n",
              "      <th>is_fraud</th>\n",
              "      <th>age</th>\n",
              "      <th>trans_day</th>\n",
              "      <th>trans_month</th>\n",
              "      <th>trans_year_month</th>\n",
              "      <th>trans_hour</th>\n",
              "      <th>trans_dayN</th>\n",
              "      <th>trans_yearN</th>\n",
              "      <th>trans_monthN</th>\n",
              "    </tr>\n",
              "  </thead>\n",
              "  <tbody>\n",
              "    <tr>\n",
              "      <th>0</th>\n",
              "      <td>2019-01-01 00:00:18</td>\n",
              "      <td>2703186189652095</td>\n",
              "      <td>fraud_Rippin, Kub and Mann</td>\n",
              "      <td>misc_net</td>\n",
              "      <td>4.970000</td>\n",
              "      <td>Jennifer</td>\n",
              "      <td>Banks</td>\n",
              "      <td>F</td>\n",
              "      <td>561 Perry Cove</td>\n",
              "      <td>Moravian Falls</td>\n",
              "      <td>NC</td>\n",
              "      <td>28654</td>\n",
              "      <td>36.078800</td>\n",
              "      <td>-81.178100</td>\n",
              "      <td>3495</td>\n",
              "      <td>Psychologist, counselling</td>\n",
              "      <td>1988-03-09</td>\n",
              "      <td>0b242abb623afc578575680df30655b9</td>\n",
              "      <td>1325376018</td>\n",
              "      <td>36.011293</td>\n",
              "      <td>-82.048315</td>\n",
              "      <td>0</td>\n",
              "      <td>31.000000</td>\n",
              "      <td>Tuesday</td>\n",
              "      <td>January</td>\n",
              "      <td>2019-01</td>\n",
              "      <td>0</td>\n",
              "      <td>1</td>\n",
              "      <td>2019</td>\n",
              "      <td>1</td>\n",
              "    </tr>\n",
              "    <tr>\n",
              "      <th>1</th>\n",
              "      <td>2019-01-01 00:00:44</td>\n",
              "      <td>630423337322</td>\n",
              "      <td>fraud_Heller, Gutmann and Zieme</td>\n",
              "      <td>grocery_pos</td>\n",
              "      <td>107.230000</td>\n",
              "      <td>Stephanie</td>\n",
              "      <td>Gill</td>\n",
              "      <td>F</td>\n",
              "      <td>43039 Riley Greens Suite 393</td>\n",
              "      <td>Orient</td>\n",
              "      <td>WA</td>\n",
              "      <td>99160</td>\n",
              "      <td>48.887800</td>\n",
              "      <td>-118.210500</td>\n",
              "      <td>149</td>\n",
              "      <td>Special educational needs teacher</td>\n",
              "      <td>1978-06-21</td>\n",
              "      <td>1f76529f8574734946361c461b024d99</td>\n",
              "      <td>1325376044</td>\n",
              "      <td>49.159047</td>\n",
              "      <td>-118.186462</td>\n",
              "      <td>0</td>\n",
              "      <td>41.000000</td>\n",
              "      <td>Tuesday</td>\n",
              "      <td>January</td>\n",
              "      <td>2019-01</td>\n",
              "      <td>0</td>\n",
              "      <td>1</td>\n",
              "      <td>2019</td>\n",
              "      <td>1</td>\n",
              "    </tr>\n",
              "    <tr>\n",
              "      <th>2</th>\n",
              "      <td>2019-01-01 00:00:51</td>\n",
              "      <td>38859492057661</td>\n",
              "      <td>fraud_Lind-Buckridge</td>\n",
              "      <td>entertainment</td>\n",
              "      <td>220.110000</td>\n",
              "      <td>Edward</td>\n",
              "      <td>Sanchez</td>\n",
              "      <td>M</td>\n",
              "      <td>594 White Dale Suite 530</td>\n",
              "      <td>Malad City</td>\n",
              "      <td>ID</td>\n",
              "      <td>83252</td>\n",
              "      <td>42.180800</td>\n",
              "      <td>-112.262000</td>\n",
              "      <td>4154</td>\n",
              "      <td>Nature conservation officer</td>\n",
              "      <td>1962-01-19</td>\n",
              "      <td>a1a22d70485983eac12b5b88dad1cf95</td>\n",
              "      <td>1325376051</td>\n",
              "      <td>43.150704</td>\n",
              "      <td>-112.154481</td>\n",
              "      <td>0</td>\n",
              "      <td>57.000000</td>\n",
              "      <td>Tuesday</td>\n",
              "      <td>January</td>\n",
              "      <td>2019-01</td>\n",
              "      <td>0</td>\n",
              "      <td>1</td>\n",
              "      <td>2019</td>\n",
              "      <td>1</td>\n",
              "    </tr>\n",
              "    <tr>\n",
              "      <th>3</th>\n",
              "      <td>2019-01-01 00:01:16</td>\n",
              "      <td>3534093764340240</td>\n",
              "      <td>fraud_Kutch, Hermiston and Farrell</td>\n",
              "      <td>gas_transport</td>\n",
              "      <td>45.000000</td>\n",
              "      <td>Jeremy</td>\n",
              "      <td>White</td>\n",
              "      <td>M</td>\n",
              "      <td>9443 Cynthia Court Apt. 038</td>\n",
              "      <td>Boulder</td>\n",
              "      <td>MT</td>\n",
              "      <td>59632</td>\n",
              "      <td>46.230600</td>\n",
              "      <td>-112.113800</td>\n",
              "      <td>1939</td>\n",
              "      <td>Patent attorney</td>\n",
              "      <td>1967-01-12</td>\n",
              "      <td>6b849c168bdad6f867558c3793159a81</td>\n",
              "      <td>1325376076</td>\n",
              "      <td>47.034331</td>\n",
              "      <td>-112.561071</td>\n",
              "      <td>0</td>\n",
              "      <td>52.000000</td>\n",
              "      <td>Tuesday</td>\n",
              "      <td>January</td>\n",
              "      <td>2019-01</td>\n",
              "      <td>0</td>\n",
              "      <td>1</td>\n",
              "      <td>2019</td>\n",
              "      <td>1</td>\n",
              "    </tr>\n",
              "    <tr>\n",
              "      <th>4</th>\n",
              "      <td>2019-01-01 00:03:06</td>\n",
              "      <td>375534208663984</td>\n",
              "      <td>fraud_Keeling-Crist</td>\n",
              "      <td>misc_pos</td>\n",
              "      <td>41.960000</td>\n",
              "      <td>Tyler</td>\n",
              "      <td>Garcia</td>\n",
              "      <td>M</td>\n",
              "      <td>408 Bradley Rest</td>\n",
              "      <td>Doe Hill</td>\n",
              "      <td>VA</td>\n",
              "      <td>24433</td>\n",
              "      <td>38.420700</td>\n",
              "      <td>-79.462900</td>\n",
              "      <td>99</td>\n",
              "      <td>Dance movement psychotherapist</td>\n",
              "      <td>1986-03-28</td>\n",
              "      <td>a41d7549acf90789359a9aa5346dcb46</td>\n",
              "      <td>1325376186</td>\n",
              "      <td>38.674999</td>\n",
              "      <td>-78.632459</td>\n",
              "      <td>0</td>\n",
              "      <td>33.000000</td>\n",
              "      <td>Tuesday</td>\n",
              "      <td>January</td>\n",
              "      <td>2019-01</td>\n",
              "      <td>0</td>\n",
              "      <td>1</td>\n",
              "      <td>2019</td>\n",
              "      <td>1</td>\n",
              "    </tr>\n",
              "  </tbody>\n",
              "</table>\n",
              "</div>\n",
              "      <button class=\"colab-df-convert\" onclick=\"convertToInteractive('df-4df7b7c1-c3ca-4a21-aaac-a789e001c586')\"\n",
              "              title=\"Convert this dataframe to an interactive table.\"\n",
              "              style=\"display:none;\">\n",
              "        \n",
              "  <svg xmlns=\"http://www.w3.org/2000/svg\" height=\"24px\"viewBox=\"0 0 24 24\"\n",
              "       width=\"24px\">\n",
              "    <path d=\"M0 0h24v24H0V0z\" fill=\"none\"/>\n",
              "    <path d=\"M18.56 5.44l.94 2.06.94-2.06 2.06-.94-2.06-.94-.94-2.06-.94 2.06-2.06.94zm-11 1L8.5 8.5l.94-2.06 2.06-.94-2.06-.94L8.5 2.5l-.94 2.06-2.06.94zm10 10l.94 2.06.94-2.06 2.06-.94-2.06-.94-.94-2.06-.94 2.06-2.06.94z\"/><path d=\"M17.41 7.96l-1.37-1.37c-.4-.4-.92-.59-1.43-.59-.52 0-1.04.2-1.43.59L10.3 9.45l-7.72 7.72c-.78.78-.78 2.05 0 2.83L4 21.41c.39.39.9.59 1.41.59.51 0 1.02-.2 1.41-.59l7.78-7.78 2.81-2.81c.8-.78.8-2.07 0-2.86zM5.41 20L4 18.59l7.72-7.72 1.47 1.35L5.41 20z\"/>\n",
              "  </svg>\n",
              "      </button>\n",
              "      \n",
              "  <style>\n",
              "    .colab-df-container {\n",
              "      display:flex;\n",
              "      flex-wrap:wrap;\n",
              "      gap: 12px;\n",
              "    }\n",
              "\n",
              "    .colab-df-convert {\n",
              "      background-color: #E8F0FE;\n",
              "      border: none;\n",
              "      border-radius: 50%;\n",
              "      cursor: pointer;\n",
              "      display: none;\n",
              "      fill: #1967D2;\n",
              "      height: 32px;\n",
              "      padding: 0 0 0 0;\n",
              "      width: 32px;\n",
              "    }\n",
              "\n",
              "    .colab-df-convert:hover {\n",
              "      background-color: #E2EBFA;\n",
              "      box-shadow: 0px 1px 2px rgba(60, 64, 67, 0.3), 0px 1px 3px 1px rgba(60, 64, 67, 0.15);\n",
              "      fill: #174EA6;\n",
              "    }\n",
              "\n",
              "    [theme=dark] .colab-df-convert {\n",
              "      background-color: #3B4455;\n",
              "      fill: #D2E3FC;\n",
              "    }\n",
              "\n",
              "    [theme=dark] .colab-df-convert:hover {\n",
              "      background-color: #434B5C;\n",
              "      box-shadow: 0px 1px 3px 1px rgba(0, 0, 0, 0.15);\n",
              "      filter: drop-shadow(0px 1px 2px rgba(0, 0, 0, 0.3));\n",
              "      fill: #FFFFFF;\n",
              "    }\n",
              "  </style>\n",
              "\n",
              "      <script>\n",
              "        const buttonEl =\n",
              "          document.querySelector('#df-4df7b7c1-c3ca-4a21-aaac-a789e001c586 button.colab-df-convert');\n",
              "        buttonEl.style.display =\n",
              "          google.colab.kernel.accessAllowed ? 'block' : 'none';\n",
              "\n",
              "        async function convertToInteractive(key) {\n",
              "          const element = document.querySelector('#df-4df7b7c1-c3ca-4a21-aaac-a789e001c586');\n",
              "          const dataTable =\n",
              "            await google.colab.kernel.invokeFunction('convertToInteractive',\n",
              "                                                     [key], {});\n",
              "          if (!dataTable) return;\n",
              "\n",
              "          const docLinkHtml = 'Like what you see? Visit the ' +\n",
              "            '<a target=\"_blank\" href=https://colab.research.google.com/notebooks/data_table.ipynb>data table notebook</a>'\n",
              "            + ' to learn more about interactive tables.';\n",
              "          element.innerHTML = '';\n",
              "          dataTable['output_type'] = 'display_data';\n",
              "          await google.colab.output.renderOutput(dataTable, element);\n",
              "          const docLink = document.createElement('div');\n",
              "          docLink.innerHTML = docLinkHtml;\n",
              "          element.appendChild(docLink);\n",
              "        }\n",
              "      </script>\n",
              "    </div>\n",
              "  </div>\n",
              "  "
            ],
            "text/plain": [
              "  trans_date_trans_time            cc_num                            merchant  \\\n",
              "0   2019-01-01 00:00:18  2703186189652095          fraud_Rippin, Kub and Mann   \n",
              "1   2019-01-01 00:00:44      630423337322     fraud_Heller, Gutmann and Zieme   \n",
              "2   2019-01-01 00:00:51    38859492057661                fraud_Lind-Buckridge   \n",
              "3   2019-01-01 00:01:16  3534093764340240  fraud_Kutch, Hermiston and Farrell   \n",
              "4   2019-01-01 00:03:06   375534208663984                 fraud_Keeling-Crist   \n",
              "\n",
              "        category        amt      first     last gender  \\\n",
              "0       misc_net   4.970000   Jennifer    Banks      F   \n",
              "1    grocery_pos 107.230000  Stephanie     Gill      F   \n",
              "2  entertainment 220.110000     Edward  Sanchez      M   \n",
              "3  gas_transport  45.000000     Jeremy    White      M   \n",
              "4       misc_pos  41.960000      Tyler   Garcia      M   \n",
              "\n",
              "                         street            city state    zip       lat  \\\n",
              "0                561 Perry Cove  Moravian Falls    NC  28654 36.078800   \n",
              "1  43039 Riley Greens Suite 393          Orient    WA  99160 48.887800   \n",
              "2      594 White Dale Suite 530      Malad City    ID  83252 42.180800   \n",
              "3   9443 Cynthia Court Apt. 038         Boulder    MT  59632 46.230600   \n",
              "4              408 Bradley Rest        Doe Hill    VA  24433 38.420700   \n",
              "\n",
              "         long  city_pop                                job        dob  \\\n",
              "0  -81.178100      3495          Psychologist, counselling 1988-03-09   \n",
              "1 -118.210500       149  Special educational needs teacher 1978-06-21   \n",
              "2 -112.262000      4154        Nature conservation officer 1962-01-19   \n",
              "3 -112.113800      1939                    Patent attorney 1967-01-12   \n",
              "4  -79.462900        99     Dance movement psychotherapist 1986-03-28   \n",
              "\n",
              "                          trans_num   unix_time  merch_lat  merch_long  \\\n",
              "0  0b242abb623afc578575680df30655b9  1325376018  36.011293  -82.048315   \n",
              "1  1f76529f8574734946361c461b024d99  1325376044  49.159047 -118.186462   \n",
              "2  a1a22d70485983eac12b5b88dad1cf95  1325376051  43.150704 -112.154481   \n",
              "3  6b849c168bdad6f867558c3793159a81  1325376076  47.034331 -112.561071   \n",
              "4  a41d7549acf90789359a9aa5346dcb46  1325376186  38.674999  -78.632459   \n",
              "\n",
              "   is_fraud       age trans_day trans_month trans_year_month  trans_hour  \\\n",
              "0         0 31.000000   Tuesday     January          2019-01           0   \n",
              "1         0 41.000000   Tuesday     January          2019-01           0   \n",
              "2         0 57.000000   Tuesday     January          2019-01           0   \n",
              "3         0 52.000000   Tuesday     January          2019-01           0   \n",
              "4         0 33.000000   Tuesday     January          2019-01           0   \n",
              "\n",
              "   trans_dayN  trans_yearN  trans_monthN  \n",
              "0           1         2019             1  \n",
              "1           1         2019             1  \n",
              "2           1         2019             1  \n",
              "3           1         2019             1  \n",
              "4           1         2019             1  "
            ]
          },
          "metadata": {},
          "execution_count": 24
        }
      ],
      "source": [
        "df_train.head()"
      ]
    },
    {
      "cell_type": "code",
      "execution_count": null,
      "metadata": {
        "colab": {
          "base_uri": "https://localhost:8080/"
        },
        "id": "JHJ9GmWT3EK0",
        "outputId": "329ca7fa-b9fd-48d8-d36e-a2331e3d4baa"
      },
      "outputs": [
        {
          "output_type": "execute_result",
          "data": {
            "text/plain": [
              "count   1296675.000000\n",
              "mean         12.804858\n",
              "std           6.817824\n",
              "min           0.000000\n",
              "25%           7.000000\n",
              "50%          14.000000\n",
              "75%          19.000000\n",
              "max          23.000000\n",
              "Name: trans_hour, dtype: float64"
            ]
          },
          "metadata": {},
          "execution_count": 25
        }
      ],
      "source": [
        "df_train['trans_hour'].describe()"
      ]
    },
    {
      "cell_type": "markdown",
      "metadata": {
        "id": "x4FNXqsvMJu-"
      },
      "source": [
        "**Most transactions occured at the period between 7:00 and 19:00.**"
      ]
    },
    {
      "cell_type": "code",
      "execution_count": null,
      "metadata": {
        "colab": {
          "base_uri": "https://localhost:8080/"
        },
        "id": "Rzucydaa3E84",
        "outputId": "875e0e74-bae3-4592-fdc7-3275658ae0d4"
      },
      "outputs": [
        {
          "output_type": "execute_result",
          "data": {
            "text/plain": [
              "count     1296675\n",
              "unique          7\n",
              "top        Monday\n",
              "freq       254282\n",
              "Name: trans_day, dtype: object"
            ]
          },
          "metadata": {},
          "execution_count": 26
        }
      ],
      "source": [
        "df_train['trans_day'].describe()"
      ]
    },
    {
      "cell_type": "markdown",
      "metadata": {
        "id": "n2m2ndcOMbn7"
      },
      "source": [
        "**Most transactions in the dataset occured on Monday.**"
      ]
    },
    {
      "cell_type": "code",
      "execution_count": null,
      "metadata": {
        "colab": {
          "base_uri": "https://localhost:8080/"
        },
        "id": "3lq_7j8q3PXX",
        "outputId": "5dd0b51a-d44b-4b9e-ffdd-2ebec0afb51b"
      },
      "outputs": [
        {
          "output_type": "execute_result",
          "data": {
            "text/plain": [
              "count     1296675\n",
              "unique         12\n",
              "top           May\n",
              "freq       146875\n",
              "Name: trans_month, dtype: object"
            ]
          },
          "metadata": {},
          "execution_count": 27
        }
      ],
      "source": [
        "df_train['trans_month'].describe()"
      ]
    },
    {
      "cell_type": "markdown",
      "metadata": {
        "id": "UTm8NeZWMmOY"
      },
      "source": [
        "**Most transactions in the dataset occured in May.**"
      ]
    },
    {
      "cell_type": "code",
      "execution_count": null,
      "metadata": {
        "colab": {
          "base_uri": "https://localhost:8080/"
        },
        "id": "wrNRY0ht3Xpn",
        "outputId": "79bb9901-41a0-4b58-9b84-cf18494bf375"
      },
      "outputs": [
        {
          "output_type": "execute_result",
          "data": {
            "text/plain": [
              "0          2019-01\n",
              "1          2019-01\n",
              "2          2019-01\n",
              "3          2019-01\n",
              "4          2019-01\n",
              "            ...   \n",
              "1296670    2020-06\n",
              "1296671    2020-06\n",
              "1296672    2020-06\n",
              "1296673    2020-06\n",
              "1296674    2020-06\n",
              "Name: trans_year_month, Length: 1296675, dtype: period[M]"
            ]
          },
          "metadata": {},
          "execution_count": 28
        }
      ],
      "source": [
        "df_train['trans_year_month']"
      ]
    },
    {
      "cell_type": "code",
      "execution_count": null,
      "metadata": {
        "colab": {
          "base_uri": "https://localhost:8080/"
        },
        "id": "ndnIYhx_MreU",
        "outputId": "94843f1a-3575-4183-e3a9-ce10c1cb853b"
      },
      "outputs": [
        {
          "output_type": "execute_result",
          "data": {
            "text/plain": [
              "count     1296675\n",
              "unique         18\n",
              "top       2019-12\n",
              "freq       141060\n",
              "Name: trans_year_month, dtype: object"
            ]
          },
          "metadata": {},
          "execution_count": 29
        }
      ],
      "source": [
        "df_train['trans_year_month'].describe()"
      ]
    },
    {
      "cell_type": "markdown",
      "metadata": {
        "id": "lx_wHEH4Mr9G"
      },
      "source": [
        "**Most transactions in the dataset occured in 2019-12.**"
      ]
    },
    {
      "cell_type": "code",
      "execution_count": null,
      "metadata": {
        "colab": {
          "base_uri": "https://localhost:8080/"
        },
        "id": "BOOTtItdYvix",
        "outputId": "0703d1f0-b02c-4ed8-b723-b3642922bece"
      },
      "outputs": [
        {
          "output_type": "execute_result",
          "data": {
            "text/plain": [
              "0    2019\n",
              "1    2019\n",
              "2    2019\n",
              "3    2019\n",
              "4    2019\n",
              "Name: trans_yearN, dtype: int64"
            ]
          },
          "metadata": {},
          "execution_count": 30
        }
      ],
      "source": [
        "df_train['trans_yearN'].head()"
      ]
    },
    {
      "cell_type": "code",
      "execution_count": null,
      "metadata": {
        "colab": {
          "base_uri": "https://localhost:8080/"
        },
        "id": "GuOUwArkYw8Q",
        "outputId": "96259d98-3319-4b01-95dd-b451a4fffbfb"
      },
      "outputs": [
        {
          "output_type": "execute_result",
          "data": {
            "text/plain": [
              "count   1296675.000000\n",
              "mean       2019.286753\n",
              "std           0.452245\n",
              "min        2019.000000\n",
              "25%        2019.000000\n",
              "50%        2019.000000\n",
              "75%        2020.000000\n",
              "max        2020.000000\n",
              "Name: trans_yearN, dtype: float64"
            ]
          },
          "metadata": {},
          "execution_count": 31
        }
      ],
      "source": [
        "df_train['trans_yearN'].describe()"
      ]
    },
    {
      "cell_type": "markdown",
      "metadata": {
        "id": "O8AP6GTGP1gJ"
      },
      "source": [
        "# Using Longitutde and Latitude to find the distance between Customers and Merchants"
      ]
    },
    {
      "cell_type": "code",
      "execution_count": null,
      "metadata": {
        "id": "YPql2y_XNA_O"
      },
      "outputs": [],
      "source": [
        "def distance(lat1, lon1, lat2, lon2):\n",
        "\n",
        "    earth_radius=6371\n",
        "    lat1, lon1, lat2, lon2 = np.radians([lat1, lon1, lat2, lon2])\n",
        "    a = np.sin((lat2-lat1)/2.0)**2 + np.cos(lat1) * np.cos(lat2) * np.sin((lon2-lon1)/2.0)**2\n",
        "    return earth_radius * 2 * np.arcsin(np.sqrt(a))"
      ]
    },
    {
      "cell_type": "code",
      "execution_count": null,
      "metadata": {
        "id": "LfC9OPuKMhp1"
      },
      "outputs": [],
      "source": [
        "df_train['distance'] = distance(df_train['lat'], df_train['long'], df_train['merch_lat'], df_train['merch_long'])"
      ]
    },
    {
      "cell_type": "code",
      "execution_count": null,
      "metadata": {
        "id": "t7Ww6-NIkKC_"
      },
      "outputs": [],
      "source": [
        "############## Test ###############\n",
        "df_test['distance'] = distance(df_test['lat'], df_test['long'], df_test['merch_lat'], df_test['merch_long'])"
      ]
    },
    {
      "cell_type": "code",
      "execution_count": null,
      "metadata": {
        "colab": {
          "base_uri": "https://localhost:8080/"
        },
        "id": "T3CMktquNTuq",
        "outputId": "a621f354-cf1c-4561-caf6-c16597716b0b"
      },
      "outputs": [
        {
          "output_type": "execute_result",
          "data": {
            "text/plain": [
              "count   1296675.000000\n",
              "mean         76.114651\n",
              "std          29.116935\n",
              "min           0.022255\n",
              "25%          55.334913\n",
              "50%          78.231751\n",
              "75%          98.503268\n",
              "max         152.117173\n",
              "Name: distance, dtype: float64"
            ]
          },
          "metadata": {},
          "execution_count": 35
        }
      ],
      "source": [
        "df_train['distance'].describe()"
      ]
    },
    {
      "cell_type": "code",
      "execution_count": null,
      "metadata": {
        "colab": {
          "base_uri": "https://localhost:8080/",
          "height": 548
        },
        "id": "yNQ2mh93QjvD",
        "outputId": "60ce2acc-fb35-413c-efda-ba42e7c66ab5"
      },
      "outputs": [
        {
          "output_type": "execute_result",
          "data": {
            "text/html": [
              "\n",
              "  <div id=\"df-d030782a-0df7-4de3-960a-5be241d2ebd8\">\n",
              "    <div class=\"colab-df-container\">\n",
              "      <div>\n",
              "<style scoped>\n",
              "    .dataframe tbody tr th:only-of-type {\n",
              "        vertical-align: middle;\n",
              "    }\n",
              "\n",
              "    .dataframe tbody tr th {\n",
              "        vertical-align: top;\n",
              "    }\n",
              "\n",
              "    .dataframe thead th {\n",
              "        text-align: right;\n",
              "    }\n",
              "</style>\n",
              "<table border=\"1\" class=\"dataframe\">\n",
              "  <thead>\n",
              "    <tr style=\"text-align: right;\">\n",
              "      <th></th>\n",
              "      <th>trans_date_trans_time</th>\n",
              "      <th>cc_num</th>\n",
              "      <th>merchant</th>\n",
              "      <th>category</th>\n",
              "      <th>amt</th>\n",
              "      <th>first</th>\n",
              "      <th>last</th>\n",
              "      <th>gender</th>\n",
              "      <th>street</th>\n",
              "      <th>city</th>\n",
              "      <th>state</th>\n",
              "      <th>zip</th>\n",
              "      <th>lat</th>\n",
              "      <th>long</th>\n",
              "      <th>city_pop</th>\n",
              "      <th>job</th>\n",
              "      <th>dob</th>\n",
              "      <th>trans_num</th>\n",
              "      <th>unix_time</th>\n",
              "      <th>merch_lat</th>\n",
              "      <th>merch_long</th>\n",
              "      <th>is_fraud</th>\n",
              "      <th>age</th>\n",
              "      <th>trans_day</th>\n",
              "      <th>trans_month</th>\n",
              "      <th>trans_year_month</th>\n",
              "      <th>trans_hour</th>\n",
              "      <th>trans_dayN</th>\n",
              "      <th>trans_yearN</th>\n",
              "      <th>trans_monthN</th>\n",
              "      <th>distance</th>\n",
              "    </tr>\n",
              "  </thead>\n",
              "  <tbody>\n",
              "    <tr>\n",
              "      <th>0</th>\n",
              "      <td>2019-01-01 00:00:18</td>\n",
              "      <td>2703186189652095</td>\n",
              "      <td>fraud_Rippin, Kub and Mann</td>\n",
              "      <td>misc_net</td>\n",
              "      <td>4.970000</td>\n",
              "      <td>Jennifer</td>\n",
              "      <td>Banks</td>\n",
              "      <td>F</td>\n",
              "      <td>561 Perry Cove</td>\n",
              "      <td>Moravian Falls</td>\n",
              "      <td>NC</td>\n",
              "      <td>28654</td>\n",
              "      <td>36.078800</td>\n",
              "      <td>-81.178100</td>\n",
              "      <td>3495</td>\n",
              "      <td>Psychologist, counselling</td>\n",
              "      <td>1988-03-09</td>\n",
              "      <td>0b242abb623afc578575680df30655b9</td>\n",
              "      <td>1325376018</td>\n",
              "      <td>36.011293</td>\n",
              "      <td>-82.048315</td>\n",
              "      <td>0</td>\n",
              "      <td>31.000000</td>\n",
              "      <td>Tuesday</td>\n",
              "      <td>January</td>\n",
              "      <td>2019-01</td>\n",
              "      <td>0</td>\n",
              "      <td>1</td>\n",
              "      <td>2019</td>\n",
              "      <td>1</td>\n",
              "      <td>78.597568</td>\n",
              "    </tr>\n",
              "    <tr>\n",
              "      <th>1</th>\n",
              "      <td>2019-01-01 00:00:44</td>\n",
              "      <td>630423337322</td>\n",
              "      <td>fraud_Heller, Gutmann and Zieme</td>\n",
              "      <td>grocery_pos</td>\n",
              "      <td>107.230000</td>\n",
              "      <td>Stephanie</td>\n",
              "      <td>Gill</td>\n",
              "      <td>F</td>\n",
              "      <td>43039 Riley Greens Suite 393</td>\n",
              "      <td>Orient</td>\n",
              "      <td>WA</td>\n",
              "      <td>99160</td>\n",
              "      <td>48.887800</td>\n",
              "      <td>-118.210500</td>\n",
              "      <td>149</td>\n",
              "      <td>Special educational needs teacher</td>\n",
              "      <td>1978-06-21</td>\n",
              "      <td>1f76529f8574734946361c461b024d99</td>\n",
              "      <td>1325376044</td>\n",
              "      <td>49.159047</td>\n",
              "      <td>-118.186462</td>\n",
              "      <td>0</td>\n",
              "      <td>41.000000</td>\n",
              "      <td>Tuesday</td>\n",
              "      <td>January</td>\n",
              "      <td>2019-01</td>\n",
              "      <td>0</td>\n",
              "      <td>1</td>\n",
              "      <td>2019</td>\n",
              "      <td>1</td>\n",
              "      <td>30.212176</td>\n",
              "    </tr>\n",
              "    <tr>\n",
              "      <th>2</th>\n",
              "      <td>2019-01-01 00:00:51</td>\n",
              "      <td>38859492057661</td>\n",
              "      <td>fraud_Lind-Buckridge</td>\n",
              "      <td>entertainment</td>\n",
              "      <td>220.110000</td>\n",
              "      <td>Edward</td>\n",
              "      <td>Sanchez</td>\n",
              "      <td>M</td>\n",
              "      <td>594 White Dale Suite 530</td>\n",
              "      <td>Malad City</td>\n",
              "      <td>ID</td>\n",
              "      <td>83252</td>\n",
              "      <td>42.180800</td>\n",
              "      <td>-112.262000</td>\n",
              "      <td>4154</td>\n",
              "      <td>Nature conservation officer</td>\n",
              "      <td>1962-01-19</td>\n",
              "      <td>a1a22d70485983eac12b5b88dad1cf95</td>\n",
              "      <td>1325376051</td>\n",
              "      <td>43.150704</td>\n",
              "      <td>-112.154481</td>\n",
              "      <td>0</td>\n",
              "      <td>57.000000</td>\n",
              "      <td>Tuesday</td>\n",
              "      <td>January</td>\n",
              "      <td>2019-01</td>\n",
              "      <td>0</td>\n",
              "      <td>1</td>\n",
              "      <td>2019</td>\n",
              "      <td>1</td>\n",
              "      <td>108.206083</td>\n",
              "    </tr>\n",
              "    <tr>\n",
              "      <th>3</th>\n",
              "      <td>2019-01-01 00:01:16</td>\n",
              "      <td>3534093764340240</td>\n",
              "      <td>fraud_Kutch, Hermiston and Farrell</td>\n",
              "      <td>gas_transport</td>\n",
              "      <td>45.000000</td>\n",
              "      <td>Jeremy</td>\n",
              "      <td>White</td>\n",
              "      <td>M</td>\n",
              "      <td>9443 Cynthia Court Apt. 038</td>\n",
              "      <td>Boulder</td>\n",
              "      <td>MT</td>\n",
              "      <td>59632</td>\n",
              "      <td>46.230600</td>\n",
              "      <td>-112.113800</td>\n",
              "      <td>1939</td>\n",
              "      <td>Patent attorney</td>\n",
              "      <td>1967-01-12</td>\n",
              "      <td>6b849c168bdad6f867558c3793159a81</td>\n",
              "      <td>1325376076</td>\n",
              "      <td>47.034331</td>\n",
              "      <td>-112.561071</td>\n",
              "      <td>0</td>\n",
              "      <td>52.000000</td>\n",
              "      <td>Tuesday</td>\n",
              "      <td>January</td>\n",
              "      <td>2019-01</td>\n",
              "      <td>0</td>\n",
              "      <td>1</td>\n",
              "      <td>2019</td>\n",
              "      <td>1</td>\n",
              "      <td>95.673231</td>\n",
              "    </tr>\n",
              "    <tr>\n",
              "      <th>4</th>\n",
              "      <td>2019-01-01 00:03:06</td>\n",
              "      <td>375534208663984</td>\n",
              "      <td>fraud_Keeling-Crist</td>\n",
              "      <td>misc_pos</td>\n",
              "      <td>41.960000</td>\n",
              "      <td>Tyler</td>\n",
              "      <td>Garcia</td>\n",
              "      <td>M</td>\n",
              "      <td>408 Bradley Rest</td>\n",
              "      <td>Doe Hill</td>\n",
              "      <td>VA</td>\n",
              "      <td>24433</td>\n",
              "      <td>38.420700</td>\n",
              "      <td>-79.462900</td>\n",
              "      <td>99</td>\n",
              "      <td>Dance movement psychotherapist</td>\n",
              "      <td>1986-03-28</td>\n",
              "      <td>a41d7549acf90789359a9aa5346dcb46</td>\n",
              "      <td>1325376186</td>\n",
              "      <td>38.674999</td>\n",
              "      <td>-78.632459</td>\n",
              "      <td>0</td>\n",
              "      <td>33.000000</td>\n",
              "      <td>Tuesday</td>\n",
              "      <td>January</td>\n",
              "      <td>2019-01</td>\n",
              "      <td>0</td>\n",
              "      <td>1</td>\n",
              "      <td>2019</td>\n",
              "      <td>1</td>\n",
              "      <td>77.556744</td>\n",
              "    </tr>\n",
              "  </tbody>\n",
              "</table>\n",
              "</div>\n",
              "      <button class=\"colab-df-convert\" onclick=\"convertToInteractive('df-d030782a-0df7-4de3-960a-5be241d2ebd8')\"\n",
              "              title=\"Convert this dataframe to an interactive table.\"\n",
              "              style=\"display:none;\">\n",
              "        \n",
              "  <svg xmlns=\"http://www.w3.org/2000/svg\" height=\"24px\"viewBox=\"0 0 24 24\"\n",
              "       width=\"24px\">\n",
              "    <path d=\"M0 0h24v24H0V0z\" fill=\"none\"/>\n",
              "    <path d=\"M18.56 5.44l.94 2.06.94-2.06 2.06-.94-2.06-.94-.94-2.06-.94 2.06-2.06.94zm-11 1L8.5 8.5l.94-2.06 2.06-.94-2.06-.94L8.5 2.5l-.94 2.06-2.06.94zm10 10l.94 2.06.94-2.06 2.06-.94-2.06-.94-.94-2.06-.94 2.06-2.06.94z\"/><path d=\"M17.41 7.96l-1.37-1.37c-.4-.4-.92-.59-1.43-.59-.52 0-1.04.2-1.43.59L10.3 9.45l-7.72 7.72c-.78.78-.78 2.05 0 2.83L4 21.41c.39.39.9.59 1.41.59.51 0 1.02-.2 1.41-.59l7.78-7.78 2.81-2.81c.8-.78.8-2.07 0-2.86zM5.41 20L4 18.59l7.72-7.72 1.47 1.35L5.41 20z\"/>\n",
              "  </svg>\n",
              "      </button>\n",
              "      \n",
              "  <style>\n",
              "    .colab-df-container {\n",
              "      display:flex;\n",
              "      flex-wrap:wrap;\n",
              "      gap: 12px;\n",
              "    }\n",
              "\n",
              "    .colab-df-convert {\n",
              "      background-color: #E8F0FE;\n",
              "      border: none;\n",
              "      border-radius: 50%;\n",
              "      cursor: pointer;\n",
              "      display: none;\n",
              "      fill: #1967D2;\n",
              "      height: 32px;\n",
              "      padding: 0 0 0 0;\n",
              "      width: 32px;\n",
              "    }\n",
              "\n",
              "    .colab-df-convert:hover {\n",
              "      background-color: #E2EBFA;\n",
              "      box-shadow: 0px 1px 2px rgba(60, 64, 67, 0.3), 0px 1px 3px 1px rgba(60, 64, 67, 0.15);\n",
              "      fill: #174EA6;\n",
              "    }\n",
              "\n",
              "    [theme=dark] .colab-df-convert {\n",
              "      background-color: #3B4455;\n",
              "      fill: #D2E3FC;\n",
              "    }\n",
              "\n",
              "    [theme=dark] .colab-df-convert:hover {\n",
              "      background-color: #434B5C;\n",
              "      box-shadow: 0px 1px 3px 1px rgba(0, 0, 0, 0.15);\n",
              "      filter: drop-shadow(0px 1px 2px rgba(0, 0, 0, 0.3));\n",
              "      fill: #FFFFFF;\n",
              "    }\n",
              "  </style>\n",
              "\n",
              "      <script>\n",
              "        const buttonEl =\n",
              "          document.querySelector('#df-d030782a-0df7-4de3-960a-5be241d2ebd8 button.colab-df-convert');\n",
              "        buttonEl.style.display =\n",
              "          google.colab.kernel.accessAllowed ? 'block' : 'none';\n",
              "\n",
              "        async function convertToInteractive(key) {\n",
              "          const element = document.querySelector('#df-d030782a-0df7-4de3-960a-5be241d2ebd8');\n",
              "          const dataTable =\n",
              "            await google.colab.kernel.invokeFunction('convertToInteractive',\n",
              "                                                     [key], {});\n",
              "          if (!dataTable) return;\n",
              "\n",
              "          const docLinkHtml = 'Like what you see? Visit the ' +\n",
              "            '<a target=\"_blank\" href=https://colab.research.google.com/notebooks/data_table.ipynb>data table notebook</a>'\n",
              "            + ' to learn more about interactive tables.';\n",
              "          element.innerHTML = '';\n",
              "          dataTable['output_type'] = 'display_data';\n",
              "          await google.colab.output.renderOutput(dataTable, element);\n",
              "          const docLink = document.createElement('div');\n",
              "          docLink.innerHTML = docLinkHtml;\n",
              "          element.appendChild(docLink);\n",
              "        }\n",
              "      </script>\n",
              "    </div>\n",
              "  </div>\n",
              "  "
            ],
            "text/plain": [
              "  trans_date_trans_time            cc_num                            merchant  \\\n",
              "0   2019-01-01 00:00:18  2703186189652095          fraud_Rippin, Kub and Mann   \n",
              "1   2019-01-01 00:00:44      630423337322     fraud_Heller, Gutmann and Zieme   \n",
              "2   2019-01-01 00:00:51    38859492057661                fraud_Lind-Buckridge   \n",
              "3   2019-01-01 00:01:16  3534093764340240  fraud_Kutch, Hermiston and Farrell   \n",
              "4   2019-01-01 00:03:06   375534208663984                 fraud_Keeling-Crist   \n",
              "\n",
              "        category        amt      first     last gender  \\\n",
              "0       misc_net   4.970000   Jennifer    Banks      F   \n",
              "1    grocery_pos 107.230000  Stephanie     Gill      F   \n",
              "2  entertainment 220.110000     Edward  Sanchez      M   \n",
              "3  gas_transport  45.000000     Jeremy    White      M   \n",
              "4       misc_pos  41.960000      Tyler   Garcia      M   \n",
              "\n",
              "                         street            city state    zip       lat  \\\n",
              "0                561 Perry Cove  Moravian Falls    NC  28654 36.078800   \n",
              "1  43039 Riley Greens Suite 393          Orient    WA  99160 48.887800   \n",
              "2      594 White Dale Suite 530      Malad City    ID  83252 42.180800   \n",
              "3   9443 Cynthia Court Apt. 038         Boulder    MT  59632 46.230600   \n",
              "4              408 Bradley Rest        Doe Hill    VA  24433 38.420700   \n",
              "\n",
              "         long  city_pop                                job        dob  \\\n",
              "0  -81.178100      3495          Psychologist, counselling 1988-03-09   \n",
              "1 -118.210500       149  Special educational needs teacher 1978-06-21   \n",
              "2 -112.262000      4154        Nature conservation officer 1962-01-19   \n",
              "3 -112.113800      1939                    Patent attorney 1967-01-12   \n",
              "4  -79.462900        99     Dance movement psychotherapist 1986-03-28   \n",
              "\n",
              "                          trans_num   unix_time  merch_lat  merch_long  \\\n",
              "0  0b242abb623afc578575680df30655b9  1325376018  36.011293  -82.048315   \n",
              "1  1f76529f8574734946361c461b024d99  1325376044  49.159047 -118.186462   \n",
              "2  a1a22d70485983eac12b5b88dad1cf95  1325376051  43.150704 -112.154481   \n",
              "3  6b849c168bdad6f867558c3793159a81  1325376076  47.034331 -112.561071   \n",
              "4  a41d7549acf90789359a9aa5346dcb46  1325376186  38.674999  -78.632459   \n",
              "\n",
              "   is_fraud       age trans_day trans_month trans_year_month  trans_hour  \\\n",
              "0         0 31.000000   Tuesday     January          2019-01           0   \n",
              "1         0 41.000000   Tuesday     January          2019-01           0   \n",
              "2         0 57.000000   Tuesday     January          2019-01           0   \n",
              "3         0 52.000000   Tuesday     January          2019-01           0   \n",
              "4         0 33.000000   Tuesday     January          2019-01           0   \n",
              "\n",
              "   trans_dayN  trans_yearN  trans_monthN   distance  \n",
              "0           1         2019             1  78.597568  \n",
              "1           1         2019             1  30.212176  \n",
              "2           1         2019             1 108.206083  \n",
              "3           1         2019             1  95.673231  \n",
              "4           1         2019             1  77.556744  "
            ]
          },
          "metadata": {},
          "execution_count": 36
        }
      ],
      "source": [
        "df_train.head()"
      ]
    },
    {
      "cell_type": "markdown",
      "metadata": {
        "id": "BUPKfC9JHivM"
      },
      "source": [
        "# **4) Data Visualization**"
      ]
    },
    {
      "cell_type": "code",
      "execution_count": null,
      "metadata": {
        "colab": {
          "base_uri": "https://localhost:8080/",
          "height": 578
        },
        "id": "xwC-tunQHpj3",
        "outputId": "8261c330-0a59-43ec-f0a0-a44439f078f2"
      },
      "outputs": [
        {
          "output_type": "execute_result",
          "data": {
            "text/plain": [
              "<matplotlib.axes._subplots.AxesSubplot at 0x7f0e53f91f10>"
            ]
          },
          "metadata": {},
          "execution_count": 37
        },
        {
          "output_type": "display_data",
          "data": {
            "image/png": "[encoded data removed]",
            "text/plain": [
              "<Figure size 1800x576 with 1 Axes>"
            ]
          },
          "metadata": {
            "needs_background": "light"
          }
        }
      ],
      "source": [
        "plt.figure(figsize=(25,8))\n",
        "plt.title('Number of Transactions at each category')\n",
        "df_train['category'].value_counts().plot.bar()"
      ]
    },
    {
      "cell_type": "markdown",
      "metadata": {
        "id": "b9y4Df5rlzZg"
      },
      "source": [
        "\n",
        "*   **Customers use their Credit Cards Mostly For the Gas_transport purpose.**\n",
        "*   **Customers use their Credit Cards Leastly For the Travelling purposes.**"
      ]
    },
    {
      "cell_type": "code",
      "execution_count": null,
      "metadata": {
        "colab": {
          "base_uri": "https://localhost:8080/",
          "height": 547
        },
        "id": "tLumyO_Okgkx",
        "outputId": "59f1d509-fc9a-4de3-bd0c-871b516478b1"
      },
      "outputs": [
        {
          "output_type": "display_data",
          "data": {
            "image/png": "[encoded data removed]",
            "text/plain": [
              "<Figure size 1800x576 with 1 Axes>"
            ]
          },
          "metadata": {
            "needs_background": "light"
          }
        }
      ],
      "source": [
        "plt.figure(figsize=(25,8))\n",
        "plt.title('Number of Transactions per each day of the week')\n",
        "df_train['trans_day'].value_counts().plot.bar();"
      ]
    },
    {
      "cell_type": "markdown",
      "metadata": {
        "id": "S8WcJdOwH4NS"
      },
      "source": [
        "\n",
        "*   **Customers use their Credit Cards Mostly on Mondays and Sundays.**\n",
        "*   **Customers use their Credit Cards Leastly on Wednesdays.**"
      ]
    },
    {
      "cell_type": "code",
      "execution_count": null,
      "metadata": {
        "colab": {
          "base_uri": "https://localhost:8080/",
          "height": 548
        },
        "id": "t-5kCLFDmjD8",
        "outputId": "aa868bd5-6c28-404e-882a-72f6c6540f3f"
      },
      "outputs": [
        {
          "output_type": "execute_result",
          "data": {
            "text/plain": [
              "<matplotlib.axes._subplots.AxesSubplot at 0x7f0e45791e10>"
            ]
          },
          "metadata": {},
          "execution_count": 39
        },
        {
          "output_type": "display_data",
          "data": {
            "image/png": "[encoded data removed]",
            "text/plain": [
              "<Figure size 1800x576 with 1 Axes>"
            ]
          },
          "metadata": {
            "needs_background": "light"
          }
        }
      ],
      "source": [
        "plt.figure(figsize=(25,8))\n",
        "plt.title('Number of Transactions per each perid (Month-Year)')\n",
        "df_train['trans_year_month'].value_counts().plot.bar()"
      ]
    },
    {
      "cell_type": "markdown",
      "metadata": {
        "id": "7X_YDi7EIFTZ"
      },
      "source": [
        "*   **Customers use their Credit Cards Mostly in December 2019.**\n",
        "*   **Customers use their Credit Cards Leastly in February 2020.**"
      ]
    },
    {
      "cell_type": "code",
      "execution_count": null,
      "metadata": {
        "colab": {
          "base_uri": "https://localhost:8080/",
          "height": 407
        },
        "id": "0ECHd4DgpAty",
        "outputId": "90f63d47-23fb-406c-faf3-23e0738794f6"
      },
      "outputs": [
        {
          "output_type": "execute_result",
          "data": {
            "text/plain": [
              "<matplotlib.axes._subplots.AxesSubplot at 0x7f0e456d48d0>"
            ]
          },
          "metadata": {},
          "execution_count": 40
        },
        {
          "output_type": "display_data",
          "data": {
            "image/png": "[encoded data removed]",
            "text/plain": [
              "<Figure size 2520x576 with 1 Axes>"
            ]
          },
          "metadata": {
            "needs_background": "light"
          }
        }
      ],
      "source": [
        "plt.figure(figsize=(35,8))\n",
        "plt.title('Number of Transactions per State')\n",
        "df_train['state'].value_counts().plot.bar()"
      ]
    },
    {
      "cell_type": "markdown",
      "metadata": {
        "id": "2vgr3fOtpLtH"
      },
      "source": [
        "*   **Customers of TX State use their Credit Cards Mostly.**\n",
        "*   **Customers of DE State use their Credit Cards Leastly.**"
      ]
    },
    {
      "cell_type": "code",
      "execution_count": null,
      "metadata": {
        "colab": {
          "base_uri": "https://localhost:8080/"
        },
        "id": "Gv_xWW76ILTT",
        "outputId": "b5fb2437-ed15-4362-e13d-7cc575f0ac38"
      },
      "outputs": [
        {
          "output_type": "execute_result",
          "data": {
            "text/plain": [
              "Film/video editor                                              9779\n",
              "Exhibition designer                                            9199\n",
              "Naval architect                                                8684\n",
              "Surveyor, land/geomatics                                       8680\n",
              "Materials engineer                                             8270\n",
              "Designer, ceramics/pottery                                     8225\n",
              "Systems developer                                              7700\n",
              "IT trainer                                                     7679\n",
              "Financial adviser                                              7659\n",
              "Environmental consultant                                       7547\n",
              "Chartered public finance accountant                            7210\n",
              "Scientist, audiological                                        7174\n",
              "Chief Executive Officer                                        7172\n",
              "Copywriter, advertising                                        7146\n",
              "Comptroller                                                    6730\n",
              "Sub                                                            6701\n",
              "Podiatrist                                                     6653\n",
              "Agricultural consultant                                        6642\n",
              "Paramedic                                                      6635\n",
              "Magazine features editor                                       6602\n",
              "Historic buildings inspector/conservation officer              6205\n",
              "Librarian, public                                              6186\n",
              "Building surveyor                                              6178\n",
              "Musician                                                       6178\n",
              "Water engineer                                                 6164\n",
              "Scientist, research (maths)                                    6159\n",
              "Mining engineer                                                6151\n",
              "Barrister                                                      6127\n",
              "Audiological scientist                                         6118\n",
              "Immunologist                                                   6085\n",
              "Clothing/textile technologist                                  6049\n",
              "Prison officer                                                 5701\n",
              "Financial trader                                               5693\n",
              "Energy engineer                                                5668\n",
              "Claims inspector/assessor                                      5668\n",
              "Petroleum engineer                                             5667\n",
              "Quantity surveyor                                              5646\n",
              "Make                                                           5643\n",
              "Engineer, automotive                                           5634\n",
              "Mechanical engineer                                            5632\n",
              "Geoscientist                                                   5620\n",
              "Counsellor                                                     5615\n",
              "Secondary school teacher                                       5609\n",
              "Land/geomatics surveyor                                        5604\n",
              "Firefighter                                                    5600\n",
              "Early years teacher                                            5566\n",
              "Sales professional, IT                                         5517\n",
              "Pensions consultant                                            5504\n",
              "Psychologist, forensic                                         5476\n",
              "Psychotherapist, child                                         5460\n",
              "Librarian, academic                                            5203\n",
              "Research scientist (physical sciences)                         5185\n",
              "Electrical engineer                                            5179\n",
              "Insurance underwriter                                          5170\n",
              "Science writer                                                 5161\n",
              "Medical sales representative                                   5143\n",
              "Chartered loss adjuster                                        5135\n",
              "Drilling engineer                                              5132\n",
              "Engineer, biomedical                                           5120\n",
              "Trade mark attorney                                            5119\n",
              "Television production assistant                                5118\n",
              "Special educational needs teacher                              5099\n",
              "Scientist, marine                                              5089\n",
              "Cytogeneticist                                                 5088\n",
              "Chemical engineer                                              5086\n",
              "Multimedia programmer                                          4699\n",
              "Accounting technician                                          4673\n",
              "Dealer                                                         4663\n",
              "Counselling psychologist                                       4649\n",
              "Technical brewer                                               4644\n",
              "Trading standards officer                                      4641\n",
              "Toxicologist                                                   4634\n",
              "Engineer, production                                           4632\n",
              "Social researcher                                              4609\n",
              "Radio producer                                                 4606\n",
              "Chief Strategy Officer                                         4603\n",
              "Physiotherapist                                                4602\n",
              "Fine artist                                                    4595\n",
              "Teacher, special educational needs                             4594\n",
              "Race relations officer                                         4591\n",
              "Engineer, control and instrumentation                          4586\n",
              "Radio broadcast assistant                                      4583\n",
              "Therapist, occupational                                        4576\n",
              "Surveyor, minerals                                             4552\n",
              "Educational psychologist                                       4517\n",
              "Ceramics designer                                              4493\n",
              "Advertising account planner                                    4167\n",
              "Town planner                                                   4151\n",
              "Programme researcher, broadcasting/film/video                  4150\n",
              "Exhibitions officer, museum/gallery                            4144\n",
              "Surgeon                                                        4138\n",
              "Futures trader                                                 4136\n",
              "Television/film/video producer                                 4136\n",
              "Further education lecturer                                     4131\n",
              "Scientist, biomedical                                          4130\n",
              "Designer, industrial/product                                   4129\n",
              "English as a second language teacher                           4125\n",
              "Applications developer                                         4122\n",
              "Probation officer                                              4112\n",
              "Senior tax professional/tax inspector                          4106\n",
              "Buyer, industrial                                              4102\n",
              "Curator                                                        4098\n",
              "Child psychotherapist                                          4095\n",
              "Lexicographer                                                  4091\n",
              "Engineering geologist                                          4088\n",
              "Occupational psychologist                                      4079\n",
              "Herbalist                                                      4077\n",
              "Development worker, community                                  4075\n",
              "Pilot, airline                                                 4071\n",
              "Radiographer, therapeutic                                      4068\n",
              "Press photographer                                             4059\n",
              "Archaeologist                                                  4039\n",
              "Public relations account executive                             4033\n",
              "Facilities manager                                             3974\n",
              "Editor, commissioning                                          3633\n",
              "Forensic psychologist                                          3617\n",
              "Fisheries officer                                              3617\n",
              "Research officer, political party                              3613\n",
              "Engineer, electronics                                          3612\n",
              "Dispensing optician                                            3607\n",
              "Administrator                                                  3604\n",
              "Broadcast presenter                                            3604\n",
              "Insurance risk surveyor                                        3603\n",
              "Exercise physiologist                                          3602\n",
              "Systems analyst                                                3595\n",
              "Retail merchandiser                                            3595\n",
              "Engineer, mining                                               3595\n",
              "Chiropodist                                                    3594\n",
              "Operations geologist                                           3590\n",
              "Lecturer, further education                                    3586\n",
              "Call centre manager                                            3581\n",
              "Physicist, medical                                             3580\n",
              "Insurance broker                                               3575\n",
              "Learning disability nurse                                      3575\n",
              "Hospital doctor                                                3573\n",
              "Heritage manager                                               3566\n",
              "Research officer, trade union                                  3564\n",
              "Private music teacher                                          3561\n",
              "Structural engineer                                            3558\n",
              "Travel agency manager                                          3557\n",
              "Psychologist, counselling                                      3545\n",
              "Amenity horticulturist                                         3545\n",
              "Colour technologist                                            3526\n",
              "Tree surgeon                                                   3142\n",
              "Television floor manager                                       3130\n",
              "Metallurgist                                                   3123\n",
              "Geologist, engineering                                         3120\n",
              "Producer, radio                                                3111\n",
              "Arboriculturist                                                3101\n",
              "Phytotherapist                                                 3100\n",
              "Education officer, museum                                      3100\n",
              "Journalist, newspaper                                          3097\n",
              "Occupational hygienist                                         3094\n",
              "Site engineer                                                  3090\n",
              "Electronics engineer                                           3087\n",
              "Tourist information centre manager                             3086\n",
              "Regulatory affairs officer                                     3085\n",
              "Video editor                                                   3085\n",
              "Designer, jewellery                                            3083\n",
              "Biomedical scientist                                           3080\n",
              "Leisure centre manager                                         3080\n",
              "Licensed conveyancer                                           3076\n",
              "Press sub                                                      3071\n",
              "Production manager                                             3067\n",
              "Designer, furniture                                            3064\n",
              "Manufacturing engineer                                         3058\n",
              "Development worker, international aid                          3053\n",
              "Camera operator                                                3051\n",
              "Barrister's clerk                                              3051\n",
              "Commercial horticulturist                                      3050\n",
              "Warden/ranger                                                  3049\n",
              "Tax inspector                                                  3045\n",
              "Chief Operating Officer                                        3043\n",
              "Radiographer, diagnostic                                       3042\n",
              "Music tutor                                                    3039\n",
              "Health physicist                                               3034\n",
              "Product/process development scientist                          3030\n",
              "Designer, exhibition/display                                   3026\n",
              "Contractor                                                     3023\n",
              "Engineer, land                                                 3023\n",
              "Gaffer                                                         3005\n",
              "Freight forwarder                                              2998\n",
              "Lecturer, higher education                                     2994\n",
              "Commercial/residential surveyor                                2965\n",
              "Careers information officer                                    2961\n",
              "Energy manager                                                 2918\n",
              "Administrator, local government                                2605\n",
              "Osteopath                                                      2602\n",
              "Wellsite geologist                                             2601\n",
              "Statistician                                                   2599\n",
              "Market researcher                                              2596\n",
              "Risk analyst                                                   2595\n",
              "Nurse, children's                                              2589\n",
              "Doctor, general practice                                       2582\n",
              "Chief Technology Officer                                       2580\n",
              "Accountant, chartered public finance                           2580\n",
              "Health and safety adviser                                      2579\n",
              "Advice worker                                                  2579\n",
              "Soil scientist                                                 2579\n",
              "Programmer, multimedia                                         2579\n",
              "Tourism officer                                                2574\n",
              "Equality and diversity officer                                 2572\n",
              "Administrator, education                                       2571\n",
              "Human resources officer                                        2567\n",
              "Community arts worker                                          2567\n",
              "Operational researcher                                         2566\n",
              "Therapist, sports                                              2564\n",
              "Police officer                                                 2563\n",
              "Music therapist                                                2562\n",
              "Chief Financial Officer                                        2561\n",
              "Building control surveyor                                      2561\n",
              "Media buyer                                                    2561\n",
              "Bookseller                                                     2560\n",
              "Database administrator                                         2560\n",
              "Health service manager                                         2559\n",
              "Fitness centre manager                                         2559\n",
              "Optician, dispensing                                           2559\n",
              "Land                                                           2558\n",
              "Mental health nurse                                            2557\n",
              "Web designer                                                   2556\n",
              "Doctor, hospital                                               2554\n",
              "Maintenance engineer                                           2554\n",
              "Therapist, art                                                 2554\n",
              "Teacher, secondary school                                      2549\n",
              "Engineer, petroleum                                            2547\n",
              "Product designer                                               2545\n",
              "Paediatric nurse                                               2545\n",
              "Armed forces training and education officer                    2539\n",
              "Waste management officer                                       2538\n",
              "Tax adviser                                                    2537\n",
              "Geochemist                                                     2530\n",
              "Investment analyst                                             2530\n",
              "Patent attorney                                                2530\n",
              "Therapist, horticultural                                       2528\n",
              "Administrator, charities/voluntary organisations               2524\n",
              "Surveyor, rural practice                                       2524\n",
              "Intelligence analyst                                           2498\n",
              "Teacher, early years/pre                                       2487\n",
              "Sports development officer                                     2102\n",
              "Neurosurgeon                                                   2101\n",
              "Transport planner                                              2098\n",
              "Horticultural therapist                                        2094\n",
              "Chief Marketing Officer                                        2092\n",
              "Airline pilot                                                  2091\n",
              "Retail buyer                                                   2089\n",
              "Charity fundraiser                                             2088\n",
              "Pension scheme manager                                         2088\n",
              "Scientist, physiological                                       2087\n",
              "Psychologist, sport and exercise                               2086\n",
              "Landscape architect                                            2084\n",
              "Telecommunications researcher                                  2080\n",
              "Animal nutritionist                                            2077\n",
              "Industrial/product designer                                    2077\n",
              "Seismic interpreter                                            2076\n",
              "Psychiatrist                                                   2073\n",
              "Geologist, wellsite                                            2073\n",
              "Glass blower/designer                                          2072\n",
              "Museum/gallery conservator                                     2072\n",
              "Politician's assistant                                         2067\n",
              "Clinical research associate                                    2066\n",
              "Sport and exercise psychologist                                2065\n",
              "Editor, film/video                                             2063\n",
              "Clinical biochemist                                            2063\n",
              "Nutritional therapist                                          2060\n",
              "Museum/gallery exhibitions officer                             2057\n",
              "Therapist, drama                                               2056\n",
              "Art therapist                                                  2055\n",
              "Secretary/administrator                                        2054\n",
              "Immigration officer                                            2049\n",
              "Architect                                                      2048\n",
              "Psychotherapist                                                2048\n",
              "Communications engineer                                        2046\n",
              "Retail banker                                                  2046\n",
              "Animal technologist                                            2044\n",
              "Engineer, drilling                                             2043\n",
              "Scientist, research (physical sciences)                        2043\n",
              "Furniture designer                                             2043\n",
              "Editor, magazine features                                      2041\n",
              "Community education officer                                    2038\n",
              "Cartographer                                                   2038\n",
              "Public house manager                                           2038\n",
              "Health promotion specialist                                    2035\n",
              "Biomedical engineer                                            2034\n",
              "Horticulturist, commercial                                     2034\n",
              "Farm manager                                                   2032\n",
              "Research scientist (life sciences)                             2030\n",
              "Scientific laboratory technician                               2030\n",
              "Investment banker, corporate                                   2029\n",
              "Herpetologist                                                  2025\n",
              "Pharmacist, community                                          2024\n",
              "Arts development officer                                       2024\n",
              "Volunteer coordinator                                          2024\n",
              "Public affairs consultant                                      2024\n",
              "Medical secretary                                              2023\n",
              "Corporate investment banker                                    2023\n",
              "Information systems manager                                    2021\n",
              "Civil engineer, contracting                                    2018\n",
              "Dance movement psychotherapist                                 2017\n",
              "Aid worker                                                     2016\n",
              "Engineer, technical sales                                      2016\n",
              "General practice doctor                                        2001\n",
              "Theme park manager                                             1999\n",
              "Health visitor                                                 1979\n",
              "Animator                                                       1588\n",
              "Medical physicist                                              1578\n",
              "Acupuncturist                                                  1577\n",
              "Engineer, agricultural                                         1574\n",
              "Advertising account executive                                  1573\n",
              "Planning and development surveyor                              1572\n",
              "Embryologist, clinical                                         1571\n",
              "Oceanographer                                                  1566\n",
              "Barista                                                        1566\n",
              "Pharmacologist                                                 1565\n",
              "Event organiser                                                1563\n",
              "Designer, interior/spatial                                     1562\n",
              "Special effects artist                                         1562\n",
              "Psychologist, clinical                                         1559\n",
              "Learning mentor                                                1555\n",
              "Theatre manager                                                1555\n",
              "Sales executive                                                1554\n",
              "Surveyor, mining                                               1554\n",
              "Orthoptist                                                     1554\n",
              "Psychiatric nurse                                              1553\n",
              "Network engineer                                               1553\n",
              "Theatre director                                               1553\n",
              "Training and development officer                               1551\n",
              "Community pharmacist                                           1551\n",
              "Equities trader                                                1549\n",
              "Logistics and distribution manager                             1549\n",
              "Field seismologist                                             1548\n",
              "Engineer, communications                                       1547\n",
              "Interpreter                                                    1545\n",
              "Set designer                                                   1545\n",
              "Research scientist (maths)                                     1543\n",
              "Emergency planning/management officer                          1542\n",
              "Therapist, music                                               1542\n",
              "Environmental health practitioner                              1542\n",
              "Physiological scientist                                        1540\n",
              "Social research officer, government                            1540\n",
              "Optometrist                                                    1537\n",
              "Building services engineer                                     1537\n",
              "Diagnostic radiographer                                        1535\n",
              "Garment/textile technologist                                   1535\n",
              "Production engineer                                            1535\n",
              "Mudlogger                                                      1535\n",
              "Management consultant                                          1531\n",
              "Armed forces logistics/support/administrative officer          1530\n",
              "Higher education careers adviser                               1528\n",
              "Public librarian                                               1527\n",
              "Aeronautical engineer                                          1526\n",
              "Engineer, maintenance                                          1526\n",
              "Hydrologist                                                    1522\n",
              "Commissioning editor                                           1522\n",
              "Geophysicist/field seismologist                                1521\n",
              "Rural practice surveyor                                        1519\n",
              "Quarry manager                                                 1519\n",
              "Archivist                                                      1519\n",
              "Records manager                                                1517\n",
              "Control and instrumentation engineer                           1517\n",
              "Teaching laboratory technician                                 1506\n",
              "Engineer, civil (contracting)                                  1505\n",
              "Chartered accountant                                           1502\n",
              "Location manager                                               1497\n",
              "Illustrator                                                    1491\n",
              "Teacher, primary school                                        1471\n",
              "Conservation officer, historic buildings                       1466\n",
              "Media planner                                                  1069\n",
              "Medical technical officer                                      1066\n",
              "Plant breeder/geneticist                                       1060\n",
              "Pharmacist, hospital                                           1059\n",
              "Ambulance person                                               1058\n",
              "Sports administrator                                           1055\n",
              "Scientist, clinical (histocompatibility and immunogenetics)    1054\n",
              "Designer, multimedia                                           1053\n",
              "Furniture conservator/restorer                                 1049\n",
              "Engineer, broadcasting (operations)                            1046\n",
              "Museum education officer                                       1045\n",
              "Designer, textile                                              1045\n",
              "Economist                                                      1042\n",
              "Pathologist                                                    1042\n",
              "Hydrographic surveyor                                          1041\n",
              "Academic librarian                                             1041\n",
              "Stage manager                                                  1041\n",
              "Presenter, broadcasting                                        1039\n",
              "Hospital pharmacist                                            1039\n",
              "Company secretary                                              1039\n",
              "Environmental education officer                                1038\n",
              "Biochemist, clinical                                           1038\n",
              "Air broker                                                     1036\n",
              "Retail manager                                                 1034\n",
              "Engineer, building services                                    1033\n",
              "Advertising copywriter                                         1031\n",
              "Production assistant, radio                                    1031\n",
              "Cabin crew                                                     1030\n",
              "Chief of Staff                                                 1030\n",
              "Engineer, aeronautical                                         1029\n",
              "Education administrator                                        1028\n",
              "Art gallery manager                                            1028\n",
              "Insurance claims handler                                       1027\n",
              "Ecologist                                                      1026\n",
              "Civil Service fast streamer                                    1025\n",
              "Architectural technologist                                     1024\n",
              "Chartered legal executive (England and Wales)                  1023\n",
              "Outdoor activities/education manager                           1020\n",
              "Nurse, mental health                                           1015\n",
              "Loss adjuster, chartered                                       1014\n",
              "Chemist, analytical                                            1012\n",
              "Jewellery designer                                             1011\n",
              "Research scientist (medical)                                   1011\n",
              "Programmer, applications                                       1010\n",
              "Product manager                                                1009\n",
              "Teacher, English as a foreign language                         1009\n",
              "Clinical psychologist                                          1007\n",
              "IT consultant                                                  1004\n",
              "Manufacturing systems engineer                                 1001\n",
              "Scientist, research (medical)                                  1000\n",
              "Visual merchandiser                                             998\n",
              "Geneticist, molecular                                           545\n",
              "Lawyer                                                          540\n",
              "Engineer, civil (consulting)                                    540\n",
              "Estate manager/land agent                                       538\n",
              "Merchandiser, retail                                            537\n",
              "Conservator, furniture                                          536\n",
              "Community development worker                                    536\n",
              "Engineer, manufacturing                                         536\n",
              "Administrator, arts                                             535\n",
              "Accountant, chartered certified                                 534\n",
              "Designer, television/film set                                   534\n",
              "TEFL teacher                                                    533\n",
              "Surveyor, hydrographic                                          533\n",
              "Magazine journalist                                             533\n",
              "Horticultural consultant                                        533\n",
              "Production assistant, television                                531\n",
              "Minerals surveyor                                               530\n",
              "Associate Professor                                             530\n",
              "Oncologist                                                      527\n",
              "Restaurant manager, fast food                                   525\n",
              "Catering manager                                                524\n",
              "Local government officer                                        523\n",
              "Broadcast engineer                                              520\n",
              "Solicitor, Scotland                                             520\n",
              "Artist                                                          519\n",
              "Charity officer                                                 519\n",
              "Textile designer                                                519\n",
              "Occupational therapist                                          519\n",
              "Engineer, materials                                             518\n",
              "Air cabin crew                                                  518\n",
              "Field trials officer                                            518\n",
              "Television camera operator                                      518\n",
              "Public relations officer                                        518\n",
              "Environmental manager                                           517\n",
              "Data scientist                                                  516\n",
              "Hotel manager                                                   515\n",
              "Teacher, adult education                                        514\n",
              "Conservator, museum/gallery                                     514\n",
              "Primary school teacher                                          513\n",
              "Education officer, community                                    512\n",
              "Nature conservation officer                                     511\n",
              "Water quality scientist                                         510\n",
              "Professor Emeritus                                              510\n",
              "Investment banker, operational                                  510\n",
              "Interior and spatial designer                                   509\n",
              "Marketing executive                                             508\n",
              "Clinical cytogeneticist                                         508\n",
              "Civil Service administrator                                     506\n",
              "Purchasing manager                                              505\n",
              "Copy                                                            504\n",
              "Writer                                                          504\n",
              "Analytical chemist                                              499\n",
              "Tour manager                                                    498\n",
              "English as a foreign language teacher                           496\n",
              "Buyer, retail                                                   496\n",
              "Producer, television/film/video                                 493\n",
              "Engineer, structural                                            492\n",
              "Hydrogeologist                                                  485\n",
              "Dancer                                                           19\n",
              "Air traffic controller                                           17\n",
              "Careers adviser                                                  15\n",
              "Sales promotion account executive                                14\n",
              "Personnel officer                                                12\n",
              "Legal secretary                                                  12\n",
              "Engineer, site                                                   12\n",
              "Homeopath                                                        11\n",
              "Accountant, chartered                                            11\n",
              "Solicitor                                                        11\n",
              "Industrial buyer                                                 10\n",
              "Forest/woodland manager                                           9\n",
              "Broadcast journalist                                              9\n",
              "Armed forces technical officer                                    8\n",
              "Veterinary surgeon                                                8\n",
              "Information officer                                               8\n",
              "Warehouse manager                                                 7\n",
              "Contracting civil engineer                                        7\n",
              "Ship broker                                                       7\n",
              "Name: job, dtype: int64"
            ]
          },
          "metadata": {},
          "execution_count": 41
        }
      ],
      "source": [
        "df_train.job.value_counts()"
      ]
    },
    {
      "cell_type": "markdown",
      "metadata": {
        "id": "q2y_FvrSqGVY"
      },
      "source": [
        "*   **Film/video editors use their Credit Cards Mostly.**\n",
        "*   **Warehouse managers, Contracting civil engineers, Ship brokers use their Credit Cards Leastly.**"
      ]
    },
    {
      "cell_type": "code",
      "execution_count": null,
      "metadata": {
        "colab": {
          "base_uri": "https://localhost:8080/"
        },
        "id": "-25mpPQLIQMo",
        "outputId": "e2dac7c2-affc-4192-cf94-7e06776027c3"
      },
      "outputs": [
        {
          "output_type": "execute_result",
          "data": {
            "text/plain": [
              "count   1296675.000000\n",
              "mean         45.999860\n",
              "std          17.396256\n",
              "min          14.000000\n",
              "25%          33.000000\n",
              "50%          44.000000\n",
              "75%          57.000000\n",
              "max          96.000000\n",
              "Name: age, dtype: float64"
            ]
          },
          "metadata": {},
          "execution_count": 42
        }
      ],
      "source": [
        "df_train['age'].describe()"
      ]
    },
    {
      "cell_type": "markdown",
      "metadata": {
        "id": "dRIKlzdDIa8j"
      },
      "source": [
        "*   **33-57 age people are 50% of our customers.**\n",
        "*   **Minimum age of customer count is 14.**\n",
        "*   **Maximum age of customer count is 96**"
      ]
    },
    {
      "cell_type": "code",
      "execution_count": null,
      "metadata": {
        "colab": {
          "base_uri": "https://localhost:8080/",
          "height": 350
        },
        "id": "r15VcdOZJKhN",
        "outputId": "65b446a0-e2aa-4eae-dda1-5bcac7a445ff"
      },
      "outputs": [
        {
          "output_type": "display_data",
          "data": {
            "image/png": "[encoded data removed]",
            "text/plain": [
              "<Figure size 1440x360 with 3 Axes>"
            ]
          },
          "metadata": {
            "needs_background": "light"
          }
        }
      ],
      "source": [
        "fig, ax = plt.subplots(1,3,figsize=(20,5))\n",
        "ax[0].hist(df_train[df_train['amt']<=1500]['amt'], bins=50)\n",
        "ax[1].hist(df_train[(df_train['is_fraud']==0) & (df_train['amt']<=1500)]['amt'], bins=50)\n",
        "ax[2].hist(df_train[(df_train['is_fraud']==1) & (df_train['amt']<=1500)]['amt'], bins=50)\n",
        "\n",
        "ax[0].set_title('Overall Amt Distribution')\n",
        "ax[1].set_title('Non Fraud Amt Distribution')\n",
        "ax[2].set_title('Fraud Amt Distribution')\n",
        "\n",
        "ax[0].set_xlabel('Transaction Amount')\n",
        "ax[0].set_ylabel('#.of Transactions')\n",
        "\n",
        "ax[1].set_xlabel('Transaction Amount')\n",
        "ax[2].set_xlabel('Transaction Amount')\n",
        "plt.show()"
      ]
    },
    {
      "cell_type": "code",
      "execution_count": null,
      "metadata": {
        "colab": {
          "base_uri": "https://localhost:8080/",
          "height": 614
        },
        "id": "eSPWibpnZlsw",
        "outputId": "0bf8e3d9-4921-48cf-8f2f-e568b8413a56"
      },
      "outputs": [
        {
          "output_type": "execute_result",
          "data": {
            "text/html": [
              "\n",
              "  <div id=\"df-30d49906-dac3-422d-a69d-d7d167170c81\">\n",
              "    <div class=\"colab-df-container\">\n",
              "      <div>\n",
              "<style scoped>\n",
              "    .dataframe tbody tr th:only-of-type {\n",
              "        vertical-align: middle;\n",
              "    }\n",
              "\n",
              "    .dataframe tbody tr th {\n",
              "        vertical-align: top;\n",
              "    }\n",
              "\n",
              "    .dataframe thead th {\n",
              "        text-align: right;\n",
              "    }\n",
              "</style>\n",
              "<table border=\"1\" class=\"dataframe\">\n",
              "  <thead>\n",
              "    <tr style=\"text-align: right;\">\n",
              "      <th></th>\n",
              "      <th>year_month</th>\n",
              "      <th>num_of_fraud_transactions</th>\n",
              "      <th>fraud_customers</th>\n",
              "    </tr>\n",
              "  </thead>\n",
              "  <tbody>\n",
              "    <tr>\n",
              "      <th>0</th>\n",
              "      <td>2019-01</td>\n",
              "      <td>506</td>\n",
              "      <td>50</td>\n",
              "    </tr>\n",
              "    <tr>\n",
              "      <th>1</th>\n",
              "      <td>2019-02</td>\n",
              "      <td>517</td>\n",
              "      <td>53</td>\n",
              "    </tr>\n",
              "    <tr>\n",
              "      <th>2</th>\n",
              "      <td>2019-03</td>\n",
              "      <td>494</td>\n",
              "      <td>49</td>\n",
              "    </tr>\n",
              "    <tr>\n",
              "      <th>3</th>\n",
              "      <td>2019-04</td>\n",
              "      <td>376</td>\n",
              "      <td>41</td>\n",
              "    </tr>\n",
              "    <tr>\n",
              "      <th>4</th>\n",
              "      <td>2019-05</td>\n",
              "      <td>408</td>\n",
              "      <td>42</td>\n",
              "    </tr>\n",
              "    <tr>\n",
              "      <th>5</th>\n",
              "      <td>2019-06</td>\n",
              "      <td>354</td>\n",
              "      <td>35</td>\n",
              "    </tr>\n",
              "    <tr>\n",
              "      <th>6</th>\n",
              "      <td>2019-07</td>\n",
              "      <td>331</td>\n",
              "      <td>36</td>\n",
              "    </tr>\n",
              "    <tr>\n",
              "      <th>7</th>\n",
              "      <td>2019-08</td>\n",
              "      <td>382</td>\n",
              "      <td>39</td>\n",
              "    </tr>\n",
              "    <tr>\n",
              "      <th>8</th>\n",
              "      <td>2019-09</td>\n",
              "      <td>418</td>\n",
              "      <td>44</td>\n",
              "    </tr>\n",
              "    <tr>\n",
              "      <th>9</th>\n",
              "      <td>2019-10</td>\n",
              "      <td>454</td>\n",
              "      <td>50</td>\n",
              "    </tr>\n",
              "    <tr>\n",
              "      <th>10</th>\n",
              "      <td>2019-11</td>\n",
              "      <td>388</td>\n",
              "      <td>41</td>\n",
              "    </tr>\n",
              "    <tr>\n",
              "      <th>11</th>\n",
              "      <td>2019-12</td>\n",
              "      <td>592</td>\n",
              "      <td>62</td>\n",
              "    </tr>\n",
              "    <tr>\n",
              "      <th>12</th>\n",
              "      <td>2020-01</td>\n",
              "      <td>343</td>\n",
              "      <td>40</td>\n",
              "    </tr>\n",
              "    <tr>\n",
              "      <th>13</th>\n",
              "      <td>2020-02</td>\n",
              "      <td>336</td>\n",
              "      <td>35</td>\n",
              "    </tr>\n",
              "    <tr>\n",
              "      <th>14</th>\n",
              "      <td>2020-03</td>\n",
              "      <td>444</td>\n",
              "      <td>45</td>\n",
              "    </tr>\n",
              "    <tr>\n",
              "      <th>15</th>\n",
              "      <td>2020-04</td>\n",
              "      <td>302</td>\n",
              "      <td>36</td>\n",
              "    </tr>\n",
              "    <tr>\n",
              "      <th>16</th>\n",
              "      <td>2020-05</td>\n",
              "      <td>527</td>\n",
              "      <td>54</td>\n",
              "    </tr>\n",
              "    <tr>\n",
              "      <th>17</th>\n",
              "      <td>2020-06</td>\n",
              "      <td>334</td>\n",
              "      <td>36</td>\n",
              "    </tr>\n",
              "  </tbody>\n",
              "</table>\n",
              "</div>\n",
              "      <button class=\"colab-df-convert\" onclick=\"convertToInteractive('df-30d49906-dac3-422d-a69d-d7d167170c81')\"\n",
              "              title=\"Convert this dataframe to an interactive table.\"\n",
              "              style=\"display:none;\">\n",
              "        \n",
              "  <svg xmlns=\"http://www.w3.org/2000/svg\" height=\"24px\"viewBox=\"0 0 24 24\"\n",
              "       width=\"24px\">\n",
              "    <path d=\"M0 0h24v24H0V0z\" fill=\"none\"/>\n",
              "    <path d=\"M18.56 5.44l.94 2.06.94-2.06 2.06-.94-2.06-.94-.94-2.06-.94 2.06-2.06.94zm-11 1L8.5 8.5l.94-2.06 2.06-.94-2.06-.94L8.5 2.5l-.94 2.06-2.06.94zm10 10l.94 2.06.94-2.06 2.06-.94-2.06-.94-.94-2.06-.94 2.06-2.06.94z\"/><path d=\"M17.41 7.96l-1.37-1.37c-.4-.4-.92-.59-1.43-.59-.52 0-1.04.2-1.43.59L10.3 9.45l-7.72 7.72c-.78.78-.78 2.05 0 2.83L4 21.41c.39.39.9.59 1.41.59.51 0 1.02-.2 1.41-.59l7.78-7.78 2.81-2.81c.8-.78.8-2.07 0-2.86zM5.41 20L4 18.59l7.72-7.72 1.47 1.35L5.41 20z\"/>\n",
              "  </svg>\n",
              "      </button>\n",
              "      \n",
              "  <style>\n",
              "    .colab-df-container {\n",
              "      display:flex;\n",
              "      flex-wrap:wrap;\n",
              "      gap: 12px;\n",
              "    }\n",
              "\n",
              "    .colab-df-convert {\n",
              "      background-color: #E8F0FE;\n",
              "      border: none;\n",
              "      border-radius: 50%;\n",
              "      cursor: pointer;\n",
              "      display: none;\n",
              "      fill: #1967D2;\n",
              "      height: 32px;\n",
              "      padding: 0 0 0 0;\n",
              "      width: 32px;\n",
              "    }\n",
              "\n",
              "    .colab-df-convert:hover {\n",
              "      background-color: #E2EBFA;\n",
              "      box-shadow: 0px 1px 2px rgba(60, 64, 67, 0.3), 0px 1px 3px 1px rgba(60, 64, 67, 0.15);\n",
              "      fill: #174EA6;\n",
              "    }\n",
              "\n",
              "    [theme=dark] .colab-df-convert {\n",
              "      background-color: #3B4455;\n",
              "      fill: #D2E3FC;\n",
              "    }\n",
              "\n",
              "    [theme=dark] .colab-df-convert:hover {\n",
              "      background-color: #434B5C;\n",
              "      box-shadow: 0px 1px 3px 1px rgba(0, 0, 0, 0.15);\n",
              "      filter: drop-shadow(0px 1px 2px rgba(0, 0, 0, 0.3));\n",
              "      fill: #FFFFFF;\n",
              "    }\n",
              "  </style>\n",
              "\n",
              "      <script>\n",
              "        const buttonEl =\n",
              "          document.querySelector('#df-30d49906-dac3-422d-a69d-d7d167170c81 button.colab-df-convert');\n",
              "        buttonEl.style.display =\n",
              "          google.colab.kernel.accessAllowed ? 'block' : 'none';\n",
              "\n",
              "        async function convertToInteractive(key) {\n",
              "          const element = document.querySelector('#df-30d49906-dac3-422d-a69d-d7d167170c81');\n",
              "          const dataTable =\n",
              "            await google.colab.kernel.invokeFunction('convertToInteractive',\n",
              "                                                     [key], {});\n",
              "          if (!dataTable) return;\n",
              "\n",
              "          const docLinkHtml = 'Like what you see? Visit the ' +\n",
              "            '<a target=\"_blank\" href=https://colab.research.google.com/notebooks/data_table.ipynb>data table notebook</a>'\n",
              "            + ' to learn more about interactive tables.';\n",
              "          element.innerHTML = '';\n",
              "          dataTable['output_type'] = 'display_data';\n",
              "          await google.colab.output.renderOutput(dataTable, element);\n",
              "          const docLink = document.createElement('div');\n",
              "          docLink.innerHTML = docLinkHtml;\n",
              "          element.appendChild(docLink);\n",
              "        }\n",
              "      </script>\n",
              "    </div>\n",
              "  </div>\n",
              "  "
            ],
            "text/plain": [
              "   year_month  num_of_fraud_transactions  fraud_customers\n",
              "0     2019-01                        506               50\n",
              "1     2019-02                        517               53\n",
              "2     2019-03                        494               49\n",
              "3     2019-04                        376               41\n",
              "4     2019-05                        408               42\n",
              "5     2019-06                        354               35\n",
              "6     2019-07                        331               36\n",
              "7     2019-08                        382               39\n",
              "8     2019-09                        418               44\n",
              "9     2019-10                        454               50\n",
              "10    2019-11                        388               41\n",
              "11    2019-12                        592               62\n",
              "12    2020-01                        343               40\n",
              "13    2020-02                        336               35\n",
              "14    2020-03                        444               45\n",
              "15    2020-04                        302               36\n",
              "16    2020-05                        527               54\n",
              "17    2020-06                        334               36"
            ]
          },
          "metadata": {},
          "execution_count": 44
        }
      ],
      "source": [
        "## Fraud Transactions\n",
        "df_fraud_transactions = df_train[df_train['is_fraud']==1]\n",
        "df_timeline02 = df_fraud_transactions.groupby(df_fraud_transactions['trans_year_month'])[['trans_num','cc_num']].nunique().reset_index()\n",
        "df_timeline02.columns = ['year_month','num_of_fraud_transactions','fraud_customers']\n",
        "df_timeline02"
      ]
    },
    {
      "cell_type": "code",
      "execution_count": null,
      "metadata": {
        "colab": {
          "base_uri": "https://localhost:8080/",
          "height": 283
        },
        "id": "lAnbn0CaZ0Xw",
        "outputId": "815ef2cf-128d-46e5-bd14-278f0ea201c8"
      },
      "outputs": [
        {
          "output_type": "execute_result",
          "data": {
            "text/plain": [
              "<BarContainer object of 2 artists>"
            ]
          },
          "metadata": {},
          "execution_count": 45
        },
        {
          "output_type": "display_data",
          "data": {
            "image/png": "[encoded data removed]",
            "text/plain": [
              "<Figure size 432x288 with 1 Axes>"
            ]
          },
          "metadata": {
            "needs_background": "light"
          }
        }
      ],
      "source": [
        "df_gender = df_train[['gender','trans_num']].groupby(['gender']).count().reset_index()\n",
        "df_gender.columns = ['Gender','gender_count']\n",
        "df_gender['percent'] = (df_gender['gender_count']/df_gender['gender_count'].sum())*100\n",
        "plt.bar(df_gender['Gender'], df_gender['gender_count'], color=(0.2, 0.4, 0.6, 0.6), width = 0.4)"
      ]
    },
    {
      "cell_type": "code",
      "execution_count": null,
      "metadata": {
        "colab": {
          "base_uri": "https://localhost:8080/",
          "height": 174
        },
        "id": "avBX1pspafQs",
        "outputId": "a1adaa65-6b8d-44cd-bd21-86f24d21c4e4"
      },
      "outputs": [
        {
          "output_type": "execute_result",
          "data": {
            "text/html": [
              "\n",
              "  <div id=\"df-ee355812-55d6-4a22-89cd-5c5524c1d0c6\">\n",
              "    <div class=\"colab-df-container\">\n",
              "      <div>\n",
              "<style scoped>\n",
              "    .dataframe tbody tr th:only-of-type {\n",
              "        vertical-align: middle;\n",
              "    }\n",
              "\n",
              "    .dataframe tbody tr th {\n",
              "        vertical-align: top;\n",
              "    }\n",
              "\n",
              "    .dataframe thead th {\n",
              "        text-align: right;\n",
              "    }\n",
              "</style>\n",
              "<table border=\"1\" class=\"dataframe\">\n",
              "  <thead>\n",
              "    <tr style=\"text-align: right;\">\n",
              "      <th></th>\n",
              "      <th>Gender</th>\n",
              "      <th>is_fraud</th>\n",
              "      <th>count</th>\n",
              "      <th>gender_count</th>\n",
              "      <th>percent_grp</th>\n",
              "    </tr>\n",
              "  </thead>\n",
              "  <tbody>\n",
              "    <tr>\n",
              "      <th>0</th>\n",
              "      <td>F</td>\n",
              "      <td>0</td>\n",
              "      <td>706128</td>\n",
              "      <td>709863</td>\n",
              "      <td>99.473842</td>\n",
              "    </tr>\n",
              "    <tr>\n",
              "      <th>1</th>\n",
              "      <td>F</td>\n",
              "      <td>1</td>\n",
              "      <td>3735</td>\n",
              "      <td>709863</td>\n",
              "      <td>0.526158</td>\n",
              "    </tr>\n",
              "    <tr>\n",
              "      <th>2</th>\n",
              "      <td>M</td>\n",
              "      <td>0</td>\n",
              "      <td>583041</td>\n",
              "      <td>586812</td>\n",
              "      <td>99.357375</td>\n",
              "    </tr>\n",
              "    <tr>\n",
              "      <th>3</th>\n",
              "      <td>M</td>\n",
              "      <td>1</td>\n",
              "      <td>3771</td>\n",
              "      <td>586812</td>\n",
              "      <td>0.642625</td>\n",
              "    </tr>\n",
              "  </tbody>\n",
              "</table>\n",
              "</div>\n",
              "      <button class=\"colab-df-convert\" onclick=\"convertToInteractive('df-ee355812-55d6-4a22-89cd-5c5524c1d0c6')\"\n",
              "              title=\"Convert this dataframe to an interactive table.\"\n",
              "              style=\"display:none;\">\n",
              "        \n",
              "  <svg xmlns=\"http://www.w3.org/2000/svg\" height=\"24px\"viewBox=\"0 0 24 24\"\n",
              "       width=\"24px\">\n",
              "    <path d=\"M0 0h24v24H0V0z\" fill=\"none\"/>\n",
              "    <path d=\"M18.56 5.44l.94 2.06.94-2.06 2.06-.94-2.06-.94-.94-2.06-.94 2.06-2.06.94zm-11 1L8.5 8.5l.94-2.06 2.06-.94-2.06-.94L8.5 2.5l-.94 2.06-2.06.94zm10 10l.94 2.06.94-2.06 2.06-.94-2.06-.94-.94-2.06-.94 2.06-2.06.94z\"/><path d=\"M17.41 7.96l-1.37-1.37c-.4-.4-.92-.59-1.43-.59-.52 0-1.04.2-1.43.59L10.3 9.45l-7.72 7.72c-.78.78-.78 2.05 0 2.83L4 21.41c.39.39.9.59 1.41.59.51 0 1.02-.2 1.41-.59l7.78-7.78 2.81-2.81c.8-.78.8-2.07 0-2.86zM5.41 20L4 18.59l7.72-7.72 1.47 1.35L5.41 20z\"/>\n",
              "  </svg>\n",
              "      </button>\n",
              "      \n",
              "  <style>\n",
              "    .colab-df-container {\n",
              "      display:flex;\n",
              "      flex-wrap:wrap;\n",
              "      gap: 12px;\n",
              "    }\n",
              "\n",
              "    .colab-df-convert {\n",
              "      background-color: #E8F0FE;\n",
              "      border: none;\n",
              "      border-radius: 50%;\n",
              "      cursor: pointer;\n",
              "      display: none;\n",
              "      fill: #1967D2;\n",
              "      height: 32px;\n",
              "      padding: 0 0 0 0;\n",
              "      width: 32px;\n",
              "    }\n",
              "\n",
              "    .colab-df-convert:hover {\n",
              "      background-color: #E2EBFA;\n",
              "      box-shadow: 0px 1px 2px rgba(60, 64, 67, 0.3), 0px 1px 3px 1px rgba(60, 64, 67, 0.15);\n",
              "      fill: #174EA6;\n",
              "    }\n",
              "\n",
              "    [theme=dark] .colab-df-convert {\n",
              "      background-color: #3B4455;\n",
              "      fill: #D2E3FC;\n",
              "    }\n",
              "\n",
              "    [theme=dark] .colab-df-convert:hover {\n",
              "      background-color: #434B5C;\n",
              "      box-shadow: 0px 1px 3px 1px rgba(0, 0, 0, 0.15);\n",
              "      filter: drop-shadow(0px 1px 2px rgba(0, 0, 0, 0.3));\n",
              "      fill: #FFFFFF;\n",
              "    }\n",
              "  </style>\n",
              "\n",
              "      <script>\n",
              "        const buttonEl =\n",
              "          document.querySelector('#df-ee355812-55d6-4a22-89cd-5c5524c1d0c6 button.colab-df-convert');\n",
              "        buttonEl.style.display =\n",
              "          google.colab.kernel.accessAllowed ? 'block' : 'none';\n",
              "\n",
              "        async function convertToInteractive(key) {\n",
              "          const element = document.querySelector('#df-ee355812-55d6-4a22-89cd-5c5524c1d0c6');\n",
              "          const dataTable =\n",
              "            await google.colab.kernel.invokeFunction('convertToInteractive',\n",
              "                                                     [key], {});\n",
              "          if (!dataTable) return;\n",
              "\n",
              "          const docLinkHtml = 'Like what you see? Visit the ' +\n",
              "            '<a target=\"_blank\" href=https://colab.research.google.com/notebooks/data_table.ipynb>data table notebook</a>'\n",
              "            + ' to learn more about interactive tables.';\n",
              "          element.innerHTML = '';\n",
              "          dataTable['output_type'] = 'display_data';\n",
              "          await google.colab.output.renderOutput(dataTable, element);\n",
              "          const docLink = document.createElement('div');\n",
              "          docLink.innerHTML = docLinkHtml;\n",
              "          element.appendChild(docLink);\n",
              "        }\n",
              "      </script>\n",
              "    </div>\n",
              "  </div>\n",
              "  "
            ],
            "text/plain": [
              "  Gender  is_fraud   count  gender_count  percent_grp\n",
              "0      F         0  706128        709863    99.473842\n",
              "1      F         1    3735        709863     0.526158\n",
              "2      M         0  583041        586812    99.357375\n",
              "3      M         1    3771        586812     0.642625"
            ]
          },
          "metadata": {},
          "execution_count": 46
        }
      ],
      "source": [
        "df_fraud_gender = df_train[['gender','is_fraud','trans_num']].groupby(['gender','is_fraud']).count().reset_index()\n",
        "df_fraud_gender.columns = ['Gender','is_fraud','count']\n",
        "df_fraud_gender = df_fraud_gender.merge(df_gender[['Gender','gender_count']],how='inner', left_on='Gender',right_on='Gender')\n",
        "df_fraud_gender['percent_grp'] = (df_fraud_gender['count']/df_fraud_gender['gender_count'])*100\n",
        "\n",
        "df_fraud_gender"
      ]
    },
    {
      "cell_type": "markdown",
      "metadata": {
        "id": "c5RDRabyRIF0"
      },
      "source": [
        "# Ordinal Encoding "
      ]
    },
    {
      "cell_type": "code",
      "execution_count": null,
      "metadata": {
        "colab": {
          "base_uri": "https://localhost:8080/",
          "height": 548
        },
        "id": "6DnUVllRR6HH",
        "outputId": "3caef955-6244-4577-9aca-c656f1fba7ce"
      },
      "outputs": [
        {
          "output_type": "execute_result",
          "data": {
            "text/html": [
              "\n",
              "  <div id=\"df-a10cb569-268c-4d57-b3db-46f99c809ce3\">\n",
              "    <div class=\"colab-df-container\">\n",
              "      <div>\n",
              "<style scoped>\n",
              "    .dataframe tbody tr th:only-of-type {\n",
              "        vertical-align: middle;\n",
              "    }\n",
              "\n",
              "    .dataframe tbody tr th {\n",
              "        vertical-align: top;\n",
              "    }\n",
              "\n",
              "    .dataframe thead th {\n",
              "        text-align: right;\n",
              "    }\n",
              "</style>\n",
              "<table border=\"1\" class=\"dataframe\">\n",
              "  <thead>\n",
              "    <tr style=\"text-align: right;\">\n",
              "      <th></th>\n",
              "      <th>trans_date_trans_time</th>\n",
              "      <th>cc_num</th>\n",
              "      <th>merchant</th>\n",
              "      <th>category</th>\n",
              "      <th>amt</th>\n",
              "      <th>first</th>\n",
              "      <th>last</th>\n",
              "      <th>gender</th>\n",
              "      <th>street</th>\n",
              "      <th>city</th>\n",
              "      <th>state</th>\n",
              "      <th>zip</th>\n",
              "      <th>lat</th>\n",
              "      <th>long</th>\n",
              "      <th>city_pop</th>\n",
              "      <th>job</th>\n",
              "      <th>dob</th>\n",
              "      <th>trans_num</th>\n",
              "      <th>unix_time</th>\n",
              "      <th>merch_lat</th>\n",
              "      <th>merch_long</th>\n",
              "      <th>is_fraud</th>\n",
              "      <th>age</th>\n",
              "      <th>trans_day</th>\n",
              "      <th>trans_month</th>\n",
              "      <th>trans_year_month</th>\n",
              "      <th>trans_hour</th>\n",
              "      <th>trans_dayN</th>\n",
              "      <th>trans_yearN</th>\n",
              "      <th>trans_monthN</th>\n",
              "      <th>distance</th>\n",
              "    </tr>\n",
              "  </thead>\n",
              "  <tbody>\n",
              "    <tr>\n",
              "      <th>0</th>\n",
              "      <td>2019-01-01 00:00:18</td>\n",
              "      <td>2703186189652095</td>\n",
              "      <td>fraud_Rippin, Kub and Mann</td>\n",
              "      <td>misc_net</td>\n",
              "      <td>4.970000</td>\n",
              "      <td>Jennifer</td>\n",
              "      <td>Banks</td>\n",
              "      <td>F</td>\n",
              "      <td>561 Perry Cove</td>\n",
              "      <td>Moravian Falls</td>\n",
              "      <td>NC</td>\n",
              "      <td>28654</td>\n",
              "      <td>36.078800</td>\n",
              "      <td>-81.178100</td>\n",
              "      <td>3495</td>\n",
              "      <td>Psychologist, counselling</td>\n",
              "      <td>1988-03-09</td>\n",
              "      <td>0b242abb623afc578575680df30655b9</td>\n",
              "      <td>1325376018</td>\n",
              "      <td>36.011293</td>\n",
              "      <td>-82.048315</td>\n",
              "      <td>0</td>\n",
              "      <td>31.000000</td>\n",
              "      <td>Tuesday</td>\n",
              "      <td>January</td>\n",
              "      <td>2019-01</td>\n",
              "      <td>0</td>\n",
              "      <td>1</td>\n",
              "      <td>2019</td>\n",
              "      <td>1</td>\n",
              "      <td>78.597568</td>\n",
              "    </tr>\n",
              "    <tr>\n",
              "      <th>1</th>\n",
              "      <td>2019-01-01 00:00:44</td>\n",
              "      <td>630423337322</td>\n",
              "      <td>fraud_Heller, Gutmann and Zieme</td>\n",
              "      <td>grocery_pos</td>\n",
              "      <td>107.230000</td>\n",
              "      <td>Stephanie</td>\n",
              "      <td>Gill</td>\n",
              "      <td>F</td>\n",
              "      <td>43039 Riley Greens Suite 393</td>\n",
              "      <td>Orient</td>\n",
              "      <td>WA</td>\n",
              "      <td>99160</td>\n",
              "      <td>48.887800</td>\n",
              "      <td>-118.210500</td>\n",
              "      <td>149</td>\n",
              "      <td>Special educational needs teacher</td>\n",
              "      <td>1978-06-21</td>\n",
              "      <td>1f76529f8574734946361c461b024d99</td>\n",
              "      <td>1325376044</td>\n",
              "      <td>49.159047</td>\n",
              "      <td>-118.186462</td>\n",
              "      <td>0</td>\n",
              "      <td>41.000000</td>\n",
              "      <td>Tuesday</td>\n",
              "      <td>January</td>\n",
              "      <td>2019-01</td>\n",
              "      <td>0</td>\n",
              "      <td>1</td>\n",
              "      <td>2019</td>\n",
              "      <td>1</td>\n",
              "      <td>30.212176</td>\n",
              "    </tr>\n",
              "    <tr>\n",
              "      <th>2</th>\n",
              "      <td>2019-01-01 00:00:51</td>\n",
              "      <td>38859492057661</td>\n",
              "      <td>fraud_Lind-Buckridge</td>\n",
              "      <td>entertainment</td>\n",
              "      <td>220.110000</td>\n",
              "      <td>Edward</td>\n",
              "      <td>Sanchez</td>\n",
              "      <td>M</td>\n",
              "      <td>594 White Dale Suite 530</td>\n",
              "      <td>Malad City</td>\n",
              "      <td>ID</td>\n",
              "      <td>83252</td>\n",
              "      <td>42.180800</td>\n",
              "      <td>-112.262000</td>\n",
              "      <td>4154</td>\n",
              "      <td>Nature conservation officer</td>\n",
              "      <td>1962-01-19</td>\n",
              "      <td>a1a22d70485983eac12b5b88dad1cf95</td>\n",
              "      <td>1325376051</td>\n",
              "      <td>43.150704</td>\n",
              "      <td>-112.154481</td>\n",
              "      <td>0</td>\n",
              "      <td>57.000000</td>\n",
              "      <td>Tuesday</td>\n",
              "      <td>January</td>\n",
              "      <td>2019-01</td>\n",
              "      <td>0</td>\n",
              "      <td>1</td>\n",
              "      <td>2019</td>\n",
              "      <td>1</td>\n",
              "      <td>108.206083</td>\n",
              "    </tr>\n",
              "    <tr>\n",
              "      <th>3</th>\n",
              "      <td>2019-01-01 00:01:16</td>\n",
              "      <td>3534093764340240</td>\n",
              "      <td>fraud_Kutch, Hermiston and Farrell</td>\n",
              "      <td>gas_transport</td>\n",
              "      <td>45.000000</td>\n",
              "      <td>Jeremy</td>\n",
              "      <td>White</td>\n",
              "      <td>M</td>\n",
              "      <td>9443 Cynthia Court Apt. 038</td>\n",
              "      <td>Boulder</td>\n",
              "      <td>MT</td>\n",
              "      <td>59632</td>\n",
              "      <td>46.230600</td>\n",
              "      <td>-112.113800</td>\n",
              "      <td>1939</td>\n",
              "      <td>Patent attorney</td>\n",
              "      <td>1967-01-12</td>\n",
              "      <td>6b849c168bdad6f867558c3793159a81</td>\n",
              "      <td>1325376076</td>\n",
              "      <td>47.034331</td>\n",
              "      <td>-112.561071</td>\n",
              "      <td>0</td>\n",
              "      <td>52.000000</td>\n",
              "      <td>Tuesday</td>\n",
              "      <td>January</td>\n",
              "      <td>2019-01</td>\n",
              "      <td>0</td>\n",
              "      <td>1</td>\n",
              "      <td>2019</td>\n",
              "      <td>1</td>\n",
              "      <td>95.673231</td>\n",
              "    </tr>\n",
              "    <tr>\n",
              "      <th>4</th>\n",
              "      <td>2019-01-01 00:03:06</td>\n",
              "      <td>375534208663984</td>\n",
              "      <td>fraud_Keeling-Crist</td>\n",
              "      <td>misc_pos</td>\n",
              "      <td>41.960000</td>\n",
              "      <td>Tyler</td>\n",
              "      <td>Garcia</td>\n",
              "      <td>M</td>\n",
              "      <td>408 Bradley Rest</td>\n",
              "      <td>Doe Hill</td>\n",
              "      <td>VA</td>\n",
              "      <td>24433</td>\n",
              "      <td>38.420700</td>\n",
              "      <td>-79.462900</td>\n",
              "      <td>99</td>\n",
              "      <td>Dance movement psychotherapist</td>\n",
              "      <td>1986-03-28</td>\n",
              "      <td>a41d7549acf90789359a9aa5346dcb46</td>\n",
              "      <td>1325376186</td>\n",
              "      <td>38.674999</td>\n",
              "      <td>-78.632459</td>\n",
              "      <td>0</td>\n",
              "      <td>33.000000</td>\n",
              "      <td>Tuesday</td>\n",
              "      <td>January</td>\n",
              "      <td>2019-01</td>\n",
              "      <td>0</td>\n",
              "      <td>1</td>\n",
              "      <td>2019</td>\n",
              "      <td>1</td>\n",
              "      <td>77.556744</td>\n",
              "    </tr>\n",
              "  </tbody>\n",
              "</table>\n",
              "</div>\n",
              "      <button class=\"colab-df-convert\" onclick=\"convertToInteractive('df-a10cb569-268c-4d57-b3db-46f99c809ce3')\"\n",
              "              title=\"Convert this dataframe to an interactive table.\"\n",
              "              style=\"display:none;\">\n",
              "        \n",
              "  <svg xmlns=\"http://www.w3.org/2000/svg\" height=\"24px\"viewBox=\"0 0 24 24\"\n",
              "       width=\"24px\">\n",
              "    <path d=\"M0 0h24v24H0V0z\" fill=\"none\"/>\n",
              "    <path d=\"M18.56 5.44l.94 2.06.94-2.06 2.06-.94-2.06-.94-.94-2.06-.94 2.06-2.06.94zm-11 1L8.5 8.5l.94-2.06 2.06-.94-2.06-.94L8.5 2.5l-.94 2.06-2.06.94zm10 10l.94 2.06.94-2.06 2.06-.94-2.06-.94-.94-2.06-.94 2.06-2.06.94z\"/><path d=\"M17.41 7.96l-1.37-1.37c-.4-.4-.92-.59-1.43-.59-.52 0-1.04.2-1.43.59L10.3 9.45l-7.72 7.72c-.78.78-.78 2.05 0 2.83L4 21.41c.39.39.9.59 1.41.59.51 0 1.02-.2 1.41-.59l7.78-7.78 2.81-2.81c.8-.78.8-2.07 0-2.86zM5.41 20L4 18.59l7.72-7.72 1.47 1.35L5.41 20z\"/>\n",
              "  </svg>\n",
              "      </button>\n",
              "      \n",
              "  <style>\n",
              "    .colab-df-container {\n",
              "      display:flex;\n",
              "      flex-wrap:wrap;\n",
              "      gap: 12px;\n",
              "    }\n",
              "\n",
              "    .colab-df-convert {\n",
              "      background-color: #E8F0FE;\n",
              "      border: none;\n",
              "      border-radius: 50%;\n",
              "      cursor: pointer;\n",
              "      display: none;\n",
              "      fill: #1967D2;\n",
              "      height: 32px;\n",
              "      padding: 0 0 0 0;\n",
              "      width: 32px;\n",
              "    }\n",
              "\n",
              "    .colab-df-convert:hover {\n",
              "      background-color: #E2EBFA;\n",
              "      box-shadow: 0px 1px 2px rgba(60, 64, 67, 0.3), 0px 1px 3px 1px rgba(60, 64, 67, 0.15);\n",
              "      fill: #174EA6;\n",
              "    }\n",
              "\n",
              "    [theme=dark] .colab-df-convert {\n",
              "      background-color: #3B4455;\n",
              "      fill: #D2E3FC;\n",
              "    }\n",
              "\n",
              "    [theme=dark] .colab-df-convert:hover {\n",
              "      background-color: #434B5C;\n",
              "      box-shadow: 0px 1px 3px 1px rgba(0, 0, 0, 0.15);\n",
              "      filter: drop-shadow(0px 1px 2px rgba(0, 0, 0, 0.3));\n",
              "      fill: #FFFFFF;\n",
              "    }\n",
              "  </style>\n",
              "\n",
              "      <script>\n",
              "        const buttonEl =\n",
              "          document.querySelector('#df-a10cb569-268c-4d57-b3db-46f99c809ce3 button.colab-df-convert');\n",
              "        buttonEl.style.display =\n",
              "          google.colab.kernel.accessAllowed ? 'block' : 'none';\n",
              "\n",
              "        async function convertToInteractive(key) {\n",
              "          const element = document.querySelector('#df-a10cb569-268c-4d57-b3db-46f99c809ce3');\n",
              "          const dataTable =\n",
              "            await google.colab.kernel.invokeFunction('convertToInteractive',\n",
              "                                                     [key], {});\n",
              "          if (!dataTable) return;\n",
              "\n",
              "          const docLinkHtml = 'Like what you see? Visit the ' +\n",
              "            '<a target=\"_blank\" href=https://colab.research.google.com/notebooks/data_table.ipynb>data table notebook</a>'\n",
              "            + ' to learn more about interactive tables.';\n",
              "          element.innerHTML = '';\n",
              "          dataTable['output_type'] = 'display_data';\n",
              "          await google.colab.output.renderOutput(dataTable, element);\n",
              "          const docLink = document.createElement('div');\n",
              "          docLink.innerHTML = docLinkHtml;\n",
              "          element.appendChild(docLink);\n",
              "        }\n",
              "      </script>\n",
              "    </div>\n",
              "  </div>\n",
              "  "
            ],
            "text/plain": [
              "  trans_date_trans_time            cc_num                            merchant  \\\n",
              "0   2019-01-01 00:00:18  2703186189652095          fraud_Rippin, Kub and Mann   \n",
              "1   2019-01-01 00:00:44      630423337322     fraud_Heller, Gutmann and Zieme   \n",
              "2   2019-01-01 00:00:51    38859492057661                fraud_Lind-Buckridge   \n",
              "3   2019-01-01 00:01:16  3534093764340240  fraud_Kutch, Hermiston and Farrell   \n",
              "4   2019-01-01 00:03:06   375534208663984                 fraud_Keeling-Crist   \n",
              "\n",
              "        category        amt      first     last gender  \\\n",
              "0       misc_net   4.970000   Jennifer    Banks      F   \n",
              "1    grocery_pos 107.230000  Stephanie     Gill      F   \n",
              "2  entertainment 220.110000     Edward  Sanchez      M   \n",
              "3  gas_transport  45.000000     Jeremy    White      M   \n",
              "4       misc_pos  41.960000      Tyler   Garcia      M   \n",
              "\n",
              "                         street            city state    zip       lat  \\\n",
              "0                561 Perry Cove  Moravian Falls    NC  28654 36.078800   \n",
              "1  43039 Riley Greens Suite 393          Orient    WA  99160 48.887800   \n",
              "2      594 White Dale Suite 530      Malad City    ID  83252 42.180800   \n",
              "3   9443 Cynthia Court Apt. 038         Boulder    MT  59632 46.230600   \n",
              "4              408 Bradley Rest        Doe Hill    VA  24433 38.420700   \n",
              "\n",
              "         long  city_pop                                job        dob  \\\n",
              "0  -81.178100      3495          Psychologist, counselling 1988-03-09   \n",
              "1 -118.210500       149  Special educational needs teacher 1978-06-21   \n",
              "2 -112.262000      4154        Nature conservation officer 1962-01-19   \n",
              "3 -112.113800      1939                    Patent attorney 1967-01-12   \n",
              "4  -79.462900        99     Dance movement psychotherapist 1986-03-28   \n",
              "\n",
              "                          trans_num   unix_time  merch_lat  merch_long  \\\n",
              "0  0b242abb623afc578575680df30655b9  1325376018  36.011293  -82.048315   \n",
              "1  1f76529f8574734946361c461b024d99  1325376044  49.159047 -118.186462   \n",
              "2  a1a22d70485983eac12b5b88dad1cf95  1325376051  43.150704 -112.154481   \n",
              "3  6b849c168bdad6f867558c3793159a81  1325376076  47.034331 -112.561071   \n",
              "4  a41d7549acf90789359a9aa5346dcb46  1325376186  38.674999  -78.632459   \n",
              "\n",
              "   is_fraud       age trans_day trans_month trans_year_month  trans_hour  \\\n",
              "0         0 31.000000   Tuesday     January          2019-01           0   \n",
              "1         0 41.000000   Tuesday     January          2019-01           0   \n",
              "2         0 57.000000   Tuesday     January          2019-01           0   \n",
              "3         0 52.000000   Tuesday     January          2019-01           0   \n",
              "4         0 33.000000   Tuesday     January          2019-01           0   \n",
              "\n",
              "   trans_dayN  trans_yearN  trans_monthN   distance  \n",
              "0           1         2019             1  78.597568  \n",
              "1           1         2019             1  30.212176  \n",
              "2           1         2019             1 108.206083  \n",
              "3           1         2019             1  95.673231  \n",
              "4           1         2019             1  77.556744  "
            ]
          },
          "metadata": {},
          "execution_count": 47
        }
      ],
      "source": [
        "df_train.head()"
      ]
    },
    {
      "cell_type": "code",
      "execution_count": null,
      "metadata": {
        "id": "98PmyLdz2YRI"
      },
      "outputs": [],
      "source": [
        "ord_enc = OrdinalEncoder()\n",
        "df_train[\"categoryE\"] = ord_enc.fit_transform(df_train[[\"category\"]])\n",
        "df_train[\"genderE\"] = ord_enc.fit_transform(df_train[[\"gender\"]])\n",
        "df_train[\"trans_dayE\"] = ord_enc.fit_transform(df_train[[\"trans_day\"]])\n",
        "df_train[\"jobE\"] = ord_enc.fit_transform(df_train[[\"job\"]])\n",
        "\n",
        "############### Test ##############\n",
        "df_test[\"categoryE\"] = ord_enc.fit_transform(df_test[[\"category\"]])\n",
        "df_test[\"genderE\"] = ord_enc.fit_transform(df_test[[\"gender\"]])\n",
        "df_test[\"trans_dayE\"] = ord_enc.fit_transform(df_test[[\"trans_day\"]])\n",
        "df_test[\"jobE\"] = ord_enc.fit_transform(df_test[[\"job\"]])"
      ]
    },
    {
      "cell_type": "code",
      "execution_count": null,
      "metadata": {
        "colab": {
          "base_uri": "https://localhost:8080/",
          "height": 548
        },
        "id": "2KUl1QO5yqmC",
        "outputId": "6206e3af-c1a6-40f2-95b9-c24857a976cd"
      },
      "outputs": [
        {
          "output_type": "execute_result",
          "data": {
            "text/html": [
              "\n",
              "  <div id=\"df-00f2476d-18ab-4cce-9acd-d2cdfbca0f53\">\n",
              "    <div class=\"colab-df-container\">\n",
              "      <div>\n",
              "<style scoped>\n",
              "    .dataframe tbody tr th:only-of-type {\n",
              "        vertical-align: middle;\n",
              "    }\n",
              "\n",
              "    .dataframe tbody tr th {\n",
              "        vertical-align: top;\n",
              "    }\n",
              "\n",
              "    .dataframe thead th {\n",
              "        text-align: right;\n",
              "    }\n",
              "</style>\n",
              "<table border=\"1\" class=\"dataframe\">\n",
              "  <thead>\n",
              "    <tr style=\"text-align: right;\">\n",
              "      <th></th>\n",
              "      <th>trans_date_trans_time</th>\n",
              "      <th>cc_num</th>\n",
              "      <th>merchant</th>\n",
              "      <th>category</th>\n",
              "      <th>amt</th>\n",
              "      <th>first</th>\n",
              "      <th>last</th>\n",
              "      <th>gender</th>\n",
              "      <th>street</th>\n",
              "      <th>city</th>\n",
              "      <th>state</th>\n",
              "      <th>zip</th>\n",
              "      <th>lat</th>\n",
              "      <th>long</th>\n",
              "      <th>city_pop</th>\n",
              "      <th>job</th>\n",
              "      <th>dob</th>\n",
              "      <th>trans_num</th>\n",
              "      <th>unix_time</th>\n",
              "      <th>merch_lat</th>\n",
              "      <th>merch_long</th>\n",
              "      <th>is_fraud</th>\n",
              "      <th>age</th>\n",
              "      <th>trans_day</th>\n",
              "      <th>trans_month</th>\n",
              "      <th>trans_year_month</th>\n",
              "      <th>trans_hour</th>\n",
              "      <th>trans_dayN</th>\n",
              "      <th>trans_yearN</th>\n",
              "      <th>trans_monthN</th>\n",
              "      <th>distance</th>\n",
              "      <th>categoryE</th>\n",
              "      <th>genderE</th>\n",
              "      <th>trans_dayE</th>\n",
              "      <th>jobE</th>\n",
              "    </tr>\n",
              "  </thead>\n",
              "  <tbody>\n",
              "    <tr>\n",
              "      <th>0</th>\n",
              "      <td>2019-01-01 00:00:18</td>\n",
              "      <td>2703186189652095</td>\n",
              "      <td>fraud_Rippin, Kub and Mann</td>\n",
              "      <td>misc_net</td>\n",
              "      <td>4.970000</td>\n",
              "      <td>Jennifer</td>\n",
              "      <td>Banks</td>\n",
              "      <td>F</td>\n",
              "      <td>561 Perry Cove</td>\n",
              "      <td>Moravian Falls</td>\n",
              "      <td>NC</td>\n",
              "      <td>28654</td>\n",
              "      <td>36.078800</td>\n",
              "      <td>-81.178100</td>\n",
              "      <td>3495</td>\n",
              "      <td>Psychologist, counselling</td>\n",
              "      <td>1988-03-09</td>\n",
              "      <td>0b242abb623afc578575680df30655b9</td>\n",
              "      <td>1325376018</td>\n",
              "      <td>36.011293</td>\n",
              "      <td>-82.048315</td>\n",
              "      <td>0</td>\n",
              "      <td>31.000000</td>\n",
              "      <td>Tuesday</td>\n",
              "      <td>January</td>\n",
              "      <td>2019-01</td>\n",
              "      <td>0</td>\n",
              "      <td>1</td>\n",
              "      <td>2019</td>\n",
              "      <td>1</td>\n",
              "      <td>78.597568</td>\n",
              "      <td>8.000000</td>\n",
              "      <td>0.000000</td>\n",
              "      <td>5.000000</td>\n",
              "      <td>370.000000</td>\n",
              "    </tr>\n",
              "    <tr>\n",
              "      <th>1</th>\n",
              "      <td>2019-01-01 00:00:44</td>\n",
              "      <td>630423337322</td>\n",
              "      <td>fraud_Heller, Gutmann and Zieme</td>\n",
              "      <td>grocery_pos</td>\n",
              "      <td>107.230000</td>\n",
              "      <td>Stephanie</td>\n",
              "      <td>Gill</td>\n",
              "      <td>F</td>\n",
              "      <td>43039 Riley Greens Suite 393</td>\n",
              "      <td>Orient</td>\n",
              "      <td>WA</td>\n",
              "      <td>99160</td>\n",
              "      <td>48.887800</td>\n",
              "      <td>-118.210500</td>\n",
              "      <td>149</td>\n",
              "      <td>Special educational needs teacher</td>\n",
              "      <td>1978-06-21</td>\n",
              "      <td>1f76529f8574734946361c461b024d99</td>\n",
              "      <td>1325376044</td>\n",
              "      <td>49.159047</td>\n",
              "      <td>-118.186462</td>\n",
              "      <td>0</td>\n",
              "      <td>41.000000</td>\n",
              "      <td>Tuesday</td>\n",
              "      <td>January</td>\n",
              "      <td>2019-01</td>\n",
              "      <td>0</td>\n",
              "      <td>1</td>\n",
              "      <td>2019</td>\n",
              "      <td>1</td>\n",
              "      <td>30.212176</td>\n",
              "      <td>4.000000</td>\n",
              "      <td>0.000000</td>\n",
              "      <td>5.000000</td>\n",
              "      <td>428.000000</td>\n",
              "    </tr>\n",
              "    <tr>\n",
              "      <th>2</th>\n",
              "      <td>2019-01-01 00:00:51</td>\n",
              "      <td>38859492057661</td>\n",
              "      <td>fraud_Lind-Buckridge</td>\n",
              "      <td>entertainment</td>\n",
              "      <td>220.110000</td>\n",
              "      <td>Edward</td>\n",
              "      <td>Sanchez</td>\n",
              "      <td>M</td>\n",
              "      <td>594 White Dale Suite 530</td>\n",
              "      <td>Malad City</td>\n",
              "      <td>ID</td>\n",
              "      <td>83252</td>\n",
              "      <td>42.180800</td>\n",
              "      <td>-112.262000</td>\n",
              "      <td>4154</td>\n",
              "      <td>Nature conservation officer</td>\n",
              "      <td>1962-01-19</td>\n",
              "      <td>a1a22d70485983eac12b5b88dad1cf95</td>\n",
              "      <td>1325376051</td>\n",
              "      <td>43.150704</td>\n",
              "      <td>-112.154481</td>\n",
              "      <td>0</td>\n",
              "      <td>57.000000</td>\n",
              "      <td>Tuesday</td>\n",
              "      <td>January</td>\n",
              "      <td>2019-01</td>\n",
              "      <td>0</td>\n",
              "      <td>1</td>\n",
              "      <td>2019</td>\n",
              "      <td>1</td>\n",
              "      <td>108.206083</td>\n",
              "      <td>0.000000</td>\n",
              "      <td>1.000000</td>\n",
              "      <td>5.000000</td>\n",
              "      <td>307.000000</td>\n",
              "    </tr>\n",
              "    <tr>\n",
              "      <th>3</th>\n",
              "      <td>2019-01-01 00:01:16</td>\n",
              "      <td>3534093764340240</td>\n",
              "      <td>fraud_Kutch, Hermiston and Farrell</td>\n",
              "      <td>gas_transport</td>\n",
              "      <td>45.000000</td>\n",
              "      <td>Jeremy</td>\n",
              "      <td>White</td>\n",
              "      <td>M</td>\n",
              "      <td>9443 Cynthia Court Apt. 038</td>\n",
              "      <td>Boulder</td>\n",
              "      <td>MT</td>\n",
              "      <td>59632</td>\n",
              "      <td>46.230600</td>\n",
              "      <td>-112.113800</td>\n",
              "      <td>1939</td>\n",
              "      <td>Patent attorney</td>\n",
              "      <td>1967-01-12</td>\n",
              "      <td>6b849c168bdad6f867558c3793159a81</td>\n",
              "      <td>1325376076</td>\n",
              "      <td>47.034331</td>\n",
              "      <td>-112.561071</td>\n",
              "      <td>0</td>\n",
              "      <td>52.000000</td>\n",
              "      <td>Tuesday</td>\n",
              "      <td>January</td>\n",
              "      <td>2019-01</td>\n",
              "      <td>0</td>\n",
              "      <td>1</td>\n",
              "      <td>2019</td>\n",
              "      <td>1</td>\n",
              "      <td>95.673231</td>\n",
              "      <td>2.000000</td>\n",
              "      <td>1.000000</td>\n",
              "      <td>5.000000</td>\n",
              "      <td>328.000000</td>\n",
              "    </tr>\n",
              "    <tr>\n",
              "      <th>4</th>\n",
              "      <td>2019-01-01 00:03:06</td>\n",
              "      <td>375534208663984</td>\n",
              "      <td>fraud_Keeling-Crist</td>\n",
              "      <td>misc_pos</td>\n",
              "      <td>41.960000</td>\n",
              "      <td>Tyler</td>\n",
              "      <td>Garcia</td>\n",
              "      <td>M</td>\n",
              "      <td>408 Bradley Rest</td>\n",
              "      <td>Doe Hill</td>\n",
              "      <td>VA</td>\n",
              "      <td>24433</td>\n",
              "      <td>38.420700</td>\n",
              "      <td>-79.462900</td>\n",
              "      <td>99</td>\n",
              "      <td>Dance movement psychotherapist</td>\n",
              "      <td>1986-03-28</td>\n",
              "      <td>a41d7549acf90789359a9aa5346dcb46</td>\n",
              "      <td>1325376186</td>\n",
              "      <td>38.674999</td>\n",
              "      <td>-78.632459</td>\n",
              "      <td>0</td>\n",
              "      <td>33.000000</td>\n",
              "      <td>Tuesday</td>\n",
              "      <td>January</td>\n",
              "      <td>2019-01</td>\n",
              "      <td>0</td>\n",
              "      <td>1</td>\n",
              "      <td>2019</td>\n",
              "      <td>1</td>\n",
              "      <td>77.556744</td>\n",
              "      <td>9.000000</td>\n",
              "      <td>1.000000</td>\n",
              "      <td>5.000000</td>\n",
              "      <td>116.000000</td>\n",
              "    </tr>\n",
              "  </tbody>\n",
              "</table>\n",
              "</div>\n",
              "      <button class=\"colab-df-convert\" onclick=\"convertToInteractive('df-00f2476d-18ab-4cce-9acd-d2cdfbca0f53')\"\n",
              "              title=\"Convert this dataframe to an interactive table.\"\n",
              "              style=\"display:none;\">\n",
              "        \n",
              "  <svg xmlns=\"http://www.w3.org/2000/svg\" height=\"24px\"viewBox=\"0 0 24 24\"\n",
              "       width=\"24px\">\n",
              "    <path d=\"M0 0h24v24H0V0z\" fill=\"none\"/>\n",
              "    <path d=\"M18.56 5.44l.94 2.06.94-2.06 2.06-.94-2.06-.94-.94-2.06-.94 2.06-2.06.94zm-11 1L8.5 8.5l.94-2.06 2.06-.94-2.06-.94L8.5 2.5l-.94 2.06-2.06.94zm10 10l.94 2.06.94-2.06 2.06-.94-2.06-.94-.94-2.06-.94 2.06-2.06.94z\"/><path d=\"M17.41 7.96l-1.37-1.37c-.4-.4-.92-.59-1.43-.59-.52 0-1.04.2-1.43.59L10.3 9.45l-7.72 7.72c-.78.78-.78 2.05 0 2.83L4 21.41c.39.39.9.59 1.41.59.51 0 1.02-.2 1.41-.59l7.78-7.78 2.81-2.81c.8-.78.8-2.07 0-2.86zM5.41 20L4 18.59l7.72-7.72 1.47 1.35L5.41 20z\"/>\n",
              "  </svg>\n",
              "      </button>\n",
              "      \n",
              "  <style>\n",
              "    .colab-df-container {\n",
              "      display:flex;\n",
              "      flex-wrap:wrap;\n",
              "      gap: 12px;\n",
              "    }\n",
              "\n",
              "    .colab-df-convert {\n",
              "      background-color: #E8F0FE;\n",
              "      border: none;\n",
              "      border-radius: 50%;\n",
              "      cursor: pointer;\n",
              "      display: none;\n",
              "      fill: #1967D2;\n",
              "      height: 32px;\n",
              "      padding: 0 0 0 0;\n",
              "      width: 32px;\n",
              "    }\n",
              "\n",
              "    .colab-df-convert:hover {\n",
              "      background-color: #E2EBFA;\n",
              "      box-shadow: 0px 1px 2px rgba(60, 64, 67, 0.3), 0px 1px 3px 1px rgba(60, 64, 67, 0.15);\n",
              "      fill: #174EA6;\n",
              "    }\n",
              "\n",
              "    [theme=dark] .colab-df-convert {\n",
              "      background-color: #3B4455;\n",
              "      fill: #D2E3FC;\n",
              "    }\n",
              "\n",
              "    [theme=dark] .colab-df-convert:hover {\n",
              "      background-color: #434B5C;\n",
              "      box-shadow: 0px 1px 3px 1px rgba(0, 0, 0, 0.15);\n",
              "      filter: drop-shadow(0px 1px 2px rgba(0, 0, 0, 0.3));\n",
              "      fill: #FFFFFF;\n",
              "    }\n",
              "  </style>\n",
              "\n",
              "      <script>\n",
              "        const buttonEl =\n",
              "          document.querySelector('#df-00f2476d-18ab-4cce-9acd-d2cdfbca0f53 button.colab-df-convert');\n",
              "        buttonEl.style.display =\n",
              "          google.colab.kernel.accessAllowed ? 'block' : 'none';\n",
              "\n",
              "        async function convertToInteractive(key) {\n",
              "          const element = document.querySelector('#df-00f2476d-18ab-4cce-9acd-d2cdfbca0f53');\n",
              "          const dataTable =\n",
              "            await google.colab.kernel.invokeFunction('convertToInteractive',\n",
              "                                                     [key], {});\n",
              "          if (!dataTable) return;\n",
              "\n",
              "          const docLinkHtml = 'Like what you see? Visit the ' +\n",
              "            '<a target=\"_blank\" href=https://colab.research.google.com/notebooks/data_table.ipynb>data table notebook</a>'\n",
              "            + ' to learn more about interactive tables.';\n",
              "          element.innerHTML = '';\n",
              "          dataTable['output_type'] = 'display_data';\n",
              "          await google.colab.output.renderOutput(dataTable, element);\n",
              "          const docLink = document.createElement('div');\n",
              "          docLink.innerHTML = docLinkHtml;\n",
              "          element.appendChild(docLink);\n",
              "        }\n",
              "      </script>\n",
              "    </div>\n",
              "  </div>\n",
              "  "
            ],
            "text/plain": [
              "  trans_date_trans_time            cc_num                            merchant  \\\n",
              "0   2019-01-01 00:00:18  2703186189652095          fraud_Rippin, Kub and Mann   \n",
              "1   2019-01-01 00:00:44      630423337322     fraud_Heller, Gutmann and Zieme   \n",
              "2   2019-01-01 00:00:51    38859492057661                fraud_Lind-Buckridge   \n",
              "3   2019-01-01 00:01:16  3534093764340240  fraud_Kutch, Hermiston and Farrell   \n",
              "4   2019-01-01 00:03:06   375534208663984                 fraud_Keeling-Crist   \n",
              "\n",
              "        category        amt      first     last gender  \\\n",
              "0       misc_net   4.970000   Jennifer    Banks      F   \n",
              "1    grocery_pos 107.230000  Stephanie     Gill      F   \n",
              "2  entertainment 220.110000     Edward  Sanchez      M   \n",
              "3  gas_transport  45.000000     Jeremy    White      M   \n",
              "4       misc_pos  41.960000      Tyler   Garcia      M   \n",
              "\n",
              "                         street            city state    zip       lat  \\\n",
              "0                561 Perry Cove  Moravian Falls    NC  28654 36.078800   \n",
              "1  43039 Riley Greens Suite 393          Orient    WA  99160 48.887800   \n",
              "2      594 White Dale Suite 530      Malad City    ID  83252 42.180800   \n",
              "3   9443 Cynthia Court Apt. 038         Boulder    MT  59632 46.230600   \n",
              "4              408 Bradley Rest        Doe Hill    VA  24433 38.420700   \n",
              "\n",
              "         long  city_pop                                job        dob  \\\n",
              "0  -81.178100      3495          Psychologist, counselling 1988-03-09   \n",
              "1 -118.210500       149  Special educational needs teacher 1978-06-21   \n",
              "2 -112.262000      4154        Nature conservation officer 1962-01-19   \n",
              "3 -112.113800      1939                    Patent attorney 1967-01-12   \n",
              "4  -79.462900        99     Dance movement psychotherapist 1986-03-28   \n",
              "\n",
              "                          trans_num   unix_time  merch_lat  merch_long  \\\n",
              "0  0b242abb623afc578575680df30655b9  1325376018  36.011293  -82.048315   \n",
              "1  1f76529f8574734946361c461b024d99  1325376044  49.159047 -118.186462   \n",
              "2  a1a22d70485983eac12b5b88dad1cf95  1325376051  43.150704 -112.154481   \n",
              "3  6b849c168bdad6f867558c3793159a81  1325376076  47.034331 -112.561071   \n",
              "4  a41d7549acf90789359a9aa5346dcb46  1325376186  38.674999  -78.632459   \n",
              "\n",
              "   is_fraud       age trans_day trans_month trans_year_month  trans_hour  \\\n",
              "0         0 31.000000   Tuesday     January          2019-01           0   \n",
              "1         0 41.000000   Tuesday     January          2019-01           0   \n",
              "2         0 57.000000   Tuesday     January          2019-01           0   \n",
              "3         0 52.000000   Tuesday     January          2019-01           0   \n",
              "4         0 33.000000   Tuesday     January          2019-01           0   \n",
              "\n",
              "   trans_dayN  trans_yearN  trans_monthN   distance  categoryE  genderE  \\\n",
              "0           1         2019             1  78.597568   8.000000 0.000000   \n",
              "1           1         2019             1  30.212176   4.000000 0.000000   \n",
              "2           1         2019             1 108.206083   0.000000 1.000000   \n",
              "3           1         2019             1  95.673231   2.000000 1.000000   \n",
              "4           1         2019             1  77.556744   9.000000 1.000000   \n",
              "\n",
              "   trans_dayE       jobE  \n",
              "0    5.000000 370.000000  \n",
              "1    5.000000 428.000000  \n",
              "2    5.000000 307.000000  \n",
              "3    5.000000 328.000000  \n",
              "4    5.000000 116.000000  "
            ]
          },
          "metadata": {},
          "execution_count": 49
        }
      ],
      "source": [
        "df_train.head()"
      ]
    },
    {
      "cell_type": "code",
      "execution_count": null,
      "metadata": {
        "id": "T4MSOo30RL_o"
      },
      "outputs": [],
      "source": [
        "#One hot encoding\n",
        "#category_onehot = pd.get_dummies(df_train.category, prefix='category', drop_first=True)\n",
        "#gender_onehot = pd.get_dummies(df_train.gender, prefix='gender', drop_first=True)\n",
        "#trans_day_onehot = pd.get_dummies(df_train.trans_day, prefix='week',drop_first=True)\n",
        "\n",
        "#df = pd.concat([df_train, category_onehot,gender_onehot,trans_day_onehot, trans_month_onehot], axis=1)"
      ]
    },
    {
      "cell_type": "code",
      "execution_count": null,
      "metadata": {
        "id": "AnHETS5g4ASn"
      },
      "outputs": [],
      "source": [
        "df = copy.deepcopy(df_train)\n",
        "df_T = copy.deepcopy(df_test)"
      ]
    },
    {
      "cell_type": "code",
      "execution_count": null,
      "metadata": {
        "colab": {
          "base_uri": "https://localhost:8080/",
          "height": 548
        },
        "id": "3dAqqxku4uu4",
        "outputId": "eb914c17-60cd-4705-ed47-abc476a58359"
      },
      "outputs": [
        {
          "output_type": "execute_result",
          "data": {
            "text/html": [
              "\n",
              "  <div id=\"df-fc53374c-0c1e-4f2c-b3ea-99256f9d2459\">\n",
              "    <div class=\"colab-df-container\">\n",
              "      <div>\n",
              "<style scoped>\n",
              "    .dataframe tbody tr th:only-of-type {\n",
              "        vertical-align: middle;\n",
              "    }\n",
              "\n",
              "    .dataframe tbody tr th {\n",
              "        vertical-align: top;\n",
              "    }\n",
              "\n",
              "    .dataframe thead th {\n",
              "        text-align: right;\n",
              "    }\n",
              "</style>\n",
              "<table border=\"1\" class=\"dataframe\">\n",
              "  <thead>\n",
              "    <tr style=\"text-align: right;\">\n",
              "      <th></th>\n",
              "      <th>trans_date_trans_time</th>\n",
              "      <th>cc_num</th>\n",
              "      <th>merchant</th>\n",
              "      <th>category</th>\n",
              "      <th>amt</th>\n",
              "      <th>first</th>\n",
              "      <th>last</th>\n",
              "      <th>gender</th>\n",
              "      <th>street</th>\n",
              "      <th>city</th>\n",
              "      <th>state</th>\n",
              "      <th>zip</th>\n",
              "      <th>lat</th>\n",
              "      <th>long</th>\n",
              "      <th>city_pop</th>\n",
              "      <th>job</th>\n",
              "      <th>dob</th>\n",
              "      <th>trans_num</th>\n",
              "      <th>unix_time</th>\n",
              "      <th>merch_lat</th>\n",
              "      <th>merch_long</th>\n",
              "      <th>is_fraud</th>\n",
              "      <th>age</th>\n",
              "      <th>trans_day</th>\n",
              "      <th>trans_month</th>\n",
              "      <th>trans_year_month</th>\n",
              "      <th>trans_hour</th>\n",
              "      <th>trans_dayN</th>\n",
              "      <th>trans_yearN</th>\n",
              "      <th>trans_monthN</th>\n",
              "      <th>distance</th>\n",
              "      <th>categoryE</th>\n",
              "      <th>genderE</th>\n",
              "      <th>trans_dayE</th>\n",
              "      <th>jobE</th>\n",
              "    </tr>\n",
              "  </thead>\n",
              "  <tbody>\n",
              "    <tr>\n",
              "      <th>0</th>\n",
              "      <td>2019-01-01 00:00:18</td>\n",
              "      <td>2703186189652095</td>\n",
              "      <td>fraud_Rippin, Kub and Mann</td>\n",
              "      <td>misc_net</td>\n",
              "      <td>4.970000</td>\n",
              "      <td>Jennifer</td>\n",
              "      <td>Banks</td>\n",
              "      <td>F</td>\n",
              "      <td>561 Perry Cove</td>\n",
              "      <td>Moravian Falls</td>\n",
              "      <td>NC</td>\n",
              "      <td>28654</td>\n",
              "      <td>36.078800</td>\n",
              "      <td>-81.178100</td>\n",
              "      <td>3495</td>\n",
              "      <td>Psychologist, counselling</td>\n",
              "      <td>1988-03-09</td>\n",
              "      <td>0b242abb623afc578575680df30655b9</td>\n",
              "      <td>1325376018</td>\n",
              "      <td>36.011293</td>\n",
              "      <td>-82.048315</td>\n",
              "      <td>0</td>\n",
              "      <td>31.000000</td>\n",
              "      <td>Tuesday</td>\n",
              "      <td>January</td>\n",
              "      <td>2019-01</td>\n",
              "      <td>0</td>\n",
              "      <td>1</td>\n",
              "      <td>2019</td>\n",
              "      <td>1</td>\n",
              "      <td>78.597568</td>\n",
              "      <td>8.000000</td>\n",
              "      <td>0.000000</td>\n",
              "      <td>5.000000</td>\n",
              "      <td>370.000000</td>\n",
              "    </tr>\n",
              "    <tr>\n",
              "      <th>1</th>\n",
              "      <td>2019-01-01 00:00:44</td>\n",
              "      <td>630423337322</td>\n",
              "      <td>fraud_Heller, Gutmann and Zieme</td>\n",
              "      <td>grocery_pos</td>\n",
              "      <td>107.230000</td>\n",
              "      <td>Stephanie</td>\n",
              "      <td>Gill</td>\n",
              "      <td>F</td>\n",
              "      <td>43039 Riley Greens Suite 393</td>\n",
              "      <td>Orient</td>\n",
              "      <td>WA</td>\n",
              "      <td>99160</td>\n",
              "      <td>48.887800</td>\n",
              "      <td>-118.210500</td>\n",
              "      <td>149</td>\n",
              "      <td>Special educational needs teacher</td>\n",
              "      <td>1978-06-21</td>\n",
              "      <td>1f76529f8574734946361c461b024d99</td>\n",
              "      <td>1325376044</td>\n",
              "      <td>49.159047</td>\n",
              "      <td>-118.186462</td>\n",
              "      <td>0</td>\n",
              "      <td>41.000000</td>\n",
              "      <td>Tuesday</td>\n",
              "      <td>January</td>\n",
              "      <td>2019-01</td>\n",
              "      <td>0</td>\n",
              "      <td>1</td>\n",
              "      <td>2019</td>\n",
              "      <td>1</td>\n",
              "      <td>30.212176</td>\n",
              "      <td>4.000000</td>\n",
              "      <td>0.000000</td>\n",
              "      <td>5.000000</td>\n",
              "      <td>428.000000</td>\n",
              "    </tr>\n",
              "    <tr>\n",
              "      <th>2</th>\n",
              "      <td>2019-01-01 00:00:51</td>\n",
              "      <td>38859492057661</td>\n",
              "      <td>fraud_Lind-Buckridge</td>\n",
              "      <td>entertainment</td>\n",
              "      <td>220.110000</td>\n",
              "      <td>Edward</td>\n",
              "      <td>Sanchez</td>\n",
              "      <td>M</td>\n",
              "      <td>594 White Dale Suite 530</td>\n",
              "      <td>Malad City</td>\n",
              "      <td>ID</td>\n",
              "      <td>83252</td>\n",
              "      <td>42.180800</td>\n",
              "      <td>-112.262000</td>\n",
              "      <td>4154</td>\n",
              "      <td>Nature conservation officer</td>\n",
              "      <td>1962-01-19</td>\n",
              "      <td>a1a22d70485983eac12b5b88dad1cf95</td>\n",
              "      <td>1325376051</td>\n",
              "      <td>43.150704</td>\n",
              "      <td>-112.154481</td>\n",
              "      <td>0</td>\n",
              "      <td>57.000000</td>\n",
              "      <td>Tuesday</td>\n",
              "      <td>January</td>\n",
              "      <td>2019-01</td>\n",
              "      <td>0</td>\n",
              "      <td>1</td>\n",
              "      <td>2019</td>\n",
              "      <td>1</td>\n",
              "      <td>108.206083</td>\n",
              "      <td>0.000000</td>\n",
              "      <td>1.000000</td>\n",
              "      <td>5.000000</td>\n",
              "      <td>307.000000</td>\n",
              "    </tr>\n",
              "    <tr>\n",
              "      <th>3</th>\n",
              "      <td>2019-01-01 00:01:16</td>\n",
              "      <td>3534093764340240</td>\n",
              "      <td>fraud_Kutch, Hermiston and Farrell</td>\n",
              "      <td>gas_transport</td>\n",
              "      <td>45.000000</td>\n",
              "      <td>Jeremy</td>\n",
              "      <td>White</td>\n",
              "      <td>M</td>\n",
              "      <td>9443 Cynthia Court Apt. 038</td>\n",
              "      <td>Boulder</td>\n",
              "      <td>MT</td>\n",
              "      <td>59632</td>\n",
              "      <td>46.230600</td>\n",
              "      <td>-112.113800</td>\n",
              "      <td>1939</td>\n",
              "      <td>Patent attorney</td>\n",
              "      <td>1967-01-12</td>\n",
              "      <td>6b849c168bdad6f867558c3793159a81</td>\n",
              "      <td>1325376076</td>\n",
              "      <td>47.034331</td>\n",
              "      <td>-112.561071</td>\n",
              "      <td>0</td>\n",
              "      <td>52.000000</td>\n",
              "      <td>Tuesday</td>\n",
              "      <td>January</td>\n",
              "      <td>2019-01</td>\n",
              "      <td>0</td>\n",
              "      <td>1</td>\n",
              "      <td>2019</td>\n",
              "      <td>1</td>\n",
              "      <td>95.673231</td>\n",
              "      <td>2.000000</td>\n",
              "      <td>1.000000</td>\n",
              "      <td>5.000000</td>\n",
              "      <td>328.000000</td>\n",
              "    </tr>\n",
              "    <tr>\n",
              "      <th>4</th>\n",
              "      <td>2019-01-01 00:03:06</td>\n",
              "      <td>375534208663984</td>\n",
              "      <td>fraud_Keeling-Crist</td>\n",
              "      <td>misc_pos</td>\n",
              "      <td>41.960000</td>\n",
              "      <td>Tyler</td>\n",
              "      <td>Garcia</td>\n",
              "      <td>M</td>\n",
              "      <td>408 Bradley Rest</td>\n",
              "      <td>Doe Hill</td>\n",
              "      <td>VA</td>\n",
              "      <td>24433</td>\n",
              "      <td>38.420700</td>\n",
              "      <td>-79.462900</td>\n",
              "      <td>99</td>\n",
              "      <td>Dance movement psychotherapist</td>\n",
              "      <td>1986-03-28</td>\n",
              "      <td>a41d7549acf90789359a9aa5346dcb46</td>\n",
              "      <td>1325376186</td>\n",
              "      <td>38.674999</td>\n",
              "      <td>-78.632459</td>\n",
              "      <td>0</td>\n",
              "      <td>33.000000</td>\n",
              "      <td>Tuesday</td>\n",
              "      <td>January</td>\n",
              "      <td>2019-01</td>\n",
              "      <td>0</td>\n",
              "      <td>1</td>\n",
              "      <td>2019</td>\n",
              "      <td>1</td>\n",
              "      <td>77.556744</td>\n",
              "      <td>9.000000</td>\n",
              "      <td>1.000000</td>\n",
              "      <td>5.000000</td>\n",
              "      <td>116.000000</td>\n",
              "    </tr>\n",
              "  </tbody>\n",
              "</table>\n",
              "</div>\n",
              "      <button class=\"colab-df-convert\" onclick=\"convertToInteractive('df-fc53374c-0c1e-4f2c-b3ea-99256f9d2459')\"\n",
              "              title=\"Convert this dataframe to an interactive table.\"\n",
              "              style=\"display:none;\">\n",
              "        \n",
              "  <svg xmlns=\"http://www.w3.org/2000/svg\" height=\"24px\"viewBox=\"0 0 24 24\"\n",
              "       width=\"24px\">\n",
              "    <path d=\"M0 0h24v24H0V0z\" fill=\"none\"/>\n",
              "    <path d=\"M18.56 5.44l.94 2.06.94-2.06 2.06-.94-2.06-.94-.94-2.06-.94 2.06-2.06.94zm-11 1L8.5 8.5l.94-2.06 2.06-.94-2.06-.94L8.5 2.5l-.94 2.06-2.06.94zm10 10l.94 2.06.94-2.06 2.06-.94-2.06-.94-.94-2.06-.94 2.06-2.06.94z\"/><path d=\"M17.41 7.96l-1.37-1.37c-.4-.4-.92-.59-1.43-.59-.52 0-1.04.2-1.43.59L10.3 9.45l-7.72 7.72c-.78.78-.78 2.05 0 2.83L4 21.41c.39.39.9.59 1.41.59.51 0 1.02-.2 1.41-.59l7.78-7.78 2.81-2.81c.8-.78.8-2.07 0-2.86zM5.41 20L4 18.59l7.72-7.72 1.47 1.35L5.41 20z\"/>\n",
              "  </svg>\n",
              "      </button>\n",
              "      \n",
              "  <style>\n",
              "    .colab-df-container {\n",
              "      display:flex;\n",
              "      flex-wrap:wrap;\n",
              "      gap: 12px;\n",
              "    }\n",
              "\n",
              "    .colab-df-convert {\n",
              "      background-color: #E8F0FE;\n",
              "      border: none;\n",
              "      border-radius: 50%;\n",
              "      cursor: pointer;\n",
              "      display: none;\n",
              "      fill: #1967D2;\n",
              "      height: 32px;\n",
              "      padding: 0 0 0 0;\n",
              "      width: 32px;\n",
              "    }\n",
              "\n",
              "    .colab-df-convert:hover {\n",
              "      background-color: #E2EBFA;\n",
              "      box-shadow: 0px 1px 2px rgba(60, 64, 67, 0.3), 0px 1px 3px 1px rgba(60, 64, 67, 0.15);\n",
              "      fill: #174EA6;\n",
              "    }\n",
              "\n",
              "    [theme=dark] .colab-df-convert {\n",
              "      background-color: #3B4455;\n",
              "      fill: #D2E3FC;\n",
              "    }\n",
              "\n",
              "    [theme=dark] .colab-df-convert:hover {\n",
              "      background-color: #434B5C;\n",
              "      box-shadow: 0px 1px 3px 1px rgba(0, 0, 0, 0.15);\n",
              "      filter: drop-shadow(0px 1px 2px rgba(0, 0, 0, 0.3));\n",
              "      fill: #FFFFFF;\n",
              "    }\n",
              "  </style>\n",
              "\n",
              "      <script>\n",
              "        const buttonEl =\n",
              "          document.querySelector('#df-fc53374c-0c1e-4f2c-b3ea-99256f9d2459 button.colab-df-convert');\n",
              "        buttonEl.style.display =\n",
              "          google.colab.kernel.accessAllowed ? 'block' : 'none';\n",
              "\n",
              "        async function convertToInteractive(key) {\n",
              "          const element = document.querySelector('#df-fc53374c-0c1e-4f2c-b3ea-99256f9d2459');\n",
              "          const dataTable =\n",
              "            await google.colab.kernel.invokeFunction('convertToInteractive',\n",
              "                                                     [key], {});\n",
              "          if (!dataTable) return;\n",
              "\n",
              "          const docLinkHtml = 'Like what you see? Visit the ' +\n",
              "            '<a target=\"_blank\" href=https://colab.research.google.com/notebooks/data_table.ipynb>data table notebook</a>'\n",
              "            + ' to learn more about interactive tables.';\n",
              "          element.innerHTML = '';\n",
              "          dataTable['output_type'] = 'display_data';\n",
              "          await google.colab.output.renderOutput(dataTable, element);\n",
              "          const docLink = document.createElement('div');\n",
              "          docLink.innerHTML = docLinkHtml;\n",
              "          element.appendChild(docLink);\n",
              "        }\n",
              "      </script>\n",
              "    </div>\n",
              "  </div>\n",
              "  "
            ],
            "text/plain": [
              "  trans_date_trans_time            cc_num                            merchant  \\\n",
              "0   2019-01-01 00:00:18  2703186189652095          fraud_Rippin, Kub and Mann   \n",
              "1   2019-01-01 00:00:44      630423337322     fraud_Heller, Gutmann and Zieme   \n",
              "2   2019-01-01 00:00:51    38859492057661                fraud_Lind-Buckridge   \n",
              "3   2019-01-01 00:01:16  3534093764340240  fraud_Kutch, Hermiston and Farrell   \n",
              "4   2019-01-01 00:03:06   375534208663984                 fraud_Keeling-Crist   \n",
              "\n",
              "        category        amt      first     last gender  \\\n",
              "0       misc_net   4.970000   Jennifer    Banks      F   \n",
              "1    grocery_pos 107.230000  Stephanie     Gill      F   \n",
              "2  entertainment 220.110000     Edward  Sanchez      M   \n",
              "3  gas_transport  45.000000     Jeremy    White      M   \n",
              "4       misc_pos  41.960000      Tyler   Garcia      M   \n",
              "\n",
              "                         street            city state    zip       lat  \\\n",
              "0                561 Perry Cove  Moravian Falls    NC  28654 36.078800   \n",
              "1  43039 Riley Greens Suite 393          Orient    WA  99160 48.887800   \n",
              "2      594 White Dale Suite 530      Malad City    ID  83252 42.180800   \n",
              "3   9443 Cynthia Court Apt. 038         Boulder    MT  59632 46.230600   \n",
              "4              408 Bradley Rest        Doe Hill    VA  24433 38.420700   \n",
              "\n",
              "         long  city_pop                                job        dob  \\\n",
              "0  -81.178100      3495          Psychologist, counselling 1988-03-09   \n",
              "1 -118.210500       149  Special educational needs teacher 1978-06-21   \n",
              "2 -112.262000      4154        Nature conservation officer 1962-01-19   \n",
              "3 -112.113800      1939                    Patent attorney 1967-01-12   \n",
              "4  -79.462900        99     Dance movement psychotherapist 1986-03-28   \n",
              "\n",
              "                          trans_num   unix_time  merch_lat  merch_long  \\\n",
              "0  0b242abb623afc578575680df30655b9  1325376018  36.011293  -82.048315   \n",
              "1  1f76529f8574734946361c461b024d99  1325376044  49.159047 -118.186462   \n",
              "2  a1a22d70485983eac12b5b88dad1cf95  1325376051  43.150704 -112.154481   \n",
              "3  6b849c168bdad6f867558c3793159a81  1325376076  47.034331 -112.561071   \n",
              "4  a41d7549acf90789359a9aa5346dcb46  1325376186  38.674999  -78.632459   \n",
              "\n",
              "   is_fraud       age trans_day trans_month trans_year_month  trans_hour  \\\n",
              "0         0 31.000000   Tuesday     January          2019-01           0   \n",
              "1         0 41.000000   Tuesday     January          2019-01           0   \n",
              "2         0 57.000000   Tuesday     January          2019-01           0   \n",
              "3         0 52.000000   Tuesday     January          2019-01           0   \n",
              "4         0 33.000000   Tuesday     January          2019-01           0   \n",
              "\n",
              "   trans_dayN  trans_yearN  trans_monthN   distance  categoryE  genderE  \\\n",
              "0           1         2019             1  78.597568   8.000000 0.000000   \n",
              "1           1         2019             1  30.212176   4.000000 0.000000   \n",
              "2           1         2019             1 108.206083   0.000000 1.000000   \n",
              "3           1         2019             1  95.673231   2.000000 1.000000   \n",
              "4           1         2019             1  77.556744   9.000000 1.000000   \n",
              "\n",
              "   trans_dayE       jobE  \n",
              "0    5.000000 370.000000  \n",
              "1    5.000000 428.000000  \n",
              "2    5.000000 307.000000  \n",
              "3    5.000000 328.000000  \n",
              "4    5.000000 116.000000  "
            ]
          },
          "metadata": {},
          "execution_count": 52
        }
      ],
      "source": [
        "df.head()"
      ]
    },
    {
      "cell_type": "code",
      "execution_count": null,
      "metadata": {
        "id": "PFdT0SJTUiAr"
      },
      "outputs": [],
      "source": [
        "dropped_cols = ['trans_date_trans_time', 'cc_num','merchant', 'category', 'first', 'last', 'gender', 'street', 'city', 'state', 'job', 'dob', 'trans_num', 'trans_day', 'trans_month', 'trans_year_month']\n",
        "df.drop(dropped_cols,inplace=True,axis=1)\n",
        "\n",
        "####### Test #########\n",
        "df_T.drop(dropped_cols,inplace=True,axis=1)"
      ]
    },
    {
      "cell_type": "code",
      "execution_count": null,
      "metadata": {
        "colab": {
          "base_uri": "https://localhost:8080/",
          "height": 270
        },
        "id": "hr_ouosYSY66",
        "outputId": "f0536435-fb9b-4817-d555-4e6bb4e19a2f"
      },
      "outputs": [
        {
          "output_type": "execute_result",
          "data": {
            "text/html": [
              "\n",
              "  <div id=\"df-004e4240-108d-4342-8364-294c8a74546e\">\n",
              "    <div class=\"colab-df-container\">\n",
              "      <div>\n",
              "<style scoped>\n",
              "    .dataframe tbody tr th:only-of-type {\n",
              "        vertical-align: middle;\n",
              "    }\n",
              "\n",
              "    .dataframe tbody tr th {\n",
              "        vertical-align: top;\n",
              "    }\n",
              "\n",
              "    .dataframe thead th {\n",
              "        text-align: right;\n",
              "    }\n",
              "</style>\n",
              "<table border=\"1\" class=\"dataframe\">\n",
              "  <thead>\n",
              "    <tr style=\"text-align: right;\">\n",
              "      <th></th>\n",
              "      <th>amt</th>\n",
              "      <th>zip</th>\n",
              "      <th>lat</th>\n",
              "      <th>long</th>\n",
              "      <th>city_pop</th>\n",
              "      <th>unix_time</th>\n",
              "      <th>merch_lat</th>\n",
              "      <th>merch_long</th>\n",
              "      <th>is_fraud</th>\n",
              "      <th>age</th>\n",
              "      <th>trans_hour</th>\n",
              "      <th>trans_dayN</th>\n",
              "      <th>trans_yearN</th>\n",
              "      <th>trans_monthN</th>\n",
              "      <th>distance</th>\n",
              "      <th>categoryE</th>\n",
              "      <th>genderE</th>\n",
              "      <th>trans_dayE</th>\n",
              "      <th>jobE</th>\n",
              "    </tr>\n",
              "  </thead>\n",
              "  <tbody>\n",
              "    <tr>\n",
              "      <th>0</th>\n",
              "      <td>4.970000</td>\n",
              "      <td>28654</td>\n",
              "      <td>36.078800</td>\n",
              "      <td>-81.178100</td>\n",
              "      <td>3495</td>\n",
              "      <td>1325376018</td>\n",
              "      <td>36.011293</td>\n",
              "      <td>-82.048315</td>\n",
              "      <td>0</td>\n",
              "      <td>31.000000</td>\n",
              "      <td>0</td>\n",
              "      <td>1</td>\n",
              "      <td>2019</td>\n",
              "      <td>1</td>\n",
              "      <td>78.597568</td>\n",
              "      <td>8.000000</td>\n",
              "      <td>0.000000</td>\n",
              "      <td>5.000000</td>\n",
              "      <td>370.000000</td>\n",
              "    </tr>\n",
              "    <tr>\n",
              "      <th>1</th>\n",
              "      <td>107.230000</td>\n",
              "      <td>99160</td>\n",
              "      <td>48.887800</td>\n",
              "      <td>-118.210500</td>\n",
              "      <td>149</td>\n",
              "      <td>1325376044</td>\n",
              "      <td>49.159047</td>\n",
              "      <td>-118.186462</td>\n",
              "      <td>0</td>\n",
              "      <td>41.000000</td>\n",
              "      <td>0</td>\n",
              "      <td>1</td>\n",
              "      <td>2019</td>\n",
              "      <td>1</td>\n",
              "      <td>30.212176</td>\n",
              "      <td>4.000000</td>\n",
              "      <td>0.000000</td>\n",
              "      <td>5.000000</td>\n",
              "      <td>428.000000</td>\n",
              "    </tr>\n",
              "    <tr>\n",
              "      <th>2</th>\n",
              "      <td>220.110000</td>\n",
              "      <td>83252</td>\n",
              "      <td>42.180800</td>\n",
              "      <td>-112.262000</td>\n",
              "      <td>4154</td>\n",
              "      <td>1325376051</td>\n",
              "      <td>43.150704</td>\n",
              "      <td>-112.154481</td>\n",
              "      <td>0</td>\n",
              "      <td>57.000000</td>\n",
              "      <td>0</td>\n",
              "      <td>1</td>\n",
              "      <td>2019</td>\n",
              "      <td>1</td>\n",
              "      <td>108.206083</td>\n",
              "      <td>0.000000</td>\n",
              "      <td>1.000000</td>\n",
              "      <td>5.000000</td>\n",
              "      <td>307.000000</td>\n",
              "    </tr>\n",
              "    <tr>\n",
              "      <th>3</th>\n",
              "      <td>45.000000</td>\n",
              "      <td>59632</td>\n",
              "      <td>46.230600</td>\n",
              "      <td>-112.113800</td>\n",
              "      <td>1939</td>\n",
              "      <td>1325376076</td>\n",
              "      <td>47.034331</td>\n",
              "      <td>-112.561071</td>\n",
              "      <td>0</td>\n",
              "      <td>52.000000</td>\n",
              "      <td>0</td>\n",
              "      <td>1</td>\n",
              "      <td>2019</td>\n",
              "      <td>1</td>\n",
              "      <td>95.673231</td>\n",
              "      <td>2.000000</td>\n",
              "      <td>1.000000</td>\n",
              "      <td>5.000000</td>\n",
              "      <td>328.000000</td>\n",
              "    </tr>\n",
              "    <tr>\n",
              "      <th>4</th>\n",
              "      <td>41.960000</td>\n",
              "      <td>24433</td>\n",
              "      <td>38.420700</td>\n",
              "      <td>-79.462900</td>\n",
              "      <td>99</td>\n",
              "      <td>1325376186</td>\n",
              "      <td>38.674999</td>\n",
              "      <td>-78.632459</td>\n",
              "      <td>0</td>\n",
              "      <td>33.000000</td>\n",
              "      <td>0</td>\n",
              "      <td>1</td>\n",
              "      <td>2019</td>\n",
              "      <td>1</td>\n",
              "      <td>77.556744</td>\n",
              "      <td>9.000000</td>\n",
              "      <td>1.000000</td>\n",
              "      <td>5.000000</td>\n",
              "      <td>116.000000</td>\n",
              "    </tr>\n",
              "  </tbody>\n",
              "</table>\n",
              "</div>\n",
              "      <button class=\"colab-df-convert\" onclick=\"convertToInteractive('df-004e4240-108d-4342-8364-294c8a74546e')\"\n",
              "              title=\"Convert this dataframe to an interactive table.\"\n",
              "              style=\"display:none;\">\n",
              "        \n",
              "  <svg xmlns=\"http://www.w3.org/2000/svg\" height=\"24px\"viewBox=\"0 0 24 24\"\n",
              "       width=\"24px\">\n",
              "    <path d=\"M0 0h24v24H0V0z\" fill=\"none\"/>\n",
              "    <path d=\"M18.56 5.44l.94 2.06.94-2.06 2.06-.94-2.06-.94-.94-2.06-.94 2.06-2.06.94zm-11 1L8.5 8.5l.94-2.06 2.06-.94-2.06-.94L8.5 2.5l-.94 2.06-2.06.94zm10 10l.94 2.06.94-2.06 2.06-.94-2.06-.94-.94-2.06-.94 2.06-2.06.94z\"/><path d=\"M17.41 7.96l-1.37-1.37c-.4-.4-.92-.59-1.43-.59-.52 0-1.04.2-1.43.59L10.3 9.45l-7.72 7.72c-.78.78-.78 2.05 0 2.83L4 21.41c.39.39.9.59 1.41.59.51 0 1.02-.2 1.41-.59l7.78-7.78 2.81-2.81c.8-.78.8-2.07 0-2.86zM5.41 20L4 18.59l7.72-7.72 1.47 1.35L5.41 20z\"/>\n",
              "  </svg>\n",
              "      </button>\n",
              "      \n",
              "  <style>\n",
              "    .colab-df-container {\n",
              "      display:flex;\n",
              "      flex-wrap:wrap;\n",
              "      gap: 12px;\n",
              "    }\n",
              "\n",
              "    .colab-df-convert {\n",
              "      background-color: #E8F0FE;\n",
              "      border: none;\n",
              "      border-radius: 50%;\n",
              "      cursor: pointer;\n",
              "      display: none;\n",
              "      fill: #1967D2;\n",
              "      height: 32px;\n",
              "      padding: 0 0 0 0;\n",
              "      width: 32px;\n",
              "    }\n",
              "\n",
              "    .colab-df-convert:hover {\n",
              "      background-color: #E2EBFA;\n",
              "      box-shadow: 0px 1px 2px rgba(60, 64, 67, 0.3), 0px 1px 3px 1px rgba(60, 64, 67, 0.15);\n",
              "      fill: #174EA6;\n",
              "    }\n",
              "\n",
              "    [theme=dark] .colab-df-convert {\n",
              "      background-color: #3B4455;\n",
              "      fill: #D2E3FC;\n",
              "    }\n",
              "\n",
              "    [theme=dark] .colab-df-convert:hover {\n",
              "      background-color: #434B5C;\n",
              "      box-shadow: 0px 1px 3px 1px rgba(0, 0, 0, 0.15);\n",
              "      filter: drop-shadow(0px 1px 2px rgba(0, 0, 0, 0.3));\n",
              "      fill: #FFFFFF;\n",
              "    }\n",
              "  </style>\n",
              "\n",
              "      <script>\n",
              "        const buttonEl =\n",
              "          document.querySelector('#df-004e4240-108d-4342-8364-294c8a74546e button.colab-df-convert');\n",
              "        buttonEl.style.display =\n",
              "          google.colab.kernel.accessAllowed ? 'block' : 'none';\n",
              "\n",
              "        async function convertToInteractive(key) {\n",
              "          const element = document.querySelector('#df-004e4240-108d-4342-8364-294c8a74546e');\n",
              "          const dataTable =\n",
              "            await google.colab.kernel.invokeFunction('convertToInteractive',\n",
              "                                                     [key], {});\n",
              "          if (!dataTable) return;\n",
              "\n",
              "          const docLinkHtml = 'Like what you see? Visit the ' +\n",
              "            '<a target=\"_blank\" href=https://colab.research.google.com/notebooks/data_table.ipynb>data table notebook</a>'\n",
              "            + ' to learn more about interactive tables.';\n",
              "          element.innerHTML = '';\n",
              "          dataTable['output_type'] = 'display_data';\n",
              "          await google.colab.output.renderOutput(dataTable, element);\n",
              "          const docLink = document.createElement('div');\n",
              "          docLink.innerHTML = docLinkHtml;\n",
              "          element.appendChild(docLink);\n",
              "        }\n",
              "      </script>\n",
              "    </div>\n",
              "  </div>\n",
              "  "
            ],
            "text/plain": [
              "         amt    zip       lat        long  city_pop   unix_time  merch_lat  \\\n",
              "0   4.970000  28654 36.078800  -81.178100      3495  1325376018  36.011293   \n",
              "1 107.230000  99160 48.887800 -118.210500       149  1325376044  49.159047   \n",
              "2 220.110000  83252 42.180800 -112.262000      4154  1325376051  43.150704   \n",
              "3  45.000000  59632 46.230600 -112.113800      1939  1325376076  47.034331   \n",
              "4  41.960000  24433 38.420700  -79.462900        99  1325376186  38.674999   \n",
              "\n",
              "   merch_long  is_fraud       age  trans_hour  trans_dayN  trans_yearN  \\\n",
              "0  -82.048315         0 31.000000           0           1         2019   \n",
              "1 -118.186462         0 41.000000           0           1         2019   \n",
              "2 -112.154481         0 57.000000           0           1         2019   \n",
              "3 -112.561071         0 52.000000           0           1         2019   \n",
              "4  -78.632459         0 33.000000           0           1         2019   \n",
              "\n",
              "   trans_monthN   distance  categoryE  genderE  trans_dayE       jobE  \n",
              "0             1  78.597568   8.000000 0.000000    5.000000 370.000000  \n",
              "1             1  30.212176   4.000000 0.000000    5.000000 428.000000  \n",
              "2             1 108.206083   0.000000 1.000000    5.000000 307.000000  \n",
              "3             1  95.673231   2.000000 1.000000    5.000000 328.000000  \n",
              "4             1  77.556744   9.000000 1.000000    5.000000 116.000000  "
            ]
          },
          "metadata": {},
          "execution_count": 54
        }
      ],
      "source": [
        "df.head()"
      ]
    },
    {
      "cell_type": "code",
      "execution_count": null,
      "metadata": {
        "colab": {
          "base_uri": "https://localhost:8080/"
        },
        "id": "DWtnUW2Q9blK",
        "outputId": "3c57c030-becc-49bf-e289-a5179d89a39c"
      },
      "outputs": [
        {
          "output_type": "execute_result",
          "data": {
            "text/plain": [
              "amt             0.182267\n",
              "zip            -0.002271\n",
              "lat             0.005863\n",
              "long           -0.000972\n",
              "city_pop       -0.004910\n",
              "unix_time      -0.013066\n",
              "merch_lat       0.005812\n",
              "merch_long     -0.001060\n",
              "is_fraud        1.000000\n",
              "age             0.007452\n",
              "trans_hour      0.011686\n",
              "trans_dayN     -0.009203\n",
              "trans_yearN          nan\n",
              "trans_monthN   -0.011748\n",
              "distance        0.000233\n",
              "categoryE       0.016980\n",
              "genderE         0.000748\n",
              "trans_dayE      0.002608\n",
              "jobE           -0.005074\n",
              "Name: is_fraud, dtype: float64"
            ]
          },
          "metadata": {},
          "execution_count": 55
        }
      ],
      "source": [
        "df_T.corr()['is_fraud']"
      ]
    },
    {
      "cell_type": "code",
      "execution_count": null,
      "metadata": {
        "colab": {
          "base_uri": "https://localhost:8080/"
        },
        "id": "suMWEZPCWaPx",
        "outputId": "5d79f9bb-79a2-4fe8-a6e8-803a7dcd26ef"
      },
      "outputs": [
        {
          "output_type": "execute_result",
          "data": {
            "text/plain": [
              "(1296675, 19)"
            ]
          },
          "metadata": {},
          "execution_count": 56
        }
      ],
      "source": [
        "df.shape"
      ]
    },
    {
      "cell_type": "code",
      "execution_count": null,
      "metadata": {
        "colab": {
          "base_uri": "https://localhost:8080/"
        },
        "id": "r7obQL_OShzN",
        "outputId": "fdab2eb4-afd7-4313-aa90-638c0c0c7b73"
      },
      "outputs": [
        {
          "output_type": "execute_result",
          "data": {
            "text/plain": [
              "Index(['amt', 'zip', 'lat', 'long', 'city_pop', 'unix_time', 'merch_lat',\n",
              "       'merch_long', 'is_fraud', 'age', 'trans_hour', 'trans_dayN',\n",
              "       'trans_yearN', 'trans_monthN', 'distance', 'categoryE', 'genderE',\n",
              "       'trans_dayE', 'jobE'],\n",
              "      dtype='object')"
            ]
          },
          "metadata": {},
          "execution_count": 57
        }
      ],
      "source": [
        "df.columns"
      ]
    },
    {
      "cell_type": "code",
      "execution_count": null,
      "metadata": {
        "colab": {
          "base_uri": "https://localhost:8080/"
        },
        "id": "9ARReITT5lke",
        "outputId": "f4dac4c8-c4cf-4dc4-a39a-0ab9730aed1a"
      },
      "outputs": [
        {
          "output_type": "execute_result",
          "data": {
            "text/plain": [
              "Index(['amt', 'zip', 'lat', 'long', 'city_pop', 'unix_time', 'merch_lat',\n",
              "       'merch_long', 'is_fraud', 'age', 'trans_hour', 'trans_dayN',\n",
              "       'trans_yearN', 'trans_monthN', 'distance', 'categoryE', 'genderE',\n",
              "       'trans_dayE', 'jobE'],\n",
              "      dtype='object')"
            ]
          },
          "metadata": {},
          "execution_count": 58
        }
      ],
      "source": [
        "df_T.columns"
      ]
    },
    {
      "cell_type": "markdown",
      "metadata": {
        "id": "jwjfRpARWuy9"
      },
      "source": [
        "# Splitting Train and Test Data "
      ]
    },
    {
      "cell_type": "code",
      "execution_count": null,
      "metadata": {
        "id": "ERUSh9trWyOY"
      },
      "outputs": [],
      "source": [
        "cols = ['amt', 'zip', 'lat', 'long', 'city_pop', 'unix_time', 'merch_lat',\n",
        "       'merch_long', 'age', 'trans_hour', 'trans_dayN',\n",
        "       'trans_yearN', 'trans_monthN', 'distance', 'jobE', 'categoryE',\n",
        "       'genderE', 'trans_dayE']\n",
        "\n",
        "X = df[cols]   \n",
        "y = df['is_fraud']\n",
        "\n",
        "#split data\n",
        "X_train , X_test , y_train , y_test = train_test_split(X,y,test_size = 0.2 , random_state = 10)\n",
        "\n",
        "############ Test ##########\n",
        "X_T = df_T[cols]   \n",
        "y_T = df_T['is_fraud']"
      ]
    },
    {
      "cell_type": "code",
      "execution_count": null,
      "metadata": {
        "colab": {
          "base_uri": "https://localhost:8080/"
        },
        "id": "FWkjcGnHXc0o",
        "outputId": "8baae824-aa40-4f61-8b9d-2d995e205219"
      },
      "outputs": [
        {
          "output_type": "execute_result",
          "data": {
            "text/plain": [
              "(1296675, 18)"
            ]
          },
          "metadata": {},
          "execution_count": 60
        }
      ],
      "source": [
        "X.shape"
      ]
    },
    {
      "cell_type": "code",
      "execution_count": null,
      "metadata": {
        "colab": {
          "base_uri": "https://localhost:8080/"
        },
        "id": "mJgZ47rJXhhn",
        "outputId": "d4703395-ac3b-4bc9-e52c-1b224119eadc"
      },
      "outputs": [
        {
          "output_type": "execute_result",
          "data": {
            "text/plain": [
              "(1296675,)"
            ]
          },
          "metadata": {},
          "execution_count": 61
        }
      ],
      "source": [
        "y.shape"
      ]
    },
    {
      "cell_type": "markdown",
      "metadata": {
        "id": "Ja33Rp_T6D0E"
      },
      "source": [
        "# SMOTE\n",
        "\n",
        "\n",
        "\n",
        "*   **As the dataset is extremly imbalanced, we will apply oversampling to balance the dataset.**\n",
        "*   **We will try the chosen models on both the imbalanced, and balanced datasets.**\n",
        "\n",
        "\n"
      ]
    },
    {
      "cell_type": "code",
      "execution_count": null,
      "metadata": {
        "colab": {
          "base_uri": "https://localhost:8080/"
        },
        "id": "e3yR8QCrnpjj",
        "outputId": "abe7cbcd-0824-4ee9-afff-da9641710f28"
      },
      "outputs": [
        {
          "output_type": "stream",
          "name": "stdout",
          "text": [
            "Feature/label dataset for training before applying SMOTE:  (1037340, 18) (1037340,)\n",
            "Feature/label dataset for training after applying SMOTE:  (2062688, 18) (2062688,)\n",
            "Distribution of label values after applying SMOTE:\n",
            " 1    1031344\n",
            "0    1031344\n",
            "Name: is_fraud, dtype: int64\n"
          ]
        }
      ],
      "source": [
        "smote = SMOTE(random_state=0)\n",
        "X_train_smote, y_train_smote = smote.fit_resample(X_train, y_train)\n",
        "print('Feature/label dataset for training before applying SMOTE: ', X_train.shape, y_train.shape)\n",
        "print('Feature/label dataset for training after applying SMOTE: ', X_train_smote.shape, y_train_smote.shape)\n",
        "print('Distribution of label values after applying SMOTE:\\n',pd.Series(y_train_smote).value_counts())"
      ]
    },
    {
      "cell_type": "code",
      "execution_count": null,
      "metadata": {
        "colab": {
          "base_uri": "https://localhost:8080/",
          "height": 514
        },
        "id": "DP4gK5LUsFNr",
        "outputId": "9e1c3235-dce7-4cfe-8464-2aec1fd6d705"
      },
      "outputs": [
        {
          "output_type": "display_data",
          "data": {
            "image/png": "[encoded data removed]",
            "text/plain": [
              "<Figure size 720x576 with 1 Axes>"
            ]
          },
          "metadata": {
            "needs_background": "light"
          }
        }
      ],
      "source": [
        "df_SMOTE = pd.concat([X_train_smote, y_train_smote], axis=1)\n",
        "plt.figure(figsize=(10,8))\n",
        "plt.title('Number of fraud transactions after Over-sampling')\n",
        "sns.countplot(x = 'is_fraud', data = df_SMOTE,  palette = 'Set2')\n",
        "plt.show()"
      ]
    },
    {
      "cell_type": "markdown",
      "metadata": {
        "id": "98iBvf9c-VU0"
      },
      "source": [
        "**The dataset is balanced after oversampling**"
      ]
    },
    {
      "cell_type": "markdown",
      "metadata": {
        "id": "RHUJ-0_F6SAJ"
      },
      "source": [
        "# Applying The Models on the Imbalanced Datasets (Without SMOTE):"
      ]
    },
    {
      "cell_type": "code",
      "execution_count": null,
      "metadata": {
        "id": "aAG_X2MtXrUI"
      },
      "outputs": [],
      "source": [
        "def metrics(actuals, predictions):\n",
        "    print(\"Accuracy: {:.5f}\".format(accuracy_score(actuals, predictions)))\n",
        "    print(\"Precision: {:.5f}\".format(precision_score(actuals, predictions)))\n",
        "    print(\"Recall: {:.5f}\".format(recall_score(actuals, predictions)))\n",
        "    print(\"F1-score: {:.5f}\".format(f1_score(actuals, predictions)))"
      ]
    },
    {
      "cell_type": "markdown",
      "metadata": {
        "id": "eBHn3xLo-md0"
      },
      "source": [
        "# 1) Logistic Regression:"
      ]
    },
    {
      "cell_type": "code",
      "execution_count": null,
      "metadata": {
        "colab": {
          "base_uri": "https://localhost:8080/",
          "height": 387
        },
        "id": "vMyocwvUxt3O",
        "outputId": "b4cb94ef-6939-4441-e285-175920ae4246"
      },
      "outputs": [
        {
          "output_type": "stream",
          "name": "stdout",
          "text": [
            "Evaluation of Logistic Regression Model before SMOT\n",
            "Accuracy: 0.99418\n",
            "Precision: 0.00000\n",
            "Recall: 0.00000\n",
            "F1-score: 0.00000\n"
          ]
        },
        {
          "output_type": "execute_result",
          "data": {
            "text/plain": [
              "Text(0.5, 15.0, 'Predicted Label')"
            ]
          },
          "metadata": {},
          "execution_count": 140
        },
        {
          "output_type": "display_data",
          "data": {
            "image/png": "[encoded data removed]",
            "text/plain": [
              "<Figure size 432x288 with 2 Axes>"
            ]
          },
          "metadata": {
            "needs_background": "light"
          }
        }
      ],
      "source": [
        "LR1 = LogisticRegression(solver = 'liblinear', max_iter= 1000)\n",
        "LR1.fit(X_train,y_train)\n",
        "y_pred_LR = LR1.predict(X_test)\n",
        "LR_cnf_matrix = confusion_matrix(y_test, y_pred_LR)\n",
        "print('Evaluation of Logistic Regression Model before SMOT')\n",
        "metrics(y_test, y_pred_LR.round())\n",
        "sns.heatmap(pd.DataFrame(LR_cnf_matrix), annot=True, cmap=\"YlGnBu\", fmt='g')\n",
        "plt.ylabel('Actual Label')\n",
        "plt.xlabel('Predicted Label')"
      ]
    },
    {
      "cell_type": "markdown",
      "metadata": {
        "id": "knygQRcsd7Ds"
      },
      "source": [
        "# Logistic Regression with Feature Selection: RFE"
      ]
    },
    {
      "cell_type": "code",
      "execution_count": null,
      "metadata": {
        "colab": {
          "base_uri": "https://localhost:8080/"
        },
        "id": "Yj61c61dbE0J",
        "outputId": "03ac9662-519b-4312-e14b-b5d3e530d976"
      },
      "outputs": [
        {
          "output_type": "stream",
          "name": "stdout",
          "text": [
            "['zip', 'city_pop', 'unix_time', 'trans_yearN']\n"
          ]
        }
      ],
      "source": [
        "LR = LogisticRegression(solver = 'liblinear', max_iter= 1000)\n",
        "rfe = RFE(estimator= LR, n_features_to_select=4)\n",
        "rfe = rfe.fit(X_train, y_train)\n",
        "selected_features= list(X_train.columns[rfe.support_])\n",
        "\n",
        "# summarize the selection of the attributes\n",
        "print(selected_features)"
      ]
    },
    {
      "cell_type": "code",
      "execution_count": null,
      "metadata": {
        "id": "I-u-KJAyeNCB"
      },
      "outputs": [],
      "source": [
        "#split data based on the choosen features\n",
        "X_RFE = X[selected_features]\n",
        "\n",
        "X_train_RFE, X_test_RFE, y_train_RFE, y_test_RFE = train_test_split(X_RFE, y, test_size = 0.2, random_state = 101)"
      ]
    },
    {
      "cell_type": "code",
      "execution_count": null,
      "metadata": {
        "colab": {
          "base_uri": "https://localhost:8080/",
          "height": 387
        },
        "id": "H9iFEuI3ebT7",
        "outputId": "3a9788e7-f4f3-4df3-ab4d-f237e4b0ad69"
      },
      "outputs": [
        {
          "output_type": "stream",
          "name": "stdout",
          "text": [
            "Evaluation of Logistic Regression with Selected Features Model before SMOT\n",
            "Accuracy: 0.99421\n",
            "Precision: 0.00000\n",
            "Recall: 0.00000\n",
            "F1-score: 0.00000\n"
          ]
        },
        {
          "output_type": "execute_result",
          "data": {
            "text/plain": [
              "Text(0.5, 15.0, 'Predicted Label')"
            ]
          },
          "metadata": {},
          "execution_count": 143
        },
        {
          "output_type": "display_data",
          "data": {
            "image/png": "[encoded data removed]",
            "text/plain": [
              "<Figure size 432x288 with 2 Axes>"
            ]
          },
          "metadata": {
            "needs_background": "light"
          }
        }
      ],
      "source": [
        "#test\n",
        "LR.fit(X_train_RFE,y_train_RFE)\n",
        "y_pred_LR = LR.predict(X_test_RFE)\n",
        "LR_cnf_matrix = confusion_matrix(y_test_RFE, y_pred_LR)\n",
        "print('Evaluation of Logistic Regression with Selected Features Model before SMOT')\n",
        "metrics(y_test_RFE, y_pred_LR.round())\n",
        "sns.heatmap(pd.DataFrame(LR_cnf_matrix), annot=True, cmap=\"YlGnBu\", fmt='g')\n",
        "plt.ylabel('Actual Label')\n",
        "plt.xlabel('Predicted Label')"
      ]
    },
    {
      "cell_type": "markdown",
      "metadata": {
        "id": "S6cQTRrrBu3P"
      },
      "source": [
        "\n",
        "*   **Logistic Regression Model even after Feature Selection didn't perform well on the imbalanced dataset.**\n",
        "\n"
      ]
    },
    {
      "cell_type": "markdown",
      "metadata": {
        "id": "oGDSKyI_dw0D"
      },
      "source": [
        "# Logistic Regression after Hyperparameter Tuning"
      ]
    },
    {
      "cell_type": "code",
      "execution_count": null,
      "metadata": {
        "colab": {
          "base_uri": "https://localhost:8080/",
          "height": 406
        },
        "id": "8k4Kb5ajtGGW",
        "outputId": "3614c0f2-6718-487e-8cc3-7db160d52496"
      },
      "outputs": [
        {
          "output_type": "stream",
          "name": "stdout",
          "text": [
            "Evaluation of Logistic Regression Model before SMOT\n",
            "\n",
            "Accuracy: 0.99354\n",
            "Precision: 0.00000\n",
            "Recall: 0.00000\n",
            "F1-score: 0.00000\n"
          ]
        },
        {
          "output_type": "execute_result",
          "data": {
            "text/plain": [
              "Text(0.5, 15.0, 'Predicted Label')"
            ]
          },
          "metadata": {},
          "execution_count": 144
        },
        {
          "output_type": "display_data",
          "data": {
            "image/png": "[encoded data removed]",
            "text/plain": [
              "<Figure size 432x288 with 2 Axes>"
            ]
          },
          "metadata": {
            "needs_background": "light"
          }
        }
      ],
      "source": [
        "from sklearn.linear_model import LogisticRegression\n",
        "LR = LogisticRegression(solver = 'newton-cg', penalty = 'l2', C = 0.1)\n",
        "LR.fit(X_train,y_train)\n",
        "y_train_pred = LR.predict(X_train)\n",
        "y_test_pred = LR.predict(X_test)\n",
        "LR_cnf_matrix = confusion_matrix(y_test, y_test_pred)\n",
        "print('Evaluation of Logistic Regression Model before SMOT')\n",
        "print()\n",
        "metrics(y_test, y_test_pred.round())\n",
        "LR_f1_score = f1_score(y_test, y_test_pred)\n",
        "sns.heatmap(pd.DataFrame(LR_cnf_matrix), annot=True, cmap=\"YlGnBu\", fmt='g')\n",
        "plt.ylabel('Actual Label')\n",
        "plt.xlabel('Predicted Label')"
      ]
    },
    {
      "cell_type": "markdown",
      "metadata": {
        "id": "FEIlkNJqJdxr"
      },
      "source": [
        "# **Testing Logistic Regression Model on Fraud_test.csv**"
      ]
    },
    {
      "cell_type": "code",
      "execution_count": null,
      "metadata": {
        "colab": {
          "base_uri": "https://localhost:8080/",
          "height": 387
        },
        "id": "giv-tEdPJdxs",
        "outputId": "598cb956-5ef8-4d3d-d6b0-87bae50936ae"
      },
      "outputs": [
        {
          "output_type": "stream",
          "name": "stdout",
          "text": [
            "Evaluation of Decision Tree Classifier Model before SMOT on Fraud_test.csv\n",
            "Accuracy: 0.99552\n",
            "Precision: 0.00000\n",
            "Recall: 0.00000\n",
            "F1-score: 0.00000\n"
          ]
        },
        {
          "output_type": "execute_result",
          "data": {
            "text/plain": [
              "Text(0.5, 15.0, 'Predicted Label')"
            ]
          },
          "metadata": {},
          "execution_count": 145
        },
        {
          "output_type": "display_data",
          "data": {
            "image/png": "[encoded data removed]",
            "text/plain": [
              "<Figure size 432x288 with 2 Axes>"
            ]
          },
          "metadata": {
            "needs_background": "light"
          }
        }
      ],
      "source": [
        "y_pred_T = LR.predict(X_T)\n",
        "cnf_matrix = confusion_matrix(y_T, y_pred_T)\n",
        "print('Evaluation of Decision Tree Classifier Model before SMOT on Fraud_test.csv')\n",
        "metrics(y_T, y_pred_T.round())\n",
        "sns.heatmap(pd.DataFrame(cnf_matrix), annot=True, cmap=\"YlGnBu\", fmt='g')\n",
        "plt.ylabel('Actual Label')\n",
        "plt.xlabel('Predicted Label')"
      ]
    },
    {
      "cell_type": "markdown",
      "metadata": {
        "id": "Ev45Slg2F2KQ"
      },
      "source": [
        "# 2) Decision Tree Classifier"
      ]
    },
    {
      "cell_type": "code",
      "execution_count": null,
      "metadata": {
        "colab": {
          "base_uri": "https://localhost:8080/",
          "height": 387
        },
        "id": "rlpL44UP--Pz",
        "outputId": "6cf7bb79-c1c8-4c95-8cca-dab609e44836"
      },
      "outputs": [
        {
          "output_type": "stream",
          "name": "stdout",
          "text": [
            "Evaluation of Decision Tree Classifier Model before SMOT\n",
            "Accuracy: 0.99780\n",
            "Precision: 0.79597\n",
            "Recall: 0.83709\n",
            "F1-score: 0.81601\n"
          ]
        },
        {
          "output_type": "execute_result",
          "data": {
            "text/plain": [
              "Text(0.5, 15.0, 'Predicted Label')"
            ]
          },
          "metadata": {},
          "execution_count": 146
        },
        {
          "output_type": "display_data",
          "data": {
            "image/png": "[encoded data removed]",
            "text/plain": [
              "<Figure size 432x288 with 2 Axes>"
            ]
          },
          "metadata": {
            "needs_background": "light"
          }
        }
      ],
      "source": [
        "Model_dt = DecisionTreeClassifier()\n",
        "Model_dt.fit(X_train, y_train)\n",
        "y_pred = Model_dt.predict(X_test)\n",
        "cnf_matrix = confusion_matrix(y_test, y_pred)\n",
        "print('Evaluation of Decision Tree Classifier Model before SMOT')\n",
        "metrics(y_test, y_pred.round())\n",
        "sns.heatmap(pd.DataFrame(cnf_matrix), annot=True, cmap=\"YlGnBu\", fmt='g')\n",
        "plt.ylabel('Actual Label')\n",
        "plt.xlabel('Predicted Label')"
      ]
    },
    {
      "cell_type": "markdown",
      "metadata": {
        "id": "VNbghAksHHua"
      },
      "source": [
        "# Decision Tree Classifier with Hyperparameter Tuning: GridSearchCV"
      ]
    },
    {
      "cell_type": "code",
      "execution_count": null,
      "metadata": {
        "colab": {
          "base_uri": "https://localhost:8080/"
        },
        "id": "TGpc_Z8GBzLy",
        "outputId": "538e784a-792f-4453-a881-06bcacb58bf5"
      },
      "outputs": [
        {
          "name": "stdout",
          "output_type": "stream",
          "text": [
            "Start fitting the data\n"
          ]
        }
      ],
      "source": [
        "clf = tree.DecisionTreeClassifier()\n",
        "print(\"Start fitting the data\")\n",
        "tree_param = [{'criterion': ['entropy', 'gini'], 'max_depth': [2,5,7,10,12]},\n",
        "              {'min_samples_leaf': [2,5,10,12]}]\n",
        "dtree = GridSearchCV(DecisionTreeClassifier(), tree_param, cv=5)\n",
        "\n",
        "dtree.fit(X_train,y_train)\n",
        "predictions2 = dtree.predict(X_test)\n",
        "fscore = f1_score(y_test, predictions2)\n",
        "dtree_score=np.round(fscore*100,2)"
      ]
    },
    {
      "cell_type": "code",
      "execution_count": null,
      "metadata": {
        "colab": {
          "base_uri": "https://localhost:8080/"
        },
        "id": "OB9ruzHCKBl-",
        "outputId": "fe35d7f4-33ca-48e1-eef0-3e71eca50b7d"
      },
      "outputs": [
        {
          "name": "stdout",
          "output_type": "stream",
          "text": [
            "Best Parameters {'criterion': 'entropy', 'max_depth': 10}\n",
            "F1 Score 86.01\n"
          ]
        }
      ],
      "source": [
        "print(f\"Best Parameters {dtree.best_params_}\")\n",
        "print(f\"F1 Score {dtree_score}\")"
      ]
    },
    {
      "cell_type": "markdown",
      "metadata": {
        "id": "FI2AjFJfIZMN"
      },
      "source": [
        "**Building the model using best parameters**"
      ]
    },
    {
      "cell_type": "code",
      "execution_count": null,
      "metadata": {
        "colab": {
          "base_uri": "https://localhost:8080/",
          "height": 387
        },
        "id": "NhIDD9eeIwz8",
        "outputId": "928ba180-948b-42cc-a503-b4a74a256461"
      },
      "outputs": [
        {
          "output_type": "stream",
          "name": "stdout",
          "text": [
            "Evaluation of Decision Tree Classifier Model before SMOT\n",
            "Accuracy: 0.99848\n",
            "Precision: 0.92595\n",
            "Recall: 0.80331\n",
            "F1-score: 0.86028\n"
          ]
        },
        {
          "output_type": "execute_result",
          "data": {
            "text/plain": [
              "Text(0.5, 15.0, 'Predicted Label')"
            ]
          },
          "metadata": {},
          "execution_count": 147
        },
        {
          "output_type": "display_data",
          "data": {
            "image/png": "[encoded data removed]",
            "text/plain": [
              "<Figure size 432x288 with 2 Axes>"
            ]
          },
          "metadata": {
            "needs_background": "light"
          }
        }
      ],
      "source": [
        "Model_dt = DecisionTreeClassifier(criterion= 'entropy', max_depth = 10)\n",
        "Model_dt.fit(X_train, y_train)\n",
        "y_pred = Model_dt.predict(X_test)\n",
        "cnf_matrix = confusion_matrix(y_test, y_pred)\n",
        "print('Evaluation of Decision Tree Classifier Model before SMOT')\n",
        "metrics(y_test, y_pred.round())\n",
        "sns.heatmap(pd.DataFrame(cnf_matrix), annot=True, cmap=\"YlGnBu\", fmt='g')\n",
        "plt.ylabel('Actual Label')\n",
        "plt.xlabel('Predicted Label')"
      ]
    },
    {
      "cell_type": "markdown",
      "metadata": {
        "id": "p3xeO1qAI6VA"
      },
      "source": [
        "# **Testing Decision Tree Classifier Model on Fraud_test.csv**"
      ]
    },
    {
      "cell_type": "code",
      "execution_count": null,
      "metadata": {
        "colab": {
          "base_uri": "https://localhost:8080/",
          "height": 387
        },
        "id": "LNbx-6XWJDOL",
        "outputId": "73e64848-c984-4c0f-d331-a4018178c8b3"
      },
      "outputs": [
        {
          "output_type": "stream",
          "name": "stdout",
          "text": [
            "Evaluation of Decision Tree Classifier Model before SMOT on Fraud_test.csv\n",
            "Accuracy: 0.99872\n",
            "Precision: 0.87837\n",
            "Recall: 0.77436\n",
            "F1-score: 0.82309\n"
          ]
        },
        {
          "output_type": "execute_result",
          "data": {
            "text/plain": [
              "Text(0.5, 15.0, 'Predicted Label')"
            ]
          },
          "metadata": {},
          "execution_count": 148
        },
        {
          "output_type": "display_data",
          "data": {
            "image/png": "[encoded data removed]",
            "text/plain": [
              "<Figure size 432x288 with 2 Axes>"
            ]
          },
          "metadata": {
            "needs_background": "light"
          }
        }
      ],
      "source": [
        "y_pred_T = Model_dt.predict(X_T)\n",
        "cnf_matrix = confusion_matrix(y_T, y_pred_T)\n",
        "print('Evaluation of Decision Tree Classifier Model before SMOT on Fraud_test.csv')\n",
        "metrics(y_T, y_pred_T.round())\n",
        "sns.heatmap(pd.DataFrame(cnf_matrix), annot=True, cmap=\"YlGnBu\", fmt='g')\n",
        "plt.ylabel('Actual Label')\n",
        "plt.xlabel('Predicted Label')"
      ]
    },
    {
      "cell_type": "markdown",
      "metadata": {
        "id": "cyg8Wv56cN6V"
      },
      "source": [
        "# 3) Random Forest"
      ]
    },
    {
      "cell_type": "code",
      "execution_count": null,
      "metadata": {
        "colab": {
          "base_uri": "https://localhost:8080/",
          "height": 387
        },
        "id": "mkN7nuzUcQpS",
        "outputId": "a29aa411-2c4d-4f8b-e248-791165e4e0c1"
      },
      "outputs": [
        {
          "output_type": "stream",
          "name": "stdout",
          "text": [
            "Evaluation of Random Forest Model before SMOT\n",
            "Accuracy: 0.99851\n",
            "Precision: 0.97386\n",
            "Recall: 0.76490\n",
            "F1-score: 0.85682\n"
          ]
        },
        {
          "output_type": "execute_result",
          "data": {
            "text/plain": [
              "Text(0.5, 15.0, 'Predicted Label')"
            ]
          },
          "metadata": {},
          "execution_count": 149
        },
        {
          "output_type": "display_data",
          "data": {
            "image/png": "[encoded data removed]",
            "text/plain": [
              "<Figure size 432x288 with 2 Axes>"
            ]
          },
          "metadata": {
            "needs_background": "light"
          }
        }
      ],
      "source": [
        "rf = RandomForestClassifier()\n",
        "rf.fit(X_train, y_train)\n",
        "y_pred = rf.predict(X_test)\n",
        "rf_cnf_matrix = confusion_matrix(y_test, y_pred)\n",
        "print('Evaluation of Random Forest Model before SMOT')\n",
        "metrics(y_test, y_pred.round())\n",
        "rf_f1_score = f1_score(y_test, y_pred)\n",
        "sns.heatmap(pd.DataFrame(rf_cnf_matrix), annot=True, cmap=\"YlGnBu\", fmt='g')\n",
        "plt.ylabel('Actual Label')\n",
        "plt.xlabel('Predicted Label')"
      ]
    },
    {
      "cell_type": "code",
      "execution_count": null,
      "metadata": {
        "id": "j1A63UNDniO5"
      },
      "outputs": [],
      "source": []
    },
    {
      "cell_type": "markdown",
      "metadata": {
        "id": "78WNCzsjMIts"
      },
      "source": [
        "# Random Forest with Hyperparameter Tuning: GridSearchCV"
      ]
    },
    {
      "cell_type": "code",
      "execution_count": null,
      "metadata": {
        "colab": {
          "base_uri": "https://localhost:8080/"
        },
        "id": "8g7Bc2qeRaS7",
        "outputId": "9a5d77ac-1d00-4ea1-a287-64a2bc75bd41"
      },
      "outputs": [
        {
          "name": "stdout",
          "output_type": "stream",
          "text": [
            "Fitting 3 folds for each of 320 candidates, totalling 960 fits\n"
          ]
        }
      ],
      "source": [
        "# Create the parameter grid based on the results of random search \n",
        "param_grid = {\n",
        "    'bootstrap': [True],\n",
        "    'max_depth': [10,15],\n",
        "    'max_features': [2, 3],\n",
        "    'min_samples_leaf': [3, 4, 5,6],\n",
        "    'min_samples_split': [3,4,5,6],\n",
        "    'n_estimators': [1150, 1200, 1250, 1300,1350]\n",
        "}\n",
        "# Create a based model\n",
        "rf1 = RandomForestClassifier()\n",
        "# Instantiate the grid search model\n",
        "grid_search = GridSearchCV(estimator = rf1, param_grid = param_grid, \n",
        "                          cv = 3, n_jobs = -1, verbose = 2)\n",
        "\n",
        "# Fit the grid search to the data\n",
        "grid_search.fit(X_train,y_train)\n"
      ]
    },
    {
      "cell_type": "code",
      "execution_count": null,
      "metadata": {
        "id": "-jZd9Y8FRHHZ"
      },
      "outputs": [],
      "source": [
        "grid_search.best_params_"
      ]
    },
    {
      "cell_type": "markdown",
      "metadata": {
        "id": "bsqnmeCAMItt"
      },
      "source": [
        "# **Testing Random Forest Classifier Model on Fraud_test.csv**"
      ]
    },
    {
      "cell_type": "code",
      "execution_count": null,
      "metadata": {
        "colab": {
          "base_uri": "https://localhost:8080/",
          "height": 387
        },
        "id": "4Q5wTRCgMItt",
        "outputId": "ec2a0c81-a0bc-4f75-93d5-c01658daaf13"
      },
      "outputs": [
        {
          "output_type": "stream",
          "name": "stdout",
          "text": [
            "Evaluation of Decision Tree Classifier Model before SMOT on Fraud_test.csv\n",
            "Accuracy: 0.99856\n",
            "Precision: 0.95964\n",
            "Recall: 0.65408\n",
            "F1-score: 0.77793\n"
          ]
        },
        {
          "output_type": "execute_result",
          "data": {
            "text/plain": [
              "Text(0.5, 15.0, 'Predicted Label')"
            ]
          },
          "metadata": {},
          "execution_count": 150
        },
        {
          "output_type": "display_data",
          "data": {
            "image/png": "[encoded data removed]",
            "text/plain": [
              "<Figure size 432x288 with 2 Axes>"
            ]
          },
          "metadata": {
            "needs_background": "light"
          }
        }
      ],
      "source": [
        "y_pred_T = rf.predict(X_T)\n",
        "cnf_matrix = confusion_matrix(y_T, y_pred_T)\n",
        "print('Evaluation of Decision Tree Classifier Model before SMOT on Fraud_test.csv')\n",
        "metrics(y_T, y_pred_T.round())\n",
        "sns.heatmap(pd.DataFrame(cnf_matrix), annot=True, cmap=\"YlGnBu\", fmt='g')\n",
        "plt.ylabel('Actual Label')\n",
        "plt.xlabel('Predicted Label')"
      ]
    },
    {
      "cell_type": "code",
      "source": [],
      "metadata": {
        "id": "CN869fIPn08D"
      },
      "execution_count": null,
      "outputs": []
    },
    {
      "cell_type": "markdown",
      "metadata": {
        "id": "W78IzfxAn1Pp"
      },
      "source": [
        "# 4) AdaBoost"
      ]
    },
    {
      "cell_type": "code",
      "execution_count": null,
      "metadata": {
        "colab": {
          "base_uri": "https://localhost:8080/",
          "height": 383
        },
        "outputId": "72c76d2d-e4fe-4178-f5e5-5de5cc33b3d1",
        "id": "wTAYaKoXn1Pq"
      },
      "outputs": [
        {
          "output_type": "stream",
          "name": "stdout",
          "text": [
            "Evaluation of Random Forest Model before SMOT\n",
            "Accuracy: 0.99598\n",
            "Precision: 0.75408\n",
            "Recall: 0.45894\n",
            "F1-score: 0.57061\n"
          ]
        },
        {
          "output_type": "execute_result",
          "data": {
            "text/plain": [
              "Text(0.5, 15.0, 'Predicted Label')"
            ]
          },
          "metadata": {},
          "execution_count": 66
        },
        {
          "output_type": "display_data",
          "data": {
            "image/png": "[encoded data removed]",
            "text/plain": [
              "<Figure size 432x288 with 2 Axes>"
            ]
          },
          "metadata": {
            "needs_background": "light"
          }
        }
      ],
      "source": [
        "from sklearn.ensemble import AdaBoostClassifier # Adaptive Boosting Classifier\n",
        "adabc = AdaBoostClassifier(DecisionTreeClassifier(max_depth=1),n_estimators=200)\n",
        "adabc.fit(X_train, y_train)\n",
        "y_pred = adabc.predict(X_test)\n",
        "rf_cnf_matrix = confusion_matrix(y_test, y_pred)\n",
        "print('Evaluation of Random Forest Model before SMOT')\n",
        "metrics(y_test, y_pred.round())\n",
        "rf_f1_score = f1_score(y_test, y_pred)\n",
        "sns.heatmap(pd.DataFrame(rf_cnf_matrix), annot=True, cmap=\"YlGnBu\", fmt='g')\n",
        "plt.ylabel('Actual Label')\n",
        "plt.xlabel('Predicted Label')\n",
        "\n"
      ]
    },
    {
      "cell_type": "markdown",
      "metadata": {
        "id": "78TWr3MIn1Pq"
      },
      "source": [
        "# **Testing AdaBoost Classifier Model on Fraud_test.csv**"
      ]
    },
    {
      "cell_type": "code",
      "execution_count": null,
      "metadata": {
        "colab": {
          "base_uri": "https://localhost:8080/",
          "height": 383
        },
        "outputId": "da443796-5ed5-425f-c4fe-dbb18d581fbc",
        "id": "Kwqnh3C3n1Pq"
      },
      "outputs": [
        {
          "output_type": "stream",
          "name": "stdout",
          "text": [
            "Evaluation of Decision Tree Classifier Model before SMOT on Fraud_test.csv\n",
            "Accuracy: 0.99691\n",
            "Precision: 0.61489\n",
            "Recall: 0.53147\n",
            "F1-score: 0.57014\n"
          ]
        },
        {
          "output_type": "execute_result",
          "data": {
            "text/plain": [
              "Text(0.5, 15.0, 'Predicted Label')"
            ]
          },
          "metadata": {},
          "execution_count": 67
        },
        {
          "output_type": "display_data",
          "data": {
            "image/png": "[encoded data removed]",
            "text/plain": [
              "<Figure size 432x288 with 2 Axes>"
            ]
          },
          "metadata": {
            "needs_background": "light"
          }
        }
      ],
      "source": [
        "y_pred_T = adabc.predict(X_T)\n",
        "cnf_matrix = confusion_matrix(y_T, y_pred_T)\n",
        "print('Evaluation of Decision Tree Classifier Model before SMOT on Fraud_test.csv')\n",
        "metrics(y_T, y_pred_T.round())\n",
        "sns.heatmap(pd.DataFrame(cnf_matrix), annot=True, cmap=\"YlGnBu\", fmt='g')\n",
        "plt.ylabel('Actual Label')\n",
        "plt.xlabel('Predicted Label')"
      ]
    },
    {
      "cell_type": "code",
      "source": [],
      "metadata": {
        "id": "uLyS8vzepJM7"
      },
      "execution_count": null,
      "outputs": []
    },
    {
      "cell_type": "markdown",
      "metadata": {
        "id": "rb8XASkRpJmT"
      },
      "source": [
        "# 5) Bagging"
      ]
    },
    {
      "cell_type": "code",
      "execution_count": null,
      "metadata": {
        "id": "sVSkE92ZpJmT",
        "colab": {
          "base_uri": "https://localhost:8080/",
          "height": 383
        },
        "outputId": "3ea8f43b-9de9-4949-87bc-358bd59297db"
      },
      "outputs": [
        {
          "output_type": "stream",
          "name": "stdout",
          "text": [
            "Evaluation of Random Forest Model before SMOT\n",
            "Accuracy: 0.99871\n",
            "Precision: 0.94677\n",
            "Recall: 0.82450\n",
            "F1-score: 0.88142\n"
          ]
        },
        {
          "output_type": "execute_result",
          "data": {
            "text/plain": [
              "Text(0.5, 15.0, 'Predicted Label')"
            ]
          },
          "metadata": {},
          "execution_count": 65
        },
        {
          "output_type": "display_data",
          "data": {
            "image/png": "[encoded data removed]",
            "text/plain": [
              "<Figure size 432x288 with 2 Axes>"
            ]
          },
          "metadata": {
            "needs_background": "light"
          }
        }
      ],
      "source": [
        "from sklearn.ensemble import BaggingClassifier # Bootstrap Aggregating Classifier\n",
        "bgc = BaggingClassifier(DecisionTreeClassifier(),n_estimators=200)\n",
        "bgc.fit(X_train, y_train)\n",
        "y_pred = bgc.predict(X_test)\n",
        "rf_cnf_matrix = confusion_matrix(y_test, y_pred)\n",
        "print('Evaluation of Random Forest Model before SMOT')\n",
        "metrics(y_test, y_pred.round())\n",
        "rf_f1_score = f1_score(y_test, y_pred)\n",
        "sns.heatmap(pd.DataFrame(rf_cnf_matrix), annot=True, cmap=\"YlGnBu\", fmt='g')\n",
        "plt.ylabel('Actual Label')\n",
        "plt.xlabel('Predicted Label')\n"
      ]
    },
    {
      "cell_type": "markdown",
      "metadata": {
        "id": "qS-VICAIpJmT"
      },
      "source": [
        "# **Testing Bagging Classifier Model on Fraud_test.csv**"
      ]
    },
    {
      "cell_type": "code",
      "execution_count": null,
      "metadata": {
        "colab": {
          "base_uri": "https://localhost:8080/",
          "height": 383
        },
        "outputId": "232fe297-2715-4f01-dc57-1603aa613722",
        "id": "ZTXOJUm0pJmT"
      },
      "outputs": [
        {
          "output_type": "stream",
          "name": "stdout",
          "text": [
            "Evaluation of bagging Classifier Model before SMOT on Fraud_test.csv\n",
            "Accuracy: 0.99870\n",
            "Precision: 0.86649\n",
            "Recall: 0.78368\n",
            "F1-score: 0.82301\n"
          ]
        },
        {
          "output_type": "execute_result",
          "data": {
            "text/plain": [
              "Text(0.5, 15.0, 'Predicted Label')"
            ]
          },
          "metadata": {},
          "execution_count": 66
        },
        {
          "output_type": "display_data",
          "data": {
            "image/png": "[encoded data removed]",
            "text/plain": [
              "<Figure size 432x288 with 2 Axes>"
            ]
          },
          "metadata": {
            "needs_background": "light"
          }
        }
      ],
      "source": [
        "y_pred_T = bgc.predict(X_T)\n",
        "cnf_matrix = confusion_matrix(y_T, y_pred_T)\n",
        "print('Evaluation of bagging Classifier Model before SMOT on Fraud_test.csv')\n",
        "metrics(y_T, y_pred_T.round())\n",
        "sns.heatmap(pd.DataFrame(cnf_matrix), annot=True, cmap=\"YlGnBu\", fmt='g')\n",
        "plt.ylabel('Actual Label')\n",
        "plt.xlabel('Predicted Label')"
      ]
    },
    {
      "cell_type": "markdown",
      "metadata": {
        "id": "MkMTU_L-U1Y3"
      },
      "source": [
        "\n",
        "\n",
        "---\n",
        "\n",
        "---\n",
        "\n",
        "\n",
        "\n",
        "---\n",
        "\n",
        "\n",
        "\n"
      ]
    },
    {
      "cell_type": "markdown",
      "metadata": {
        "id": "vGuodGpnSz8Z"
      },
      "source": [
        "# Applying The Models on the Balanced Datasets (With SMOTE):"
      ]
    },
    {
      "cell_type": "markdown",
      "metadata": {
        "id": "Zn2O7UuiSz8Z"
      },
      "source": [
        "# 1) Logistic Regression:"
      ]
    },
    {
      "cell_type": "code",
      "execution_count": null,
      "metadata": {
        "colab": {
          "base_uri": "https://localhost:8080/",
          "height": 387
        },
        "id": "f7O7PrtSyb81",
        "outputId": "5176bab4-02ee-480f-bac7-17407af6c8ca"
      },
      "outputs": [
        {
          "output_type": "stream",
          "name": "stdout",
          "text": [
            "Evaluation of Logistic Regression Model after SMOT\n",
            "Accuracy: 0.95482\n",
            "Precision: 0.09142\n",
            "Recall: 0.75629\n",
            "F1-score: 0.16312\n"
          ]
        },
        {
          "output_type": "execute_result",
          "data": {
            "text/plain": [
              "Text(0.5, 15.0, 'Predicted Label')"
            ]
          },
          "metadata": {},
          "execution_count": 151
        },
        {
          "output_type": "display_data",
          "data": {
            "image/png": "[encoded data removed]",
            "text/plain": [
              "<Figure size 432x288 with 2 Axes>"
            ]
          },
          "metadata": {
            "needs_background": "light"
          }
        }
      ],
      "source": [
        "LRS = LogisticRegression(solver = 'liblinear', max_iter= 1000)\n",
        "LRS.fit(X_train_smote,y_train_smote)\n",
        "y_pred_LRS = LRS.predict(X_test)\n",
        "LRS_cnf_matrix = confusion_matrix(y_test, y_pred_LRS)\n",
        "print('Evaluation of Logistic Regression Model after SMOT')\n",
        "metrics(y_test, y_pred_LRS.round())\n",
        "sns.heatmap(pd.DataFrame(LRS_cnf_matrix), annot=True, cmap=\"YlGnBu\", fmt='g')\n",
        "plt.ylabel('Actual Label')\n",
        "plt.xlabel('Predicted Label')"
      ]
    },
    {
      "cell_type": "code",
      "execution_count": null,
      "metadata": {
        "colab": {
          "base_uri": "https://localhost:8080/"
        },
        "id": "m4PkcHcw_PSY",
        "outputId": "d984ddcf-560f-4c09-8b03-de0bd1a20f26"
      },
      "outputs": [
        {
          "name": "stdout",
          "output_type": "stream",
          "text": [
            "Best: 0.883606 using {'solver': 'newton-cg', 'penalty': 'l2', 'C': 0.1}\n",
            "0.511745 (0.000755) with: {'solver': 'lbfgs', 'penalty': 'l2', 'C': 0.01}\n",
            "0.883568 (0.000385) with: {'solver': 'newton-cg', 'penalty': 'l2', 'C': 1.0}\n",
            "0.511745 (0.000755) with: {'solver': 'lbfgs', 'penalty': 'l2', 'C': 10}\n",
            "0.511745 (0.000755) with: {'solver': 'lbfgs', 'penalty': 'l2', 'C': 0.1}\n",
            "0.883606 (0.000400) with: {'solver': 'newton-cg', 'penalty': 'l2', 'C': 0.1}\n",
            "0.883575 (0.000388) with: {'solver': 'newton-cg', 'penalty': 'l2', 'C': 0.01}\n",
            "0.883112 (0.000478) with: {'solver': 'liblinear', 'penalty': 'l2', 'C': 10}\n",
            "0.883102 (0.000406) with: {'solver': 'liblinear', 'penalty': 'l2', 'C': 1.0}\n",
            "0.883584 (0.000452) with: {'solver': 'newton-cg', 'penalty': 'l2', 'C': 10}\n",
            "0.511745 (0.000755) with: {'solver': 'lbfgs', 'penalty': 'l2', 'C': 1.0}\n"
          ]
        }
      ],
      "source": [
        "from sklearn.model_selection import RepeatedStratifiedKFold\n",
        "from sklearn.model_selection import RandomizedSearchCV\n",
        "from scipy.stats import uniform\n",
        "solvers = ['newton-cg', 'lbfgs', 'liblinear']\n",
        "penalty = ['l2']\n",
        "c_values = [100, 10, 1.0, 0.1, 0.01]\n",
        "# define grid search\n",
        "grid = dict(solver=solvers,penalty=penalty,C=c_values)\n",
        "cv = RepeatedStratifiedKFold(n_splits=5, n_repeats=1, random_state=1)\n",
        "grid_search = RandomizedSearchCV(estimator = LR, param_distributions=grid, n_jobs=-1, cv=cv, scoring='accuracy',error_score=0)\n",
        "grid_result = grid_search.fit(X_train_smote, y_train_smote)\n",
        "# summarize results\n",
        "print(\"Best: %f using %s\" % (grid_result.best_score_, grid_result.best_params_))\n",
        "means = grid_result.cv_results_['mean_test_score']\n",
        "stds = grid_result.cv_results_['std_test_score']\n",
        "params = grid_result.cv_results_['params']\n",
        "for mean, stdev, param in zip(means, stds, params):\n",
        "    print(\"%f (%f) with: %r\" % (mean, stdev, param))"
      ]
    },
    {
      "cell_type": "markdown",
      "metadata": {
        "id": "FPazfl7CSz8a"
      },
      "source": [
        "# **Testing Logistic Regression Model on Fraud_test.csv**"
      ]
    },
    {
      "cell_type": "code",
      "execution_count": null,
      "metadata": {
        "id": "ltq-aX0YpxWr",
        "colab": {
          "base_uri": "https://localhost:8080/",
          "height": 387
        },
        "outputId": "228374be-d861-438d-e682-f4675441efef"
      },
      "outputs": [
        {
          "output_type": "stream",
          "name": "stdout",
          "text": [
            "Evaluation of Decision Tree Classifier Model after SMOT on Fraud_test.csv\n",
            "Accuracy: 0.96678\n",
            "Precision: 0.08160\n",
            "Recall: 0.74172\n",
            "F1-score: 0.14702\n"
          ]
        },
        {
          "output_type": "execute_result",
          "data": {
            "text/plain": [
              "Text(0.5, 15.0, 'Predicted Label')"
            ]
          },
          "metadata": {},
          "execution_count": 152
        },
        {
          "output_type": "display_data",
          "data": {
            "image/png": "[encoded data removed]",
            "text/plain": [
              "<Figure size 432x288 with 2 Axes>"
            ]
          },
          "metadata": {
            "needs_background": "light"
          }
        }
      ],
      "source": [
        "from sklearn.linear_model import LogisticRegression\n",
        "LR = LogisticRegression(solver = 'newton-cg', penalty = 'l2', C = 0.1)\n",
        "LR.fit(X_train_smote,y_train_smote)\n",
        "y_test_pred = LR.predict(X_T)\n",
        "LR_cnf_matrix = confusion_matrix(y_T, y_test_pred)\n",
        "print('Evaluation of Decision Tree Classifier Model after SMOT on Fraud_test.csv')\n",
        "metrics(y_T, y_test_pred.round())\n",
        "sns.heatmap(pd.DataFrame(LR_cnf_matrix), annot=True, cmap=\"YlGnBu\", fmt='g')\n",
        "plt.ylabel('Actual Label')\n",
        "plt.xlabel('Predicted Label')"
      ]
    },
    {
      "cell_type": "markdown",
      "metadata": {
        "id": "4pF73XNTSz8a"
      },
      "source": [
        "# 2) Decision Tree Classifier"
      ]
    },
    {
      "cell_type": "code",
      "execution_count": null,
      "metadata": {
        "id": "zlAp9meyC3lf",
        "colab": {
          "base_uri": "https://localhost:8080/",
          "height": 387
        },
        "outputId": "bfe82afa-e936-4476-c9b8-89488720a7fc"
      },
      "outputs": [
        {
          "output_type": "stream",
          "name": "stdout",
          "text": [
            "Evaluation of Decision Tree Model After SMOT\n",
            "Accuracy: 0.99683\n",
            "Precision: 0.69265\n",
            "Recall: 0.81788\n",
            "F1-score: 0.75008\n"
          ]
        },
        {
          "output_type": "execute_result",
          "data": {
            "text/plain": [
              "Text(0.5, 15.0, 'Predicted Label')"
            ]
          },
          "metadata": {},
          "execution_count": 153
        },
        {
          "output_type": "display_data",
          "data": {
            "image/png": "[encoded data removed]",
            "text/plain": [
              "<Figure size 432x288 with 2 Axes>"
            ]
          },
          "metadata": {
            "needs_background": "light"
          }
        }
      ],
      "source": [
        "dt = DecisionTreeClassifier()\n",
        "dt.fit(X_train_smote, y_train_smote)\n",
        "y_pred = dt.predict(X_test)\n",
        "cnf_matrix = confusion_matrix(y_test, y_pred)\n",
        "print('Evaluation of Decision Tree Model After SMOT')\n",
        "metrics(y_test, y_pred.round())\n",
        "dt_f1_score = f1_score(y_test, y_pred)\n",
        "sns.heatmap(pd.DataFrame(cnf_matrix), annot=True, cmap=\"YlGnBu\", fmt='g')\n",
        "plt.ylabel('Actual Label')\n",
        "plt.xlabel('Predicted Label')"
      ]
    },
    {
      "cell_type": "markdown",
      "metadata": {
        "id": "sHTmzANMSz8a"
      },
      "source": [
        "# Decision Tree Classifier with Hyperparameter Tuning: GridSearchCV"
      ]
    },
    {
      "cell_type": "code",
      "execution_count": null,
      "metadata": {
        "colab": {
          "base_uri": "https://localhost:8080/"
        },
        "id": "zKl9B9XXSz8a",
        "outputId": "2333e4a0-d666-42db-a953-e0767a9c7395"
      },
      "outputs": [
        {
          "output_type": "stream",
          "name": "stdout",
          "text": [
            "Start fitting the data\n"
          ]
        }
      ],
      "source": [
        "clf = tree.DecisionTreeClassifier()\n",
        "print(\"Start fitting the data\")\n",
        "tree_param = [{'criterion': ['entropy', 'gini'], 'max_depth': [2,5,7,10,12, 20, 50, 100, 150]},\n",
        "              {'min_samples_leaf': [2,5,10,12, 20]}]\n",
        "dtree = GridSearchCV(DecisionTreeClassifier(), tree_param, cv=5)\n",
        "\n",
        "dtree.fit(X_train_smote, y_train_smote)\n",
        "predictions2 = dtree.predict(X_test)\n",
        "fscore = f1_score(y_test, predictions2)\n",
        "dtree_score=np.round(fscore*100,2)"
      ]
    },
    {
      "cell_type": "code",
      "execution_count": null,
      "metadata": {
        "colab": {
          "base_uri": "https://localhost:8080/"
        },
        "id": "JciKLMv_Sz8a",
        "outputId": "f91649f0-9798-481b-9ff8-cafa816a6f18"
      },
      "outputs": [
        {
          "output_type": "stream",
          "name": "stdout",
          "text": [
            "Best Parameters {'min_samples_leaf': 2}\n",
            "F1 Score 76.59\n"
          ]
        }
      ],
      "source": [
        "print(f\"Best Parameters {dtree.best_params_}\")\n",
        "print(f\"F1 Score {dtree_score}\")\n"
      ]
    },
    {
      "cell_type": "code",
      "source": [
        "print(f\"Best Parameters {dtree.best_estimator_}\")"
      ],
      "metadata": {
        "colab": {
          "base_uri": "https://localhost:8080/"
        },
        "id": "GVje8lzQPjfV",
        "outputId": "4ddc35d9-8673-4429-f053-209acf6ad357"
      },
      "execution_count": null,
      "outputs": [
        {
          "output_type": "stream",
          "name": "stdout",
          "text": [
            "Best Parameters DecisionTreeClassifier(min_samples_leaf=2)\n"
          ]
        }
      ]
    },
    {
      "cell_type": "markdown",
      "metadata": {
        "id": "AL2YoZ42Sz8a"
      },
      "source": [
        "**Building the model using best parameters**"
      ]
    },
    {
      "cell_type": "code",
      "execution_count": null,
      "metadata": {
        "colab": {
          "base_uri": "https://localhost:8080/",
          "height": 387
        },
        "id": "C4Ura19gSz8a",
        "outputId": "287b791f-f5f9-498b-e2f5-9f4f61b4401b"
      },
      "outputs": [
        {
          "output_type": "stream",
          "name": "stdout",
          "text": [
            "Evaluation of Decision Tree Classifier Model after SMOT and Grid Search\n",
            "Accuracy: 0.99746\n",
            "Precision: 0.76730\n",
            "Recall: 0.80795\n",
            "F1-score: 0.78710\n"
          ]
        },
        {
          "output_type": "execute_result",
          "data": {
            "text/plain": [
              "Text(0.5, 15.0, 'Predicted Label')"
            ]
          },
          "metadata": {},
          "execution_count": 160
        },
        {
          "output_type": "display_data",
          "data": {
            "image/png": "[encoded data removed]",
            "text/plain": [
              "<Figure size 432x288 with 2 Axes>"
            ]
          },
          "metadata": {
            "needs_background": "light"
          }
        }
      ],
      "source": [
        "Model_dt_S = DecisionTreeClassifier(criterion= 'entropy', max_depth = 150, min_samples_leaf=2)\n",
        "Model_dt_S.fit(X_train_smote, y_train_smote)\n",
        "y_pred = Model_dt_S.predict(X_test)\n",
        "cnf_matrix = confusion_matrix(y_test, y_pred)\n",
        "print('Evaluation of Decision Tree Classifier Model after SMOT and Grid Search')\n",
        "metrics(y_test, y_pred.round())\n",
        "sns.heatmap(pd.DataFrame(cnf_matrix), annot=True, cmap=\"YlGnBu\", fmt='g')\n",
        "plt.ylabel('Actual Label')\n",
        "plt.xlabel('Predicted Label')"
      ]
    },
    {
      "cell_type": "markdown",
      "metadata": {
        "id": "VSf7XjgpSz8b"
      },
      "source": [
        "# **Testing Decision Tree Classifier Model on Fraud_test.csv**"
      ]
    },
    {
      "cell_type": "code",
      "execution_count": null,
      "metadata": {
        "colab": {
          "base_uri": "https://localhost:8080/",
          "height": 387
        },
        "id": "A9w6DFanSz8b",
        "outputId": "10e8efd1-d4ac-41a2-bd85-773a4c5d9107"
      },
      "outputs": [
        {
          "output_type": "stream",
          "name": "stdout",
          "text": [
            "Evaluation of Decision Tree Classifier Model after SMOT on Fraud_test.csv\n",
            "Accuracy: 0.99698\n",
            "Precision: 0.58432\n",
            "Recall: 0.75758\n",
            "F1-score: 0.65976\n"
          ]
        },
        {
          "output_type": "execute_result",
          "data": {
            "text/plain": [
              "Text(0.5, 15.0, 'Predicted Label')"
            ]
          },
          "metadata": {},
          "execution_count": 161
        },
        {
          "output_type": "display_data",
          "data": {
            "image/png": "[encoded data removed]",
            "text/plain": [
              "<Figure size 432x288 with 2 Axes>"
            ]
          },
          "metadata": {
            "needs_background": "light"
          }
        }
      ],
      "source": [
        "y_pred_T = Model_dt_S.predict(X_T)\n",
        "cnf_matrix = confusion_matrix(y_T, y_pred_T)\n",
        "print('Evaluation of Decision Tree Classifier Model after SMOT on Fraud_test.csv')\n",
        "metrics(y_T, y_pred_T.round())\n",
        "sns.heatmap(pd.DataFrame(cnf_matrix), annot=True, cmap=\"YlGnBu\", fmt='g')\n",
        "plt.ylabel('Actual Label')\n",
        "plt.xlabel('Predicted Label')"
      ]
    },
    {
      "cell_type": "code",
      "source": [
        "y_pred_T = dt.predict(X_T)\n",
        "cnf_matrix = confusion_matrix(y_T, y_pred_T)\n",
        "print('Evaluation of Decision Tree Classifier Model after SMOT on Fraud_test.csv Without GridSearch')\n",
        "metrics(y_T, y_pred_T.round())\n",
        "sns.heatmap(pd.DataFrame(cnf_matrix), annot=True, cmap=\"YlGnBu\", fmt='g')\n",
        "plt.ylabel('Actual Label')\n",
        "plt.xlabel('Predicted Label')"
      ],
      "metadata": {
        "colab": {
          "base_uri": "https://localhost:8080/",
          "height": 387
        },
        "id": "UlwkXJ16RKka",
        "outputId": "0706defa-3755-4e5c-dc55-b42fe0ee7617"
      },
      "execution_count": null,
      "outputs": [
        {
          "output_type": "stream",
          "name": "stdout",
          "text": [
            "Evaluation of Decision Tree Classifier Model after SMOT on Fraud_test.csv Without GridSearch\n",
            "Accuracy: 0.98706\n",
            "Precision: 0.18483\n",
            "Recall: 0.68951\n",
            "F1-score: 0.29151\n"
          ]
        },
        {
          "output_type": "execute_result",
          "data": {
            "text/plain": [
              "Text(0.5, 15.0, 'Predicted Label')"
            ]
          },
          "metadata": {},
          "execution_count": 163
        },
        {
          "output_type": "display_data",
          "data": {
            "image/png": "[encoded data removed]",
            "text/plain": [
              "<Figure size 432x288 with 2 Axes>"
            ]
          },
          "metadata": {
            "needs_background": "light"
          }
        }
      ]
    },
    {
      "cell_type": "markdown",
      "metadata": {
        "id": "ovBFpqg6Sz8b"
      },
      "source": [
        "# 3) Random Forest"
      ]
    },
    {
      "cell_type": "code",
      "execution_count": null,
      "metadata": {
        "colab": {
          "base_uri": "https://localhost:8080/",
          "height": 387
        },
        "id": "etNmwSrVcsUU",
        "outputId": "21234629-f8d9-4afd-d9cf-0162681eb483"
      },
      "outputs": [
        {
          "output_type": "stream",
          "name": "stdout",
          "text": [
            "Evaluation of Random Forest Model After SMOT\n",
            "Accuracy: 0.99819\n",
            "Precision: 0.86994\n",
            "Recall: 0.81060\n",
            "F1-score: 0.83922\n"
          ]
        },
        {
          "output_type": "execute_result",
          "data": {
            "text/plain": [
              "Text(0.5, 15.0, 'Predicted Label')"
            ]
          },
          "metadata": {},
          "execution_count": 164
        },
        {
          "output_type": "display_data",
          "data": {
            "image/png": "[encoded data removed]",
            "text/plain": [
              "<Figure size 432x288 with 2 Axes>"
            ]
          },
          "metadata": {
            "needs_background": "light"
          }
        }
      ],
      "source": [
        "rf_S = RandomForestClassifier()\n",
        "rf_S.fit(X_train_smote, y_train_smote)\n",
        "y_pred = rf_S.predict(X_test)\n",
        "rf_cnf_matrix = confusion_matrix(y_test, y_pred)\n",
        "print('Evaluation of Random Forest Model After SMOT')\n",
        "metrics(y_test, y_pred.round())\n",
        "sns.heatmap(pd.DataFrame(rf_cnf_matrix), annot=True, cmap=\"YlGnBu\", fmt='g')\n",
        "plt.ylabel('Actual Label')\n",
        "plt.xlabel('Predicted Label')"
      ]
    },
    {
      "cell_type": "markdown",
      "metadata": {
        "id": "7qVbmTbcSz8b"
      },
      "source": [
        "# Random Forest with Hyperparameter Tuning: GridSearchCV"
      ]
    },
    {
      "cell_type": "code",
      "execution_count": null,
      "metadata": {
        "colab": {
          "base_uri": "https://localhost:8080/"
        },
        "id": "TMyeKE8NSz8b",
        "outputId": "9a5d77ac-1d00-4ea1-a287-64a2bc75bd41"
      },
      "outputs": [
        {
          "name": "stdout",
          "output_type": "stream",
          "text": [
            "Fitting 3 folds for each of 320 candidates, totalling 960 fits\n"
          ]
        }
      ],
      "source": [
        "# Create the parameter grid based on the results of random search \n",
        "param_grid = {\n",
        "    'bootstrap': [True],\n",
        "    'max_depth': [10,15],\n",
        "    'max_features': [2, 3],\n",
        "    'min_samples_leaf': [3, 4, 5,6],\n",
        "    'min_samples_split': [3,4,5,6],\n",
        "    'n_estimators': [1150, 1200, 1250, 1300,1350]\n",
        "}\n",
        "# Create a based model\n",
        "rf1 = RandomForestClassifier()\n",
        "# Instantiate the grid search model\n",
        "grid_search = GridSearchCV(estimator = rf1, param_grid = param_grid, \n",
        "                          cv = 3, n_jobs = -1, verbose = 2)\n",
        "\n",
        "# Fit the grid search to the data\n",
        "grid_search.fit(X_train,y_train)\n"
      ]
    },
    {
      "cell_type": "code",
      "execution_count": null,
      "metadata": {
        "id": "A2dGyv-8Sz8b"
      },
      "outputs": [],
      "source": [
        "grid_search.best_params_"
      ]
    },
    {
      "cell_type": "markdown",
      "metadata": {
        "id": "UPzn9PtSSz8b"
      },
      "source": [
        "**Building the model using best parameters**"
      ]
    },
    {
      "cell_type": "markdown",
      "metadata": {
        "id": "E64bd9wRSz8c"
      },
      "source": [
        "# **Testing Random Forest Classifier Model on Fraud_test.csv**"
      ]
    },
    {
      "cell_type": "code",
      "execution_count": null,
      "metadata": {
        "id": "WTWClISrSz8c",
        "colab": {
          "base_uri": "https://localhost:8080/",
          "height": 387
        },
        "outputId": "687da807-a276-4671-9e0d-42a39aae4ce8"
      },
      "outputs": [
        {
          "output_type": "stream",
          "name": "stdout",
          "text": [
            "Evaluation of Decision Tree Classifier Model before SMOT on Fraud_test.csv\n",
            "Accuracy: 0.99812\n",
            "Precision: 0.87791\n",
            "Recall: 0.59674\n",
            "F1-score: 0.71052\n"
          ]
        },
        {
          "output_type": "execute_result",
          "data": {
            "text/plain": [
              "Text(0.5, 15.0, 'Predicted Label')"
            ]
          },
          "metadata": {},
          "execution_count": 165
        },
        {
          "output_type": "display_data",
          "data": {
            "image/png": "[encoded data removed]",
            "text/plain": [
              "<Figure size 432x288 with 2 Axes>"
            ]
          },
          "metadata": {
            "needs_background": "light"
          }
        }
      ],
      "source": [
        "y_pred_T = rf_S.predict(X_T)\n",
        "cnf_matrix = confusion_matrix(y_T, y_pred_T)\n",
        "print('Evaluation of Decision Tree Classifier Model before SMOT on Fraud_test.csv')\n",
        "metrics(y_T, y_pred_T.round())\n",
        "sns.heatmap(pd.DataFrame(cnf_matrix), annot=True, cmap=\"YlGnBu\", fmt='g')\n",
        "plt.ylabel('Actual Label')\n",
        "plt.xlabel('Predicted Label')"
      ]
    },
    {
      "cell_type": "code",
      "source": [],
      "metadata": {
        "id": "K7rIy_6pXCqc"
      },
      "execution_count": null,
      "outputs": []
    },
    {
      "cell_type": "markdown",
      "metadata": {
        "id": "mkLZ6wvrq3sl"
      },
      "source": [
        "# 4) AdaBoost"
      ]
    },
    {
      "cell_type": "code",
      "execution_count": null,
      "metadata": {
        "colab": {
          "base_uri": "https://localhost:8080/",
          "height": 386
        },
        "id": "T40DbECCq3sl",
        "outputId": "2a7ff83e-35d2-4997-e581-fbf831953572"
      },
      "outputs": [
        {
          "output_type": "stream",
          "name": "stdout",
          "text": [
            "Evaluation of Random Forest Model before SMOT\n",
            "Accuracy: 0.97283\n",
            "Precision: 0.14595\n",
            "Recall: 0.75563\n",
            "F1-score: 0.24464\n"
          ]
        },
        {
          "output_type": "execute_result",
          "data": {
            "text/plain": [
              "Text(0.5, 15.0, 'Predicted Label')"
            ]
          },
          "metadata": {},
          "execution_count": 68
        },
        {
          "output_type": "display_data",
          "data": {
            "image/png": "[encoded data removed]",
            "text/plain": [
              "<Figure size 432x288 with 2 Axes>"
            ]
          },
          "metadata": {
            "needs_background": "light"
          }
        }
      ],
      "source": [
        "from sklearn.ensemble import AdaBoostClassifier # Adaptive Boosting Classifier\n",
        "adabc1 = AdaBoostClassifier(DecisionTreeClassifier(max_depth=1),n_estimators=200)\n",
        "adabc1.fit(X_train_smote, y_train_smote)\n",
        "y_pred = adabc1.predict(X_test)\n",
        "rf_cnf_matrix = confusion_matrix(y_test, y_pred)\n",
        "print('Evaluation of Random Forest Model before SMOT')\n",
        "metrics(y_test, y_pred.round())\n",
        "rf_f1_score = f1_score(y_test, y_pred)\n",
        "sns.heatmap(pd.DataFrame(rf_cnf_matrix), annot=True, cmap=\"YlGnBu\", fmt='g')\n",
        "plt.ylabel('Actual Label')\n",
        "plt.xlabel('Predicted Label')\n",
        "\n"
      ]
    },
    {
      "cell_type": "markdown",
      "metadata": {
        "id": "4mRfwpXkq3sl"
      },
      "source": [
        "# **Testing AdaBoost Classifier Model on Fraud_test.csv**"
      ]
    },
    {
      "cell_type": "code",
      "execution_count": null,
      "metadata": {
        "colab": {
          "base_uri": "https://localhost:8080/",
          "height": 383
        },
        "outputId": "8c195e5a-a375-48e8-e2fe-72ab0339c5a1",
        "id": "T7hPqfvGq3sl"
      },
      "outputs": [
        {
          "output_type": "stream",
          "name": "stdout",
          "text": [
            "Evaluation of Decision Tree Classifier Model before SMOT on Fraud_test.csv\n",
            "Accuracy: 0.97625\n",
            "Precision: 0.11124\n",
            "Recall: 0.73706\n",
            "F1-score: 0.19330\n"
          ]
        },
        {
          "output_type": "execute_result",
          "data": {
            "text/plain": [
              "Text(0.5, 15.0, 'Predicted Label')"
            ]
          },
          "metadata": {},
          "execution_count": 70
        },
        {
          "output_type": "display_data",
          "data": {
            "image/png": "[encoded data removed]",
            "text/plain": [
              "<Figure size 432x288 with 2 Axes>"
            ]
          },
          "metadata": {
            "needs_background": "light"
          }
        }
      ],
      "source": [
        "y_pred_T = adabc1.predict(X_T)\n",
        "cnf_matrix = confusion_matrix(y_T, y_pred_T)\n",
        "print('Evaluation of Decision Tree Classifier Model before SMOT on Fraud_test.csv')\n",
        "metrics(y_T, y_pred_T.round())\n",
        "sns.heatmap(pd.DataFrame(cnf_matrix), annot=True, cmap=\"YlGnBu\", fmt='g')\n",
        "plt.ylabel('Actual Label')\n",
        "plt.xlabel('Predicted Label')"
      ]
    },
    {
      "cell_type": "markdown",
      "metadata": {
        "id": "sCog9i0Kq3sl"
      },
      "source": [
        "# 5) Bagging"
      ]
    },
    {
      "cell_type": "code",
      "execution_count": null,
      "metadata": {
        "id": "EZJAEqhjq3sm",
        "colab": {
          "base_uri": "https://localhost:8080/",
          "height": 383
        },
        "outputId": "c4c096f0-a464-46e3-d1cc-970a1dbdd22a"
      },
      "outputs": [
        {
          "output_type": "stream",
          "name": "stdout",
          "text": [
            "Evaluation of bagging Model before SMOT\n",
            "Accuracy: 0.99806\n",
            "Precision: 0.83906\n",
            "Recall: 0.82517\n",
            "F1-score: 0.83205\n"
          ]
        },
        {
          "output_type": "execute_result",
          "data": {
            "text/plain": [
              "Text(0.5, 15.0, 'Predicted Label')"
            ]
          },
          "metadata": {},
          "execution_count": 67
        },
        {
          "output_type": "display_data",
          "data": {
            "image/png": "[encoded data removed]",
            "text/plain": [
              "<Figure size 432x288 with 2 Axes>"
            ]
          },
          "metadata": {
            "needs_background": "light"
          }
        }
      ],
      "source": [
        "from sklearn.ensemble import BaggingClassifier # Bootstrap Aggregating Classifier\n",
        "bgc1 = BaggingClassifier(DecisionTreeClassifier(),n_estimators=200)\n",
        "bgc1.fit(X_train_smote, y_train_smote)\n",
        "y_pred = bgc1.predict(X_test)\n",
        "rf_cnf_matrix = confusion_matrix(y_test, y_pred)\n",
        "print('Evaluation of bagging Model before SMOT')\n",
        "metrics(y_test, y_pred.round())\n",
        "rf_f1_score = f1_score(y_test, y_pred)\n",
        "sns.heatmap(pd.DataFrame(rf_cnf_matrix), annot=True, cmap=\"YlGnBu\", fmt='g')\n",
        "plt.ylabel('Actual Label')\n",
        "plt.xlabel('Predicted Label')\n"
      ]
    },
    {
      "cell_type": "markdown",
      "metadata": {
        "id": "Xi_DSPkpq3sm"
      },
      "source": [
        "# **Testing Bagging Classifier Model on Fraud_test.csv**"
      ]
    },
    {
      "cell_type": "code",
      "execution_count": null,
      "metadata": {
        "colab": {
          "base_uri": "https://localhost:8080/",
          "height": 383
        },
        "outputId": "836ca43e-7085-4e6b-a9f3-c3837b3fa284",
        "id": "KNjhzgTOq3sm"
      },
      "outputs": [
        {
          "output_type": "stream",
          "name": "stdout",
          "text": [
            "Evaluation of bagging Classifier Model after SMOT on Fraud_test.csv\n",
            "Accuracy: 0.99782\n",
            "Precision: 0.71707\n",
            "Recall: 0.72075\n",
            "F1-score: 0.71890\n"
          ]
        },
        {
          "output_type": "execute_result",
          "data": {
            "text/plain": [
              "Text(0.5, 15.0, 'Predicted Label')"
            ]
          },
          "metadata": {},
          "execution_count": 70
        },
        {
          "output_type": "display_data",
          "data": {
            "image/png": "[encoded data removed]",
            "text/plain": [
              "<Figure size 432x288 with 2 Axes>"
            ]
          },
          "metadata": {
            "needs_background": "light"
          }
        }
      ],
      "source": [
        "y_pred_T = bgc1.predict(X_T)\n",
        "cnf_matrix = confusion_matrix(y_T, y_pred_T)\n",
        "print('Evaluation of bagging Classifier Model after SMOT on Fraud_test.csv')\n",
        "metrics(y_T, y_pred_T.round())\n",
        "sns.heatmap(pd.DataFrame(cnf_matrix), annot=True, cmap=\"YlGnBu\", fmt='g')\n",
        "plt.ylabel('Actual Label')\n",
        "plt.xlabel('Predicted Label')"
      ]
    }
  ],
  "metadata": {
    "colab": {
      "provenance": []
    },
    "kernelspec": {
      "display_name": "Python 3",
      "name": "python3"
    },
    "language_info": {
      "name": "python"
    }
  },
  "nbformat": 4,
  "nbformat_minor": 0
}